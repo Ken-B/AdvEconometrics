{
 "cells": [
  {
   "cell_type": "markdown",
   "metadata": {},
   "source": [
    "# Case 4.1 Fixed Effects estimator"
   ]
  },
  {
   "cell_type": "markdown",
   "metadata": {},
   "source": [
    "### Write a Matlab function‘FE.m’ that implements the FE estimator\n",
    "  * Include an option to add time effects\n"
   ]
  },
  {
   "cell_type": "code",
   "execution_count": 6,
   "metadata": {
    "collapsed": false
   },
   "outputs": [
    {
     "name": "stderr",
     "output_type": "stream",
     "text": [
      "WARNING: Method definition (::Type{Main.FE_results})(Any, Any, Any, Any) in module Main at In[1]:4 overwritten at In[6]:4.\n",
      "WARNING: Method definition FE(Any, Any, Any) in module Main at In[1]:11 overwritten at In[6]:11.\n",
      "WARNING: Method definition #FE(Array{Any, 1}, Main.#FE, Any, Any, Any) in module Main overwritten.\n"
     ]
    },
    {
     "data": {
      "text/plain": [
       "FE (generic function with 1 method)"
      ]
     },
     "execution_count": 6,
     "metadata": {},
     "output_type": "execute_result"
    }
   ],
   "source": [
    "using Distributions: TDist, ccdf\n",
    "\n",
    "type FE_results\n",
    "    beta\n",
    "    SE\n",
    "    tstat\n",
    "    pval\n",
    "end\n",
    "\n",
    "function FE(Y, X, time_ind; time_effects=false)\n",
    "    T = Int(maximum(time_ind)-minimum(time_ind)+1) #amount of timesteps\n",
    "    nT = size(X) #total number of observations\n",
    "    N = Int(nT[1]/T) #amount of individuals\n",
    "    k = Int(nT[2]) #amount of parameters to be estimated\n",
    "    D = kron(eye(N),ones(T,1))\n",
    "    P_D = D*inv(D'*D)*D'\n",
    "    M_D = eye(nT[1]) - P_D\n",
    "    y_dev = M_D*Y #deviation from the mean for y\n",
    "    x_dev = M_D*X #deviation from the mean for x\n",
    "    \n",
    "    if time_effects #time effects\n",
    "        time_effect = kron(ones(N,1), eye(T)) #per individual there can be an effect per timestep\n",
    "        x_dev = hcat(x_dev, time_effect)\n",
    "        k = size(x_dev)[2]\n",
    "        \n",
    "    end\n",
    "    dof = nT[1]-N-k #degrees of freedom left over after having individual effects and estimating the k explanatory variables\n",
    "    β̂ = inv(x_dev'*x_dev)*x_dev'*y_dev\n",
    "    residuals = y_dev - x_dev*β̂\n",
    "    σ̂² = (residuals'*residuals)/dof\n",
    "    SE = sqrt(diag(σ̂²[1]*inv(x_dev'*x_dev)))\n",
    "    tstat = β̂ ./ SE\n",
    "    pval  = 2 * ccdf(TDist(dof), abs(tstat))\n",
    "    \n",
    "    FE_results(β̂, SE, tstat, pval)\n",
    "end"
   ]
  },
  {
   "cell_type": "code",
   "execution_count": null,
   "metadata": {
    "collapsed": false
   },
   "outputs": [],
   "source": []
  },
  {
   "cell_type": "code",
   "execution_count": null,
   "metadata": {
    "collapsed": true
   },
   "outputs": [],
   "source": []
  },
  {
   "cell_type": "markdown",
   "metadata": {},
   "source": [
    "## Estimate the dynamic CigDem model in levels using the FE estimator"
   ]
  },
  {
   "cell_type": "code",
   "execution_count": 2,
   "metadata": {
    "collapsed": false
   },
   "outputs": [
    {
     "name": "stdout",
     "output_type": "stream",
     "text": [
      "state\n",
      " year\n",
      " P/pack\n",
      " pop\n",
      " pop16+\n",
      " CPI\n",
      " ndi/capita\n",
      " C/capita\n",
      " Pn/pack\n",
      " ln C_it\n",
      " ln P_it\n",
      " ln Pn_it\n",
      " ln Y_it\n"
     ]
    }
   ],
   "source": [
    "data, header = readcsv(\"Data_Baltagi.csv\", header=true)\n",
    "println.(header);"
   ]
  },
  {
   "cell_type": "markdown",
   "metadata": {},
   "source": [
    "### Because we need to add a lagged value, we will need to delete the rows where year is the minimum value, since this can not be regressed on a lagged value, to do this we will first load the full data and then fill new matrices with the values needed for the lagged regression (hence without year 63 in this example)."
   ]
  },
  {
   "cell_type": "code",
   "execution_count": 3,
   "metadata": {
    "collapsed": false
   },
   "outputs": [],
   "source": [
    "Y_temp = data[:, 10]\n",
    "X_temp = data[:, 11:13]\n",
    "year_temp = data[:,2]\n",
    "state_temp = data[:,1]\n",
    "observations = size(Y_temp)[1]\n",
    "T = maximum(year_temp) - minimum(year_temp)+1 #amount of timesteps\n",
    "N = observations/T\n",
    "#make empty arrays to fill\n",
    "lagged_obs = Int(observations - N) #removing the N*1 observation to get the amount of lagged observations\n",
    "Y = zeros(lagged_obs, 1)\n",
    "Y_lag = zeros(lagged_obs,1)\n",
    "X = zeros(lagged_obs, size(X_temp)[2])\n",
    "year = zeros(lagged_obs)\n",
    "state = zeros(lagged_obs);"
   ]
  },
  {
   "cell_type": "code",
   "execution_count": 4,
   "metadata": {
    "collapsed": false
   },
   "outputs": [],
   "source": [
    "#we fill the data-arrays with the first time period dropped\n",
    "new_i = 1\n",
    "lag_i = 1\n",
    "for i = 1:observations\n",
    "    if year_temp[i] != minimum(year_temp)\n",
    "        Y[new_i] = Y_temp[i]\n",
    "        X[new_i,:] = X_temp[i,:]\n",
    "        year[new_i] = year_temp[i]\n",
    "        state[new_i] = state_temp[i]\n",
    "        new_i += 1\n",
    "    end\n",
    "    if year_temp[i] != maximum(year_temp)\n",
    "        Y_lag[lag_i] = Y_temp[i]\n",
    "        lag_i += 1\n",
    "    end\n",
    "end\n",
    "X = hcat(Y_lag,X);"
   ]
  },
  {
   "cell_type": "code",
   "execution_count": 7,
   "metadata": {
    "collapsed": false
   },
   "outputs": [
    {
     "data": {
      "text/plain": [
       "33×1 Array{Float64,2}:\n",
       "  0.833383  \n",
       " -0.298598  \n",
       "  0.0340454 \n",
       "  0.100279  \n",
       "  0.0263246 \n",
       "  0.0575573 \n",
       "  0.0406944 \n",
       "  0.0448442 \n",
       "  0.0292082 \n",
       "  0.0257447 \n",
       "  0.00460896\n",
       "  0.0502825 \n",
       "  0.0583618 \n",
       "  ⋮         \n",
       " -0.0434015 \n",
       " -0.0524584 \n",
       " -0.0488399 \n",
       " -0.0443597 \n",
       " -0.0149016 \n",
       " -0.0179424 \n",
       " -0.0207784 \n",
       " -0.0264062 \n",
       " -0.0269659 \n",
       " -0.0284895 \n",
       " -0.00926797\n",
       "  0.0190077 "
      ]
     },
     "execution_count": 7,
     "metadata": {},
     "output_type": "execute_result"
    }
   ],
   "source": [
    "FE(Y,X,year; time_effects= true).beta"
   ]
  },
  {
   "cell_type": "code",
   "execution_count": null,
   "metadata": {
    "collapsed": false
   },
   "outputs": [],
   "source": []
  },
  {
   "cell_type": "code",
   "execution_count": null,
   "metadata": {
    "collapsed": true
   },
   "outputs": [],
   "source": []
  }
 ],
 "metadata": {
  "anaconda-cloud": {},
  "kernelspec": {
   "display_name": "Julia 0.5.0",
   "language": "julia",
   "name": "julia-0.5"
  },
  "language_info": {
   "file_extension": ".jl",
   "mimetype": "application/julia",
   "name": "julia",
   "version": "0.5.0"
  }
 },
 "nbformat": 4,
 "nbformat_minor": 1
}
