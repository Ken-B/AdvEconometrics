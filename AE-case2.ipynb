{
 "cells": [
  {
   "cell_type": "markdown",
   "metadata": {},
   "source": [
    "# Case 2: Properties of OLS and simulation methods"
   ]
  },
  {
   "cell_type": "markdown",
   "metadata": {},
   "source": [
    "by Milan Van den Heuvel, Ken Bastiaensen, Gonzalo Villa\n",
    "*Advanced Econometrics 2016-2017."
   ]
  },
  {
   "cell_type": "markdown",
   "metadata": {},
   "source": [
    "Strict set of GM assumptions:\n",
    "* X is deterministic, x is thus fixed over repeated samples\n",
    "* errors $\\mu$ are normally distributed with assumed homoscedastic errors\n",
    "\n",
    "#### Question: *Give the small sample and asymptotic properties of the OLS estimator for $\\beta$ and for the estimator of the standard errors.*\n",
    "\n",
    "Small sample properties:\n",
    "* OLS is the best unbiased estimator\n",
    "* The estimator is normally distributed (stems from the fact that $\\hat{\\beta}$ is linear function of the disturbance vector $\\mu$)\n",
    "* The covariance matrix $\\sigma^2(X'X)^{-1}$ can be estimated with an unbiased estimator of $\\sigma^2$ given by:\n",
    "\n",
    "$$\\hat{\\sigma}^2 = \\frac{\\hat{\\mu}'\\hat{\\mu}}{N-K} = \\frac{y'My}{N-K}$$\n",
    "\n",
    "\n",
    "Asymptotic properties:\n",
    "* same under the GM conditions\n",
    "* $\\bar{x}_N$ assymptotically approaches $N(\\mu,\\frac{\\sigma^2}{N})$"
   ]
  },
  {
   "cell_type": "markdown",
   "metadata": {},
   "source": [
    "# Part 1: Properties of Monte Carlo simulations"
   ]
  },
  {
   "cell_type": "code",
   "execution_count": 1,
   "metadata": {
    "collapsed": false
   },
   "outputs": [],
   "source": [
    "# include functions from file\n",
    "include(\"functions_lib.jl\"); "
   ]
  },
  {
   "cell_type": "code",
   "execution_count": 2,
   "metadata": {
    "collapsed": false
   },
   "outputs": [
    {
     "data": {
      "text/plain": [
       "10000"
      ]
     },
     "execution_count": 2,
     "metadata": {},
     "output_type": "execute_result"
    }
   ],
   "source": [
    "# Note that we can use unicode for identifiers by using latex and tab completion (e.g. \\beta+<TAB>)\n",
    "β₀ = 10\n",
    "β₁ = 1\n",
    "β  = [β₀, β₁]\n",
    "σ² = 1\n",
    "T  = 50 # sample size\n",
    "runs = 10_000 # underscore for readability, doesn't affect number"
   ]
  },
  {
   "cell_type": "markdown",
   "metadata": {},
   "source": [
    "We create a function to run MC simulations:\n",
    "1. specify a population = N(5,2) and draw a sample once to have a deterministic sample.\n",
    "1. simulate y by simulating errors with variance $\\sigma^2$ (= 1 here).\n",
    "1. run ols and store results.\n",
    "1. The 'true' standard errors is the standard deviation over all estimated $\\hat\\beta$ (True SE = $\\sum_{run=0}^{runs} se(\\hat\\beta_{run}$)).\n",
    "1. return true value and mean of estimated for $\\beta$ as well as for its standard error.\n"
   ]
  },
  {
   "cell_type": "code",
   "execution_count": 3,
   "metadata": {
    "collapsed": true
   },
   "outputs": [],
   "source": [
    "using Distributions: Normal, TDist, ccdf, fit"
   ]
  },
  {
   "cell_type": "code",
   "execution_count": 4,
   "metadata": {
    "collapsed": false
   },
   "outputs": [
    {
     "data": {
      "text/plain": [
       "mc_simple (generic function with 1 method)"
      ]
     },
     "execution_count": 4,
     "metadata": {},
     "output_type": "execute_result"
    }
   ],
   "source": [
    "# simple implementation\n",
    "function mc_simple(β, σ², T, runs)\n",
    "    K = length(β)\n",
    "    \n",
    "    # simulate X once, deterministically\n",
    "    X  = hcat(ones(T), rand(Normal(5, 2), T, K-1)) #concatenation of column of ones for the constant terms and the randomly drawn x's for the beta terms \n",
    "    \n",
    "    # variables with mc results\n",
    "    β_mc    = zeros(runs, K)\n",
    "    β_var_mc= zeros(runs, K)\n",
    "\n",
    "    # pre-allocate memory to speed up value-allocation process\n",
    "    Xβ = X * β\n",
    "    μ_dist = Normal(0, √σ²) \n",
    "    \n",
    "    for run = 1:runs\n",
    "        y = Xβ + rand(μ_dist, T)\n",
    "        result = ols(y, X)\n",
    "        \n",
    "        β_mc[run, :] = result.coefs\n",
    "        β_var_mc[run, :] = diag(result.vcv)\n",
    "    end\n",
    "    \n",
    "    return β, mean(β_mc,1), sqrt(mean(β_var_mc,1)), std(β_mc,1)\n",
    "end"
   ]
  },
  {
   "cell_type": "code",
   "execution_count": 5,
   "metadata": {
    "collapsed": false
   },
   "outputs": [
    {
     "data": {
      "text/plain": [
       "([10,1],\n",
       "[10.0006 1.00006],\n",
       "\n",
       "[0.338415 0.0620775],\n",
       "\n",
       "[0.341192 0.0625976])"
      ]
     },
     "execution_count": 5,
     "metadata": {},
     "output_type": "execute_result"
    }
   ],
   "source": [
    "mc_simple(β, σ², T, runs)"
   ]
  },
  {
   "cell_type": "markdown",
   "metadata": {},
   "source": [
    "#### Interlude: Julia speedups\n",
    "You can profile the code to identify possible speedups. We see that most of the time is spent in solving OLS. Because X is deterministic and we only need to factorize it once. Changing this part of the code almost doubles the speed. See the bottom of this notebook."
   ]
  },
  {
   "cell_type": "markdown",
   "metadata": {},
   "source": [
    "### Comparison to true standard errors\n",
    "We see that the mean of the estimated standard errors are close to the 'true' standard errors, even when running only 100 simulations for 25 samples:"
   ]
  },
  {
   "cell_type": "code",
   "execution_count": 6,
   "metadata": {
    "collapsed": false
   },
   "outputs": [
    {
     "name": "stdout",
     "output_type": "stream",
     "text": [
      "For sample size: 25 True_β: [10,1] Est_β: [10.0165 0.997491] True_σ: [0.542967 0.0879833] Est_σ: [0.463739 0.0760987]\n",
      "For sample size: 50 True_β: [10,1] Est_β: [9.99839 0.999259] True_σ: [0.332692 0.062161] Est_σ: [0.303678 0.0541545]\n",
      "For sample size: 100 True_β: [10,1] Est_β: [9.99387 0.999491] True_σ: [0.218675 0.0418844] Est_σ: [0.192082 0.0372891]\n",
      "For sample size: 500 True_β: [10,1] Est_β: [9.99949 1.00009] True_σ: [0.11618 0.0221551] Est_σ: [0.123534 0.0245455]\n"
     ]
    }
   ],
   "source": [
    "for T = [25, 50, 100, 500]\n",
    "    True_β, Est_β, True_σ, Est_σ = mc_simple(β, σ², T, 100)\n",
    "    println(\"For sample size: \", T, \" True_β: \", True_β,\" Est_β: \", Est_β, \" True_σ: \", True_σ, \" Est_σ: \", Est_σ)\n",
    "end"
   ]
  },
  {
   "cell_type": "markdown",
   "metadata": {},
   "source": [
    "From these results we clearly see that under the strict assumptions of Gauss-Markov the OLS estimator for $\\beta$ ($\\hat{\\beta}$) and the estimator for the standard deviation ($\\hat{\\sigma}$) of this estimator are unbiased and very close to the true values. Since the error terms are pulled from a normal distribution and $\\hat{\\beta}$ is a weighted sum of these, it is itself also normally distributed."
   ]
  },
  {
   "cell_type": "markdown",
   "metadata": {},
   "source": [
    "# TODO: We can test normality with , fit(Normal, β_mc[:,1]) but does this make sense? Since it is assumed that the errors are normally distributed"
   ]
  },
  {
   "cell_type": "markdown",
   "metadata": {},
   "source": [
    "### t-test\n",
    "We now perform a t-test for several null hypothesis for $\\beta_1 = 1; 0.9; 0.8$ and this for several sample sizes, we also report the p-values."
   ]
  },
  {
   "cell_type": "markdown",
   "metadata": {},
   "source": [
    "### TODO: what is the power or size of the t-test? Maybe I (Ken) did not understand this correctly."
   ]
  },
  {
   "cell_type": "code",
   "execution_count": 7,
   "metadata": {
    "collapsed": false
   },
   "outputs": [
    {
     "name": "stdout",
     "output_type": "stream",
     "text": [
      "## T = 25 ##\n",
      "β₁=1.0; T-test: 0.0060736090013119685\n",
      "β₁=1.0; P-val: 0.9952041950056328\n",
      "β₁=0.9; T-test: 1.0530422551435958\n",
      "β₁=0.9; P-val: 0.30280873325977387\n",
      "β₁=0.7; T-test: 3.100813639376858\n",
      "β₁=0.7; P-val: 0.0048779905454368255\n",
      "β₁=0.5; T-test: 5.4091483070015665\n",
      "β₁=0.5; P-val: 1.48041689492419e-5\n",
      "## T = 50 ##\n",
      "β₁=1.0; T-test: -0.0025418572173852697\n",
      "β₁=1.0; P-val: 0.9979822140145709\n",
      "β₁=0.9; T-test: 1.2893395023387546\n",
      "β₁=0.9; P-val: 0.20333328273644719\n",
      "β₁=0.7; T-test: 4.646940594556088\n",
      "β₁=0.7; P-val: 2.5658434377650467e-5\n",
      "β₁=0.5; T-test: 6.679799136129635\n",
      "β₁=0.5; P-val: 2.0794038580488235e-8\n",
      "## T = 100 ##\n",
      "β₁=1.0; T-test: 0.0037406686708817277\n",
      "β₁=1.0; P-val: 0.9970229125209689\n",
      "β₁=0.9; T-test: 1.9510889508416305\n",
      "β₁=0.9; P-val: 0.05387316616972994\n",
      "β₁=0.7; T-test: 5.69193558613669\n",
      "β₁=0.7; P-val: 1.2839639062642421e-7\n",
      "β₁=0.5; T-test: 9.667700698816956\n",
      "β₁=0.5; P-val: 5.808007395946908e-16\n",
      "## T = 500 ##\n",
      "β₁=1.0; T-test: -0.012285964121941842\n",
      "β₁=1.0; P-val: 0.9902023758702949\n",
      "β₁=0.9; T-test: 4.299093654277962\n",
      "β₁=0.9; P-val: 2.0632147082305585e-5\n",
      "β₁=0.7; T-test: 13.11378645904445\n",
      "β₁=0.7; P-val: 5.7445066524143224e-34\n",
      "β₁=0.5; T-test: 21.716957058235767\n",
      "β₁=0.5; P-val: 4.1218655317733e-74\n",
      "## T = 10000 ##\n",
      "β₁=1.0; T-test: 0.0025730576886089044\n",
      "β₁=1.0; P-val: 0.9979470505912986\n",
      "β₁=0.9; T-test: 20.08952258033265\n",
      "β₁=0.9; P-val: 4.906069763857577e-88\n",
      "β₁=0.7; T-test: 59.79594449743963\n",
      "β₁=0.7; P-val: 0.0\n",
      "β₁=0.5; T-test: 101.17271767540754\n",
      "β₁=0.5; P-val: 0.0\n"
     ]
    }
   ],
   "source": [
    "runs = 10_000\n",
    "for T = [25, 50, 100, 500, 10000]\n",
    "    println(\"## T = \",T,\" ##\")\n",
    "    for β₁_hyp = [1, 0.9, 0.7, 0.5]\n",
    "        _, β_mean, _, β_se = mc_simple(β, σ², T, runs)\n",
    "        K = size(β_mean)[1] #amount of estimated parameters = amount of d.o.f. lost\n",
    "        ttest = (β_mean[2] - β₁_hyp) / β_se[2]\n",
    "        pval  = 2 * ccdf(TDist(T-K), abs(ttest)) # what is the change that if you reject a correct null\n",
    "        println(\"β₁=\", β₁_hyp, \"; T-test: \", ttest)\n",
    "        println(\"β₁=\", β₁_hyp, \"; P-val: \", pval)\n",
    "    end\n",
    "end"
   ]
  },
  {
   "cell_type": "markdown",
   "metadata": {},
   "source": [
    "Here we see the consistency of the monte carlo simulation. With T growing, the distribution of the estimated parameters grows more peaked around the real values."
   ]
  },
  {
   "cell_type": "markdown",
   "metadata": {},
   "source": [
    "## MC with stochastic variables"
   ]
  },
  {
   "cell_type": "markdown",
   "metadata": {},
   "source": [
    "X and $\\mu$ still independent\n",
    "\n",
    "OLS estimator is still:\n",
    "* unbiased \n",
    "* efficient \n",
    "\n",
    "but in small samples no longer necessarily normally distributed and the standard covariance matrix should be interpreted as being conditional on X. Since however X is taken from a normal distribution, the deviation from normality of the OLS estimator will not be large."
   ]
  },
  {
   "cell_type": "code",
   "execution_count": 21,
   "metadata": {
    "collapsed": false
   },
   "outputs": [
    {
     "name": "stderr",
     "output_type": "stream",
     "text": [
      "WARNING: Method definition mc_stoch(Any, Any, Any, Any) in module Main at In[8]:2 overwritten at In[21]:2.\n"
     ]
    },
    {
     "data": {
      "text/plain": [
       "mc_stoch (generic function with 1 method)"
      ]
     },
     "execution_count": 21,
     "metadata": {},
     "output_type": "execute_result"
    }
   ],
   "source": [
    "function mc_stoch(β, σ², T, runs)\n",
    "    K = length(β)\n",
    "    \n",
    "    # variables with mc results\n",
    "    β_mc    = zeros(runs, length(β))\n",
    "    β_var_mc= zeros(runs, length(β))\n",
    "\n",
    "    # pre-allocate\n",
    "    μ_dist = Normal(0, √σ²)\n",
    "    X_dist = Normal(5, 2)\n",
    "    \n",
    "    X = ones(T, K)\n",
    "    for run = 1:runs\n",
    "        # simulate inside the loop\n",
    "        X[:, 2:end] = rand(X_dist, T, K-1)\n",
    "        y = X*β + rand(μ_dist, T)\n",
    "        result = ols(y, X)\n",
    "        \n",
    "        β_mc[run, :] = result.coefs\n",
    "        β_var_mc[run,:] = diag(result.vcv)\n",
    "    end\n",
    "    \n",
    "    return β, mean(β_mc,1), sqrt(mean(β_var_mc,1)), std(β_mc,1), fit(Normal, β_mc[:,1])\n",
    "end"
   ]
  },
  {
   "cell_type": "code",
   "execution_count": 27,
   "metadata": {
    "collapsed": false
   },
   "outputs": [
    {
     "data": {
      "text/plain": [
       "([10,1],\n",
       "[9.32497 1.1224],\n",
       "\n",
       "[0.923496 0.155],\n",
       "\n",
       "[1.27586 0.199973],\n",
       "\n",
       "Distributions.Normal{Float64}(μ=9.324970913771605, σ=1.1411617422844988))"
      ]
     },
     "execution_count": 27,
     "metadata": {},
     "output_type": "execute_result"
    }
   ],
   "source": [
    "mc_stoch(β, σ², 10, 5)"
   ]
  },
  {
   "cell_type": "code",
   "execution_count": 25,
   "metadata": {
    "collapsed": false
   },
   "outputs": [
    {
     "name": "stdout",
     "output_type": "stream",
     "text": [
      "## T = 25 ##\n",
      "β₁=1.0; T-test: -0.0029588588003249387\n",
      "β₁=1.0; P-val: 0.9976636330856012\n",
      "β₁=0.9; T-test: 0.9250232577225256\n",
      "β₁=0.9; P-val: 0.36416206205623913\n",
      "β₁=0.7; T-test: 2.823112841286666\n",
      "β₁=0.7; P-val: 0.00940948971765497\n",
      "β₁=0.5; T-test: 4.738214590054209\n",
      "β₁=0.5; P-val: 8.079945651991213e-5\n",
      "## T = 50 ##\n",
      "β₁=1.0; T-test: -0.0030221903386905\n",
      "β₁=1.0; P-val: 0.9976009153868829\n",
      "β₁=0.9; T-test: 1.3915116684132078\n",
      "β₁=0.9; P-val: 0.17035570515021242\n",
      "β₁=0.7; T-test: 4.091408374438089\n",
      "β₁=0.7; P-val: 0.00015941531212344947\n",
      "β₁=0.5; T-test: 6.857823265695702\n",
      "β₁=0.5; P-val: 1.1016171203220574e-8\n",
      "## T = 100 ##\n",
      "β₁=1.0; T-test: 0.01774304827518647\n",
      "β₁=1.0; P-val: 0.9858795481481266\n",
      "β₁=0.9; T-test: 1.9745924190704789\n",
      "β₁=0.9; P-val: 0.051100047639186366\n",
      "β₁=0.7; T-test: 5.9398718426254336\n",
      "β₁=0.7; P-val: 4.2556725716321566e-8\n",
      "β₁=0.5; T-test: 9.753685074389109\n",
      "β₁=0.5; P-val: 3.7706183530730843e-16\n",
      "## T = 500 ##\n",
      "β₁=1.0; T-test: 0.021174110247224452\n",
      "β₁=1.0; P-val: 0.9831152306276953\n",
      "β₁=0.9; T-test: 4.43708435613483\n",
      "β₁=0.9; P-val: 1.1229403727311116e-5\n",
      "β₁=0.7; T-test: 13.393134706691784\n",
      "β₁=0.7; P-val: 3.658808854466194e-35\n",
      "β₁=0.5; T-test: 22.33281745315161\n",
      "β₁=0.5; P-val: 4.188188268438007e-77\n"
     ]
    }
   ],
   "source": [
    "runs = 10_000\n",
    "for T = [25, 50, 100, 500]\n",
    "    println(\"## T = \",T,\" ##\")\n",
    "    for β₁_hyp = [1, 0.9, 0.7, 0.5]\n",
    "        _, β_mean, _, β_se = mc_stoch(β, σ², T, runs)\n",
    "        K = size(β_mean)[1] #amount of estimated parameters = amount of d.o.f. lost\n",
    "        ttest = (β_mean[2] - β₁_hyp) / β_se[2]\n",
    "        pval  = 2 * ccdf(TDist(T-K), abs(ttest)) # what is the change that you reject a correct null\n",
    "        println(\"β₁=\", β₁_hyp, \"; T-test: \", ttest)\n",
    "        println(\"β₁=\", β₁_hyp, \"; P-val: \", pval)\n",
    "    end\n",
    "end"
   ]
  },
  {
   "cell_type": "markdown",
   "metadata": {},
   "source": [
    "## TODO: what's the conclusion here?"
   ]
  },
  {
   "cell_type": "markdown",
   "metadata": {},
   "source": [
    "SHOULD BE: in small samples no longer normally distributed and the standard covariance matrix should be interpreted as being conditional on X\n",
    "\n",
    "BUT OUR SIMULATIONS SEEM TO STILL GIVE VERY GOOD RESULTS WITH RELATIVELY LOW SAMPLE SIZE AND RUNS."
   ]
  },
  {
   "cell_type": "markdown",
   "metadata": {
    "collapsed": true
   },
   "source": [
    "# Lagged Dependent Variable\n",
    "\n",
    "Introducing lagged dependent variables makes it so that the assumption \"X and $\\mu$ are independent\" has to be relaxed to $E[\\mu_t|x_t] = 0$ or thus that the errors are contemporaneously independent with any explanatory variables.\n",
    "\n",
    "The OLS estimator becomes:\n",
    "* Biased: $E[\\hat{\\beta}|X] = \\beta + (X'X)^{-1}X'E[\\mu|X]$ => $E[\\hat{\\beta}] = E_X(E[\\hat{\\beta}|X]) \\neq \\beta$\n",
    "* Consistent and asymptotically normally distributed: $plim\\hat{\\beta} = \\beta + plim \\frac{X'X}{T}^{-1} plim\\frac{X'\\mu}{T}$ = 0 because $plim\\frac{X'\\mu}{T} = E(x_t\\mu_t) = 0$\n",
    "* $\\hat{\\sigma}^2 = \\frac{\\hat{\\mu}'\\hat{\\mu}}{T-k}$ is still a consistent estimator for $\\sigma^2$"
   ]
  },
  {
   "cell_type": "code",
   "execution_count": 11,
   "metadata": {
    "collapsed": false
   },
   "outputs": [
    {
     "data": {
      "text/plain": [
       "mc_ar1 (generic function with 1 method)"
      ]
     },
     "execution_count": 11,
     "metadata": {},
     "output_type": "execute_result"
    }
   ],
   "source": [
    "# AR1 MC simulation\n",
    "function mc_ar1(β, σ², T, runs)\n",
    "    K = length(β)\n",
    "    β₀, β₁ = β\n",
    "    σ = √σ² # = sqrt(σ²)\n",
    "    \n",
    "    # variables with mc averages\n",
    "    β_mc     = zeros(runs, K)\n",
    "    β_var_mc = zeros(runs, K)\n",
    "\n",
    "    # pre-allocate\n",
    "    y = zeros(T)\n",
    "    X = ones(T, K) # fill second column with y_{t-1}\n",
    "    y₀_dist = Normal(β₀/(1-β₁), sqrt(σ²/(1-β₁^2)))\n",
    "    \n",
    "    for run = 1:runs\n",
    "        # simulate y\n",
    "        y₀ = rand(y₀_dist) \n",
    "        y[1] = β₀ + β₁*y₀ + σ*randn() \n",
    "        for t = 2:T\n",
    "            y[t] = β₀ + β₁*y[t-1] + σ*randn() \n",
    "        end\n",
    "        # copy into X\n",
    "        X[1,2] = y₀\n",
    "        X[2:end, 2] = y[1:end-1]\n",
    "        \n",
    "        # ols\n",
    "        result = ols(y, X)\n",
    "        β_mc[run,:]    = result.coefs\n",
    "        β_var_mc[run,:]= diag(result.vcv)\n",
    "    end\n",
    "    \n",
    "    return β, mean(β_mc,1), sqrt(mean(β_var_mc,1)), std(β_mc,1)\n",
    "end"
   ]
  },
  {
   "cell_type": "code",
   "execution_count": 12,
   "metadata": {
    "collapsed": false
   },
   "outputs": [
    {
     "name": "stdout",
     "output_type": "stream",
     "text": [
      "  1.049828 seconds (1.16 M allocations: 1.150 GB, 24.74% gc time)\n"
     ]
    },
    {
     "data": {
      "text/plain": [
       "([10.0,0.1],\n",
       "[10.0124 0.0988979],\n",
       "\n",
       "[0.351253 0.0314839],\n",
       "\n",
       "[0.348914 0.0313006])"
      ]
     },
     "execution_count": 12,
     "metadata": {},
     "output_type": "execute_result"
    }
   ],
   "source": [
    "β₀, β₁ = 10, 0.1\n",
    "σ² = 1\n",
    "T = 1000\n",
    "runs = 10_000\n",
    "@time mc_ar1([β₀, β₁], σ², T, runs)"
   ]
  },
  {
   "cell_type": "markdown",
   "metadata": {},
   "source": [
    "Let's plot the bias"
   ]
  },
  {
   "cell_type": "code",
   "execution_count": 13,
   "metadata": {
    "collapsed": true
   },
   "outputs": [],
   "source": [
    "using Plots\n",
    "gr();"
   ]
  },
  {
   "cell_type": "code",
   "execution_count": 14,
   "metadata": {
    "collapsed": false
   },
   "outputs": [
    {
     "data": {
      "text/plain": [
       "26×3 Array{Float64,2}:\n",
       " 10.9795  14.7284  46.9781\n",
       " 10.5006  12.5083  30.2191\n",
       " 10.3471  11.6767  23.5593\n",
       " 10.2375  11.23    20.1191\n",
       " 10.1949  11.0061  18.1422\n",
       " 10.1691  10.8147  16.7824\n",
       " 10.1324  10.6807  15.6284\n",
       " 10.118   10.6353  14.9455\n",
       " 10.1127  10.5494  14.4287\n",
       " 10.0969  10.4893  14.0054\n",
       " 10.0764  10.4085  13.0908\n",
       " 10.0658  10.3243  12.6708\n",
       " 10.0599  10.2779  12.202 \n",
       " 10.0507  10.2677  11.8743\n",
       " 10.039   10.2317  11.6509\n",
       " 10.0324  10.2044  11.538 \n",
       " 10.0324  10.1936  11.428 \n",
       " 10.0278  10.157   11.2659\n",
       " 10.0386  10.1478  11.2317\n",
       " 10.0144  10.1343  11.0474\n",
       " 10.0228  10.1375  11.0029\n",
       " 10.0379  10.135   10.93  \n",
       " 10.0259  10.1131  10.8937\n",
       " 10.0275  10.1097  10.8319\n",
       " 10.0171  10.1017  10.7894\n",
       " 10.0171  10.1123  10.7677"
      ]
     },
     "execution_count": 14,
     "metadata": {},
     "output_type": "execute_result"
    }
   ],
   "source": [
    "Ts  = vcat(collect(10:10:90), collect(100:25:500))\n",
    "β₁s = [0, 0.5, 0.9]\n",
    "β̂ = [mc_ar1([β₀, β₁], σ², T, runs)[2][1] for T in Ts, β₁ in β₁s]"
   ]
  },
  {
   "cell_type": "code",
   "execution_count": 15,
   "metadata": {
    "collapsed": false
   },
   "outputs": [
    {
     "data": {
      "text/html": [
       "<?xml version=\"1.0\" encoding=\"utf-8\"?>\n",
       "<svg xmlns=\"http://www.w3.org/2000/svg\" xmlns:xlink=\"http://www.w3.org/1999/xlink\" width=\"600\" height=\"400\" viewBox=\"0 0 600 400\">\n",
       "<defs>\n",
       "  <clipPath id=\"clip00\">\n",
       "    <rect x=\"0\" y=\"0\" width=\"600\" height=\"400\"/>\n",
       "  </clipPath>\n",
       "</defs>\n",
       "<polygon clip-path=\"url(#clip00)\" points=\"\n",
       "0,400 600,400 600,0 0,0 \n",
       "  \" fill=\"#ffffff\" fill-opacity=\"1\"/>\n",
       "<defs>\n",
       "  <clipPath id=\"clip01\">\n",
       "    <rect x=\"120\" y=\"0\" width=\"421\" height=\"400\"/>\n",
       "  </clipPath>\n",
       "</defs>\n",
       "<polygon clip-path=\"url(#clip00)\" points=\"\n",
       "21.7148,384.952 596.063,384.952 596.063,3.93701 21.7148,3.93701 \n",
       "  \" fill=\"#ffffff\" fill-opacity=\"1\"/>\n",
       "<defs>\n",
       "  <clipPath id=\"clip02\">\n",
       "    <rect x=\"21\" y=\"3\" width=\"575\" height=\"382\"/>\n",
       "  </clipPath>\n",
       "</defs>\n",
       "<polyline clip-path=\"url(#clip02)\" style=\"stroke:#00002d; stroke-width:0.8; stroke-opacity:0.5; fill:none\" stroke-dasharray=\"1, 2\" points=\"\n",
       "  127.207,379.237 127.207,9.65223 \n",
       "  \"/>\n",
       "<polyline clip-path=\"url(#clip02)\" style=\"stroke:#00002d; stroke-width:0.8; stroke-opacity:0.5; fill:none\" stroke-dasharray=\"1, 2\" points=\"\n",
       "  244.421,379.237 244.421,9.65223 \n",
       "  \"/>\n",
       "<polyline clip-path=\"url(#clip02)\" style=\"stroke:#00002d; stroke-width:0.8; stroke-opacity:0.5; fill:none\" stroke-dasharray=\"1, 2\" points=\"\n",
       "  361.635,379.237 361.635,9.65223 \n",
       "  \"/>\n",
       "<polyline clip-path=\"url(#clip02)\" style=\"stroke:#00002d; stroke-width:0.8; stroke-opacity:0.5; fill:none\" stroke-dasharray=\"1, 2\" points=\"\n",
       "  478.849,379.237 478.849,9.65223 \n",
       "  \"/>\n",
       "<polyline clip-path=\"url(#clip02)\" style=\"stroke:#00002d; stroke-width:0.8; stroke-opacity:0.5; fill:none\" stroke-dasharray=\"1, 2\" points=\"\n",
       "  596.063,379.237 596.063,9.65223 \n",
       "  \"/>\n",
       "<polyline clip-path=\"url(#clip02)\" style=\"stroke:#00002d; stroke-width:0.8; stroke-opacity:0.5; fill:none\" stroke-dasharray=\"1, 2\" points=\"\n",
       "  30.33,282.022 587.448,282.022 \n",
       "  \"/>\n",
       "<polyline clip-path=\"url(#clip02)\" style=\"stroke:#00002d; stroke-width:0.8; stroke-opacity:0.5; fill:none\" stroke-dasharray=\"1, 2\" points=\"\n",
       "  30.33,178.944 587.448,178.944 \n",
       "  \"/>\n",
       "<polyline clip-path=\"url(#clip02)\" style=\"stroke:#00002d; stroke-width:0.8; stroke-opacity:0.5; fill:none\" stroke-dasharray=\"1, 2\" points=\"\n",
       "  30.33,75.8656 587.448,75.8656 \n",
       "  \"/>\n",
       "<polyline clip-path=\"url(#clip02)\" style=\"stroke:#00002d; stroke-width:0.8; stroke-opacity:1; fill:none\" points=\"\n",
       "  21.7148,384.952 596.063,384.952 \n",
       "  \"/>\n",
       "<polyline clip-path=\"url(#clip02)\" style=\"stroke:#00002d; stroke-width:0.8; stroke-opacity:1; fill:none\" points=\"\n",
       "  127.207,384.952 127.207,379.237 \n",
       "  \"/>\n",
       "<polyline clip-path=\"url(#clip02)\" style=\"stroke:#00002d; stroke-width:0.8; stroke-opacity:1; fill:none\" points=\"\n",
       "  244.421,384.952 244.421,379.237 \n",
       "  \"/>\n",
       "<polyline clip-path=\"url(#clip02)\" style=\"stroke:#00002d; stroke-width:0.8; stroke-opacity:1; fill:none\" points=\"\n",
       "  361.635,384.952 361.635,379.237 \n",
       "  \"/>\n",
       "<polyline clip-path=\"url(#clip02)\" style=\"stroke:#00002d; stroke-width:0.8; stroke-opacity:1; fill:none\" points=\"\n",
       "  478.849,384.952 478.849,379.237 \n",
       "  \"/>\n",
       "<polyline clip-path=\"url(#clip02)\" style=\"stroke:#00002d; stroke-width:0.8; stroke-opacity:1; fill:none\" points=\"\n",
       "  596.063,384.952 596.063,379.237 \n",
       "  \"/>\n",
       "<polyline clip-path=\"url(#clip02)\" style=\"stroke:#00002d; stroke-width:0.8; stroke-opacity:1; fill:none\" points=\"\n",
       "  21.7148,384.952 21.7148,3.93701 \n",
       "  \"/>\n",
       "<polyline clip-path=\"url(#clip02)\" style=\"stroke:#00002d; stroke-width:0.8; stroke-opacity:1; fill:none\" points=\"\n",
       "  21.7148,282.022 30.33,282.022 \n",
       "  \"/>\n",
       "<polyline clip-path=\"url(#clip02)\" style=\"stroke:#00002d; stroke-width:0.8; stroke-opacity:1; fill:none\" points=\"\n",
       "  21.7148,178.944 30.33,178.944 \n",
       "  \"/>\n",
       "<polyline clip-path=\"url(#clip02)\" style=\"stroke:#00002d; stroke-width:0.8; stroke-opacity:1; fill:none\" points=\"\n",
       "  21.7148,75.8656 30.33,75.8656 \n",
       "  \"/>\n",
       "<g clip-path=\"url(#clip00)\">\n",
       "<text style=\"fill:#00002d; fill-opacity:1; font-family:Arial,Helvetica Neue,Helvetica,sans-serif; font-size:12; text-anchor:middle;\" transform=\"rotate(0, 127.207, 396.952)\" x=\"127.207\" y=\"396.952\">100</text>\n",
       "</g>\n",
       "<g clip-path=\"url(#clip00)\">\n",
       "<text style=\"fill:#00002d; fill-opacity:1; font-family:Arial,Helvetica Neue,Helvetica,sans-serif; font-size:12; text-anchor:middle;\" transform=\"rotate(0, 244.421, 396.952)\" x=\"244.421\" y=\"396.952\">200</text>\n",
       "</g>\n",
       "<g clip-path=\"url(#clip00)\">\n",
       "<text style=\"fill:#00002d; fill-opacity:1; font-family:Arial,Helvetica Neue,Helvetica,sans-serif; font-size:12; text-anchor:middle;\" transform=\"rotate(0, 361.635, 396.952)\" x=\"361.635\" y=\"396.952\">300</text>\n",
       "</g>\n",
       "<g clip-path=\"url(#clip00)\">\n",
       "<text style=\"fill:#00002d; fill-opacity:1; font-family:Arial,Helvetica Neue,Helvetica,sans-serif; font-size:12; text-anchor:middle;\" transform=\"rotate(0, 478.849, 396.952)\" x=\"478.849\" y=\"396.952\">400</text>\n",
       "</g>\n",
       "<g clip-path=\"url(#clip00)\">\n",
       "<text style=\"fill:#00002d; fill-opacity:1; font-family:Arial,Helvetica Neue,Helvetica,sans-serif; font-size:12; text-anchor:middle;\" transform=\"rotate(0, 596.063, 396.952)\" x=\"596.063\" y=\"396.952\">500</text>\n",
       "</g>\n",
       "<g clip-path=\"url(#clip00)\">\n",
       "<text style=\"fill:#00002d; fill-opacity:1; font-family:Arial,Helvetica Neue,Helvetica,sans-serif; font-size:12; text-anchor:end;\" transform=\"rotate(0, 20.5148, 286.522)\" x=\"20.5148\" y=\"286.522\">20</text>\n",
       "</g>\n",
       "<g clip-path=\"url(#clip00)\">\n",
       "<text style=\"fill:#00002d; fill-opacity:1; font-family:Arial,Helvetica Neue,Helvetica,sans-serif; font-size:12; text-anchor:end;\" transform=\"rotate(0, 20.5148, 183.444)\" x=\"20.5148\" y=\"183.444\">30</text>\n",
       "</g>\n",
       "<g clip-path=\"url(#clip00)\">\n",
       "<text style=\"fill:#00002d; fill-opacity:1; font-family:Arial,Helvetica Neue,Helvetica,sans-serif; font-size:12; text-anchor:end;\" transform=\"rotate(0, 20.5148, 80.3656)\" x=\"20.5148\" y=\"80.3656\">40</text>\n",
       "</g>\n",
       "<polyline clip-path=\"url(#clip02)\" style=\"stroke:#0099ff; stroke-width:0.8; stroke-opacity:1; fill:none\" points=\"\n",
       "  21.7148,375.004 33.4362,379.94 45.1576,381.523 56.879,382.652 68.6004,383.091 80.3217,383.358 92.0431,383.735 103.765,383.884 115.486,383.938 127.207,384.101 \n",
       "  156.511,384.312 185.814,384.422 215.118,384.483 244.421,384.578 273.725,384.698 303.028,384.766 332.332,384.766 361.635,384.814 390.939,384.703 420.242,384.952 \n",
       "  449.546,384.865 478.849,384.709 508.153,384.833 537.456,384.817 566.76,384.924 596.063,384.924 \n",
       "  \"/>\n",
       "<polyline clip-path=\"url(#clip02)\" style=\"stroke:#e9746a; stroke-width:0.8; stroke-opacity:1; fill:none\" points=\"\n",
       "  21.7148,336.361 33.4362,359.245 45.1576,367.817 56.879,372.422 68.6004,374.729 80.3217,376.702 92.0431,378.083 103.765,378.552 115.486,379.437 127.207,380.056 \n",
       "  156.511,380.889 185.814,381.758 215.118,382.236 244.421,382.34 273.725,382.712 303.028,382.993 332.332,383.104 361.635,383.482 390.939,383.577 420.242,383.716 \n",
       "  449.546,383.683 478.849,383.709 508.153,383.934 537.456,383.969 566.76,384.052 596.063,383.943 \n",
       "  \"/>\n",
       "<polyline clip-path=\"url(#clip02)\" style=\"stroke:#3cb370; stroke-width:0.8; stroke-opacity:1; fill:none\" points=\"\n",
       "  21.7148,3.93701 33.4362,176.686 45.1576,245.333 56.879,280.794 68.6004,301.171 80.3217,315.188 92.0431,327.084 103.765,334.122 115.486,339.45 127.207,343.813 \n",
       "  156.511,353.241 185.814,357.57 215.118,362.403 244.421,365.78 273.725,368.083 303.028,369.247 332.332,370.381 361.635,372.051 390.939,372.404 420.242,374.304 \n",
       "  449.546,374.763 478.849,375.513 508.153,375.888 537.456,376.525 566.76,376.964 596.063,377.187 \n",
       "  \"/>\n",
       "<polygon clip-path=\"url(#clip00)\" points=\"\n",
       "501.589,85.297 578.063,85.297 578.063,24.817 501.589,24.817 \n",
       "  \" fill=\"#ffffff\" fill-opacity=\"1\"/>\n",
       "<polyline clip-path=\"url(#clip00)\" style=\"stroke:#00002d; stroke-width:0.8; stroke-opacity:1; fill:none\" points=\"\n",
       "  501.589,85.297 578.063,85.297 578.063,24.817 501.589,24.817 501.589,85.297 \n",
       "  \"/>\n",
       "<polyline clip-path=\"url(#clip00)\" style=\"stroke:#0099ff; stroke-width:0.8; stroke-opacity:1; fill:none\" points=\"\n",
       "  507.589,39.937 543.589,39.937 \n",
       "  \"/>\n",
       "<g clip-path=\"url(#clip00)\">\n",
       "<text style=\"fill:#00002d; fill-opacity:1; font-family:Arial,Helvetica Neue,Helvetica,sans-serif; font-size:12; text-anchor:start;\" transform=\"rotate(0, 549.589, 44.437)\" x=\"549.589\" y=\"44.437\">0.0</text>\n",
       "</g>\n",
       "<polyline clip-path=\"url(#clip00)\" style=\"stroke:#e9746a; stroke-width:0.8; stroke-opacity:1; fill:none\" points=\"\n",
       "  507.589,55.057 543.589,55.057 \n",
       "  \"/>\n",
       "<g clip-path=\"url(#clip00)\">\n",
       "<text style=\"fill:#00002d; fill-opacity:1; font-family:Arial,Helvetica Neue,Helvetica,sans-serif; font-size:12; text-anchor:start;\" transform=\"rotate(0, 549.589, 59.557)\" x=\"549.589\" y=\"59.557\">0.5</text>\n",
       "</g>\n",
       "<polyline clip-path=\"url(#clip00)\" style=\"stroke:#3cb370; stroke-width:0.8; stroke-opacity:1; fill:none\" points=\"\n",
       "  507.589,70.177 543.589,70.177 \n",
       "  \"/>\n",
       "<g clip-path=\"url(#clip00)\">\n",
       "<text style=\"fill:#00002d; fill-opacity:1; font-family:Arial,Helvetica Neue,Helvetica,sans-serif; font-size:12; text-anchor:start;\" transform=\"rotate(0, 549.589, 74.677)\" x=\"549.589\" y=\"74.677\">0.9</text>\n",
       "</g>\n",
       "</svg>\n"
      ]
     },
     "execution_count": 15,
     "metadata": {},
     "output_type": "execute_result"
    }
   ],
   "source": [
    "plot(Ts, β̂, label=string.(β₁s'))"
   ]
  },
  {
   "cell_type": "markdown",
   "metadata": {},
   "source": [
    "Given a certain sample size and estimated AR(1) coefficient, you can use the matrix for $\\hat\\beta$ (or the graph) to estimate the bias for $\\beta_1$ (note that reported values are relative to 10)."
   ]
  },
  {
   "cell_type": "markdown",
   "metadata": {},
   "source": [
    "## Appendix: Julia performance profiling"
   ]
  },
  {
   "cell_type": "code",
   "execution_count": 16,
   "metadata": {
    "collapsed": false
   },
   "outputs": [
    {
     "name": "stdout",
     "output_type": "stream",
     "text": [
      "  7.614691 seconds (11.20 M allocations: 12.241 GB, 22.79% gc time)\n"
     ]
    }
   ],
   "source": [
    "# around 4s on my laptop\n",
    "@time mc_simple(β, σ², T, 100_000);"
   ]
  },
  {
   "cell_type": "code",
   "execution_count": 17,
   "metadata": {
    "collapsed": false
   },
   "outputs": [
    {
     "ename": "LoadError",
     "evalue": "ArgumentError: Module ProfileView not found in current path.\nRun `Pkg.add(\"ProfileView\")` to install the ProfileView package.",
     "output_type": "error",
     "traceback": [
      "ArgumentError: Module ProfileView not found in current path.\nRun `Pkg.add(\"ProfileView\")` to install the ProfileView package.",
      "",
      " in require(::Symbol) at ./loading.jl:365",
      " in require(::Symbol) at /Applications/Julia-0.5.app/Contents/Resources/julia/lib/julia/sys.dylib:?"
     ]
    }
   ],
   "source": [
    "using ProfileView #run `Pkg.add(\"ProfileView\")` if not yet installed"
   ]
  },
  {
   "cell_type": "code",
   "execution_count": 18,
   "metadata": {
    "collapsed": false,
    "scrolled": true
   },
   "outputs": [
    {
     "ename": "LoadError",
     "evalue": "UndefVarError: ProfileView not defined",
     "output_type": "error",
     "traceback": [
      "UndefVarError: ProfileView not defined",
      ""
     ]
    }
   ],
   "source": [
    "Profile.clear()\n",
    "@profile mc_simple(β, σ², T, 1_000)\n",
    "ProfileView.view() #interactive graph with mouse over,  scroll and drag"
   ]
  },
  {
   "cell_type": "code",
   "execution_count": 19,
   "metadata": {
    "collapsed": false
   },
   "outputs": [
    {
     "data": {
      "text/plain": [
       "mc_fact (generic function with 1 method)"
      ]
     },
     "execution_count": 19,
     "metadata": {},
     "output_type": "execute_result"
    }
   ],
   "source": [
    "# implementation that factorizes X only once\n",
    "function mc_fact(β, σ², T, runs)\n",
    "    \n",
    "    # simulate X once, deterministically\n",
    "    X = hcat(ones(T), rand(Normal(5, 2), T))\n",
    "    \n",
    "    # variables with mc results    \n",
    "    β_mc    = zeros(runs, length(β))\n",
    "    β_var_mc= zeros(runs) #only keep σ̂²T = dot(μ̂, μ̂) = σ̂²*(T-K) per run\n",
    "\n",
    "    # pre-allocate\n",
    "    Xβ     = X * β\n",
    "    μ_dist = Normal(0, √σ²)\n",
    "    x_fact = factorize(X)\n",
    "    XtXinvd= diag(inv(X'*X))\n",
    "    \n",
    "    for run = 1:runs\n",
    "        y = Xβ  + rand(μ_dist, T)\n",
    "        β̂ = x_fact \\ y #factorization already done now\n",
    "        μ̂ = y - X * β̂\n",
    "        σ̂²T = dot(μ̂, μ̂) #put factor /(T-K) outside of loop\n",
    "        \n",
    "        β_mc[run, :]    = β̂\n",
    "        β_var_mc[run,:] = σ̂²T\n",
    "    end\n",
    "    se_true = std(β_mc, 1)\n",
    "    se_mc   = sqrt(mean(β_var_mc) / (T - length(β)) * XtXinvd)\n",
    "    return β, mean(β_mc, 1), se_true, se_mc\n",
    "end"
   ]
  },
  {
   "cell_type": "code",
   "execution_count": 20,
   "metadata": {
    "collapsed": false
   },
   "outputs": [
    {
     "name": "stdout",
     "output_type": "stream",
     "text": [
      "  7.946002 seconds (6.80 M allocations: 10.332 GB, 43.29% gc time)\n"
     ]
    },
    {
     "data": {
      "text/plain": [
       "([10,1],\n",
       "[10.0001 0.999961],\n",
       "\n",
       "[0.0846251 0.0157348],\n",
       "\n",
       "[0.0844292,0.0156817])"
      ]
     },
     "execution_count": 20,
     "metadata": {},
     "output_type": "execute_result"
    }
   ],
   "source": [
    "# runs in about 2s on my laptop\n",
    "mc_fact(β, σ², 25, 1) # first run includes JIT compilation\n",
    "@time mc_fact(β, σ², T, 100_000) "
   ]
  }
 ],
 "metadata": {
  "anaconda-cloud": {},
  "kernelspec": {
   "display_name": "Julia 0.5.0",
   "language": "julia",
   "name": "julia-0.5"
  },
  "language_info": {
   "file_extension": ".jl",
   "mimetype": "application/julia",
   "name": "julia",
   "version": "0.5.0"
  }
 },
 "nbformat": 4,
 "nbformat_minor": 1
}
