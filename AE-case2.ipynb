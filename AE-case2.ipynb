{
 "cells": [
  {
   "cell_type": "markdown",
   "metadata": {},
   "source": [
    "# Case 2: Properties of OLS and simulation methods"
   ]
  },
  {
   "cell_type": "markdown",
   "metadata": {},
   "source": [
    "by Milan Van den Heuvel, Ken Bastiaensen, Gonzalo Villa\n",
    "*Advanced Econometrics 2016-2017."
   ]
  },
  {
   "cell_type": "markdown",
   "metadata": {},
   "source": [
    "Strict set of GM assumptions:\n",
    "* X is deterministic, x is thus fixed over repeated samples\n",
    "* errors $\\mu$ are normally distributed with assumed homoscedastic errors\n",
    "\n",
    "#### Question: *Give the small sample and asymptotic properties of the OLS estimator for $\\beta$ and for the estimator of the standard errors.*\n",
    "\n",
    "Small sample properties:\n",
    "* OLS is the best unbiased estimator\n",
    "* The estimator is normally distributed (stems from the fact that $\\hat{\\beta}$ is linear function of the disturbance vector $\\mu$)\n",
    "* The covariance matrix $\\sigma^2(X'X)^{-1}$ can be estimated with an unbiased estimator of $\\sigma^2$ given by:\n",
    "\n",
    "$$\\hat{\\sigma}^2 = \\frac{\\hat{\\mu}'\\hat{\\mu}}{N-K} = \\frac{y'My}{N-K}$$\n",
    "\n",
    "\n",
    "Asymptotic properties:\n",
    "* same under the GM conditions\n",
    "* $\\bar{x}_N$ assymptotically approaches $N(\\mu,\\frac{\\sigma^2}{N})$"
   ]
  },
  {
   "cell_type": "markdown",
   "metadata": {},
   "source": [
    "# Part 1: Properties of Monte Carlo simulations"
   ]
  },
  {
   "cell_type": "code",
   "execution_count": 1,
   "metadata": {
    "collapsed": true
   },
   "outputs": [],
   "source": [
    "using Distributions: Normal, TDist, ccdf, fit\n",
    "using Plots\n",
    "gc()"
   ]
  },
  {
   "cell_type": "code",
   "execution_count": 2,
   "metadata": {
    "collapsed": false
   },
   "outputs": [],
   "source": [
    "# include functions from file\n",
    "include(\"functions_lib.jl\"); "
   ]
  },
  {
   "cell_type": "markdown",
   "metadata": {},
   "source": [
    "## General normality test (Jarque-Bera)"
   ]
  },
  {
   "cell_type": "code",
   "execution_count": 3,
   "metadata": {
    "collapsed": false
   },
   "outputs": [
    {
     "data": {
      "text/plain": [
       "JB_test (generic function with 1 method)"
      ]
     },
     "execution_count": 3,
     "metadata": {},
     "output_type": "execute_result"
    }
   ],
   "source": [
    "#testing for normality\n",
    "function JB_test(X)\n",
    "    E_X = mean(X,1)[1]\n",
    "    σ = std(X,1)[1]\n",
    "    n = length(X)\n",
    "    S = sum((X - E_X).^3/σ^3)/n\n",
    "    K = sum((X - E_X).^4/σ^4)/n\n",
    "    return n*(S^2/6 + (K-3)^2/24)\n",
    "end"
   ]
  },
  {
   "cell_type": "code",
   "execution_count": 4,
   "metadata": {
    "collapsed": false
   },
   "outputs": [
    {
     "data": {
      "text/plain": [
       "10000"
      ]
     },
     "execution_count": 4,
     "metadata": {},
     "output_type": "execute_result"
    }
   ],
   "source": [
    "# Note that we can use unicode for identifiers by using latex and tab completion (e.g. \\beta+<TAB>)\n",
    "β₀ = 10\n",
    "β₁ = 1\n",
    "β  = [β₀, β₁]\n",
    "σ² = 1\n",
    "T  = 25  # sample size\n",
    "runs = 10_000 # underscore for readability, doesn't affect number"
   ]
  },
  {
   "cell_type": "markdown",
   "metadata": {},
   "source": [
    "## Deterministic X"
   ]
  },
  {
   "cell_type": "markdown",
   "metadata": {},
   "source": [
    "We create a function to run MC simulations:\n",
    "1. specify a population = N(5,2) and draw a sample once to have a deterministic sample.\n",
    "1. simulate y by simulating errors with variance $\\sigma^2$ (= 1 here).\n",
    "1. run ols and store results.\n",
    "1. The 'true' standard errors is the standard deviation over all estimated $\\hat\\beta$ (True SE = $\\sum_{run=0}^{runs} se(\\hat\\beta_{run}$)).\n",
    "1. return true value and mean of estimated for $\\beta$ as well as for its standard error.\n"
   ]
  },
  {
   "cell_type": "code",
   "execution_count": 5,
   "metadata": {
    "collapsed": false
   },
   "outputs": [
    {
     "data": {
      "text/plain": [
       "mc_simple (generic function with 1 method)"
      ]
     },
     "execution_count": 5,
     "metadata": {},
     "output_type": "execute_result"
    }
   ],
   "source": [
    "# simple implementation\n",
    "function mc_simple(β, σ², T, runs)\n",
    "    K = length(β)\n",
    "    \n",
    "    # simulate X once, deterministically\n",
    "    X  = hcat(ones(T), rand(Normal(5, 2), T, K-1)) #concatenation of column of ones for the constant terms and the randomly drawn x's for the beta terms \n",
    "    \n",
    "    # variables with mc results\n",
    "    β_mc    = zeros(runs, K)\n",
    "    β_var_mc= zeros(runs, K)\n",
    "\n",
    "    # pre-allocate memory to speed up value-allocation process\n",
    "    Xβ = X * β\n",
    "    μ_dist = Normal(0, √σ²) \n",
    "    \n",
    "    for run = 1:runs\n",
    "        y = Xβ + rand(μ_dist, T)\n",
    "        result = ols(y, X)\n",
    "        \n",
    "        β_mc[run, :] = result.coefs\n",
    "        β_var_mc[run, :] = diag(result.vcv)\n",
    "    end\n",
    "    \n",
    "    return β_mc, β, mean(β_mc,1), sqrt(mean(β_var_mc,1)), std(β_mc,1)\n",
    "end"
   ]
  },
  {
   "cell_type": "code",
   "execution_count": 6,
   "metadata": {
    "collapsed": false
   },
   "outputs": [
    {
     "data": {
      "text/plain": [
       "fill_jarque_bera_simple (generic function with 1 method)"
      ]
     },
     "execution_count": 6,
     "metadata": {},
     "output_type": "execute_result"
    }
   ],
   "source": [
    "function fill_jarque_bera_simple(T)\n",
    "    jb = zeros(1000)\n",
    "    for i = 1:1000\n",
    "        β_mcs, True_β, Est_β, True_σ, Est_σ = mc_simple(β, σ², T, runs)\n",
    "        jb[i] = JB_test(β_mcs[:,1])\n",
    "        i+=1\n",
    "    end\n",
    "end"
   ]
  },
  {
   "cell_type": "code",
   "execution_count": 7,
   "metadata": {
    "collapsed": true
   },
   "outputs": [],
   "source": [
    "jb = fill_jarque_bera_simple(25)"
   ]
  },
  {
   "cell_type": "markdown",
   "metadata": {},
   "source": [
    "## Repeated Jarque-Bera to find out power of the test."
   ]
  },
  {
   "cell_type": "code",
   "execution_count": 8,
   "metadata": {
    "collapsed": false
   },
   "outputs": [
    {
     "data": {
      "text/plain": [
       "JB_prob_mass (generic function with 1 method)"
      ]
     },
     "execution_count": 8,
     "metadata": {},
     "output_type": "execute_result"
    }
   ],
   "source": [
    "function JB_prob_mass(jb)\n",
    "    pass = 0\n",
    "    for i = 1:length(jb)\n",
    "        if jb[i] <= 5.99\n",
    "            pass +=1\n",
    "        end\n",
    "    end\n",
    "    return pass/length(jb)\n",
    "end"
   ]
  },
  {
   "cell_type": "code",
   "execution_count": 9,
   "metadata": {
    "collapsed": false
   },
   "outputs": [
    {
     "ename": "LoadError",
     "evalue": "MethodError: no method matching length(::Void)\u001b[0m\nClosest candidates are:\n  length(\u001b[1m\u001b[31m::SimpleVector\u001b[0m) at essentials.jl:168\n  length(\u001b[1m\u001b[31m::Base.MethodList\u001b[0m) at reflection.jl:256\n  length(\u001b[1m\u001b[31m::MethodTable\u001b[0m) at reflection.jl:322\n  ...\u001b[0m",
     "output_type": "error",
     "traceback": [
      "MethodError: no method matching length(::Void)\u001b[0m\nClosest candidates are:\n  length(\u001b[1m\u001b[31m::SimpleVector\u001b[0m) at essentials.jl:168\n  length(\u001b[1m\u001b[31m::Base.MethodList\u001b[0m) at reflection.jl:256\n  length(\u001b[1m\u001b[31m::MethodTable\u001b[0m) at reflection.jl:322\n  ...\u001b[0m",
      "",
      " in JB_prob_mass(::Void) at ./In[8]:3"
     ]
    }
   ],
   "source": [
    "JB_prob_mass(jb)"
   ]
  },
  {
   "cell_type": "code",
   "execution_count": 10,
   "metadata": {
    "collapsed": false
   },
   "outputs": [
    {
     "ename": "LoadError",
     "evalue": "BoundsError: attempt to access 0-element Array{RecipesBase.RecipeData,1} at index [1]",
     "output_type": "error",
     "traceback": [
      "BoundsError: attempt to access 0-element Array{RecipesBase.RecipeData,1} at index [1]",
      "",
      " in macro expansion at /Users/iubere/.julia/v0.5/Plots/src/series.jl:230 [inlined]",
      " in apply_recipe(::Dict{Symbol,Any}, ::Void) at /Users/iubere/.julia/v0.5/RecipesBase/src/RecipesBase.jl:238",
      " in _process_userrecipes(::Plots.Plot{Plots.GRBackend}, ::Dict{Symbol,Any}, ::Tuple{Void}) at /Users/iubere/.julia/v0.5/Plots/src/pipeline.jl:73",
      " in _plot!(::Plots.Plot{Plots.GRBackend}, ::Dict{Symbol,Any}, ::Tuple{Void}) at /Users/iubere/.julia/v0.5/Plots/src/plot.jl:171",
      " in (::Plots.#kw##plot)(::Array{Any,1}, ::Plots.#plot, ::Void) at ./<missing>:0",
      " in #histogram#360(::Array{Any,1}, ::Function, ::Void, ::Vararg{Void,N}) at /Users/iubere/.julia/v0.5/Plots/src/Plots.jl:139",
      " in histogram(::Void, ::Vararg{Void,N}) at /Users/iubere/.julia/v0.5/Plots/src/Plots.jl:139"
     ]
    }
   ],
   "source": [
    "histogram(jb)"
   ]
  },
  {
   "cell_type": "markdown",
   "metadata": {},
   "source": [
    "#### Interlude: Julia speedups\n",
    "You can profile the code to identify possible speedups. We see that most of the time is spent in solving OLS. Because X is deterministic and we only need to factorize it once. Changing this part of the code almost doubles the speed. See the bottom of this notebook."
   ]
  },
  {
   "cell_type": "markdown",
   "metadata": {},
   "source": [
    "### Comparison to true standard errors\n",
    "We see that the mean of the estimated standard errors are close to the 'true' standard errors, even when running only 100 simulations for 25 samples:"
   ]
  },
  {
   "cell_type": "code",
   "execution_count": 11,
   "metadata": {
    "collapsed": false
   },
   "outputs": [
    {
     "name": "stdout",
     "output_type": "stream",
     "text": [
      "For sample size: 25 True_β: [10,1] Est_β: [9.99369 1.0014] True_σ: [0.421708 0.0777859] Est_σ: [0.418864 0.077747]\n",
      "For sample size: 50 True_β: [10,1] Est_β: [9.99639 1.00057] True_σ: [0.381263 0.072868] Est_σ: [0.377425 0.0720451]\n",
      "For sample size: 100 True_β: [10,1] Est_β: [9.99689 1.00091] True_σ: [0.2622 0.0493567] Est_σ: [0.262293 0.0494392]\n",
      "For sample size: 500 True_β: [10,1] Est_β: [9.9978 1.00044] True_σ: [0.118758 0.0222236] Est_σ: [0.118951 0.0222358]\n"
     ]
    }
   ],
   "source": [
    "for T = [25, 50, 100, 500]\n",
    "    β_mcs, True_β, Est_β, True_σ, Est_σ = mc_simple(β, σ², T, runs)\n",
    "    println(\"For sample size: \", T, \" True_β: \", True_β,\" Est_β: \", Est_β, \" True_σ: \", True_σ, \" Est_σ: \", Est_σ)\n",
    "end"
   ]
  },
  {
   "cell_type": "markdown",
   "metadata": {},
   "source": [
    "### t-test\n",
    "We now perform a t-test for several null hypothesis for $\\beta_1 = 1; 0.9; 0.8$ and this for several sample sizes, we also report the p-values. Because we know that X is normally distributed we do not need to use the simulated t-stats since we know that the t-values will be student-t distributed and can immediately do a standard t-test."
   ]
  },
  {
   "cell_type": "code",
   "execution_count": 12,
   "metadata": {
    "collapsed": false
   },
   "outputs": [
    {
     "name": "stdout",
     "output_type": "stream",
     "text": [
      "## T = 25 ##\n",
      "β₁=1.0; T-test: -0.0026523279194550897\n",
      "β₁=1.0; P-val: 0.9979056746314129\n",
      "β₁=0.9; T-test: 0.9179980575157168\n",
      "β₁=0.9; P-val: 0.3677538892656238\n",
      "β₁=0.7; T-test: 2.9506522096323557\n",
      "β₁=0.7; P-val: 0.006975611222798675\n",
      "β₁=0.5; T-test: 4.074471503173958\n",
      "β₁=0.5; P-val: 0.00043644935223433084\n",
      "## T = 50 ##\n",
      "β₁=1.0; T-test: -0.0021686372898758197\n",
      "β₁=1.0; P-val: 0.9982784842479009\n",
      "β₁=0.9; T-test: 1.3621794614695921\n",
      "β₁=0.9; P-val: 0.1793705323852936\n",
      "β₁=0.7; T-test: 3.811654134756052\n",
      "β₁=0.7; P-val: 0.00038625319716225037\n",
      "β₁=0.5; T-test: 7.221560518999927\n",
      "β₁=0.5; P-val: 3.0119369389036476e-9\n",
      "## T = 100 ##\n",
      "β₁=1.0; T-test: 0.010956475927006333\n",
      "β₁=1.0; P-val: 0.9912802207803159\n",
      "β₁=0.9; T-test: 1.88086777310573\n",
      "β₁=0.9; P-val: 0.06292876687595954\n",
      "β₁=0.7; T-test: 6.469380819162742\n",
      "β₁=0.7; P-val: 3.775180166522832e-9\n",
      "β₁=0.5; T-test: 9.679351750335796\n",
      "β₁=0.5; P-val: 5.477792266100121e-16\n",
      "## T = 500 ##\n",
      "β₁=1.0; T-test: -0.005013061620867577\n",
      "β₁=1.0; P-val: 0.9960021757355164\n",
      "β₁=0.9; T-test: 4.6506278744199\n",
      "β₁=0.9; P-val: 4.2434548662058795e-6\n",
      "β₁=0.7; T-test: 12.769375988003297\n",
      "β₁=0.7; P-val: 1.6482799316310413e-32\n",
      "β₁=0.5; T-test: 22.331580688739827\n",
      "β₁=0.5; P-val: 4.246560395511318e-77\n",
      "## T = 10000 ##\n",
      "β₁=1.0; T-test: -0.004862244259071587\n",
      "β₁=1.0; P-val: 0.99612060265834\n",
      "β₁=0.9; T-test: 20.212309027235296\n",
      "β₁=0.9; P-val: 4.524613847163936e-89\n",
      "β₁=0.7; T-test: 59.93188558831908\n",
      "β₁=0.7; P-val: 0.0\n",
      "β₁=0.5; T-test: 100.032201428183\n",
      "β₁=0.5; P-val: 0.0\n"
     ]
    }
   ],
   "source": [
    "runs = 10_000\n",
    "for T = [25, 50, 100, 500, 10000]\n",
    "    println(\"## T = \",T,\" ##\")\n",
    "    for β₁_hyp = [1, 0.9, 0.7, 0.5]\n",
    "        β_mc, _, β_mean, _, β_se = mc_simple(β, σ², T, runs)\n",
    "        K = size(β_mean)[1] #amount of estimated parameters = amount of d.o.f. lost\n",
    "        ttest = (β_mean[2] - β₁_hyp) / β_se[2]\n",
    "        pval  = 2 * ccdf(TDist(T-K), abs(ttest)) # what is the change that if you reject a correct null\n",
    "        println(\"β₁=\", β₁_hyp, \"; T-test: \", ttest)\n",
    "        println(\"β₁=\", β₁_hyp, \"; P-val: \", pval)\n",
    "    end\n",
    "end"
   ]
  },
  {
   "cell_type": "markdown",
   "metadata": {},
   "source": [
    "# I (milan) am not sure if we need to take the 2,5% and 97,5% values from the t-values for every estimated parameter. Since we know X is normally distributed, we know the t-test is student-t distributed so I don't think this is necessary and the previous is enough"
   ]
  },
  {
   "cell_type": "code",
   "execution_count": 13,
   "metadata": {
    "collapsed": false
   },
   "outputs": [
    {
     "name": "stdout",
     "output_type": "stream",
     "text": [
      "## T = 25 ##\n",
      "For β_hyp = 1, critical values: 2,5%: -2.011175672023387897,5%: 1.9550479941387047\n",
      "## T = 50 ##\n",
      "For β_hyp = 1, critical values: 2,5%: -1.931279321789643397,5%: 1.946246863031847\n",
      "## T = 100 ##\n",
      "For β_hyp = 1, critical values: 2,5%: -1.958797136030247697,5%: 1.9778901230705677\n",
      "## T = 500 ##\n",
      "For β_hyp = 1, critical values: 2,5%: -1.993299871164567397,5%: 1.9349167387552961\n"
     ]
    }
   ],
   "source": [
    "runs = 10_000\n",
    "t_values = zeros(runs)\n",
    "for T = [25, 50, 100, 500]\n",
    "    println(\"## T = \",T,\" ##\")\n",
    "    for β₁_hyp = [1]\n",
    "        β_mc, _, β_mean, _, β_se = mc_simple(β, σ², T, runs)\n",
    "        t_values = (β_mc[:,2] - 1)/β_se[2]\n",
    "        sort!(t_values)\n",
    "        println(\"For β_hyp = \",β₁_hyp,\", critical values: 2,5%: \",t_values[250], \"97,5%: \", t_values[9750])\n",
    "    end\n",
    "end"
   ]
  },
  {
   "cell_type": "code",
   "execution_count": 14,
   "metadata": {
    "collapsed": false
   },
   "outputs": [
    {
     "data": {
      "text/html": [
       "<?xml version=\"1.0\" encoding=\"utf-8\"?>\n",
       "<svg xmlns=\"http://www.w3.org/2000/svg\" xmlns:xlink=\"http://www.w3.org/1999/xlink\" width=\"600\" height=\"400\" viewBox=\"0 0 600 400\">\n",
       "<defs>\n",
       "  <clipPath id=\"clip00\">\n",
       "    <rect x=\"0\" y=\"0\" width=\"600\" height=\"400\"/>\n",
       "  </clipPath>\n",
       "</defs>\n",
       "<polygon clip-path=\"url(#clip00)\" points=\"\n",
       "0,400 600,400 600,0 0,0 \n",
       "  \" fill=\"#ffffff\" fill-opacity=\"1\"/>\n",
       "<defs>\n",
       "  <clipPath id=\"clip01\">\n",
       "    <rect x=\"120\" y=\"0\" width=\"421\" height=\"400\"/>\n",
       "  </clipPath>\n",
       "</defs>\n",
       "<polygon clip-path=\"url(#clip00)\" points=\"\n",
       "39.4926,384.952 596.063,384.952 596.063,3.93701 39.4926,3.93701 \n",
       "  \" fill=\"#ffffff\" fill-opacity=\"1\"/>\n",
       "<defs>\n",
       "  <clipPath id=\"clip02\">\n",
       "    <rect x=\"39\" y=\"3\" width=\"557\" height=\"382\"/>\n",
       "  </clipPath>\n",
       "</defs>\n",
       "<polyline clip-path=\"url(#clip02)\" style=\"stroke:#00002d; stroke-width:0.8; stroke-opacity:0.5; fill:none\" stroke-dasharray=\"1, 2\" points=\"\n",
       "  137.018,379.237 137.018,9.65223 \n",
       "  \"/>\n",
       "<polyline clip-path=\"url(#clip02)\" style=\"stroke:#00002d; stroke-width:0.8; stroke-opacity:0.5; fill:none\" stroke-dasharray=\"1, 2\" points=\"\n",
       "  301.863,379.237 301.863,9.65223 \n",
       "  \"/>\n",
       "<polyline clip-path=\"url(#clip02)\" style=\"stroke:#00002d; stroke-width:0.8; stroke-opacity:0.5; fill:none\" stroke-dasharray=\"1, 2\" points=\"\n",
       "  466.708,379.237 466.708,9.65223 \n",
       "  \"/>\n",
       "<polyline clip-path=\"url(#clip02)\" style=\"stroke:#00002d; stroke-width:0.8; stroke-opacity:0.5; fill:none\" stroke-dasharray=\"1, 2\" points=\"\n",
       "  47.8411,384.952 587.714,384.952 \n",
       "  \"/>\n",
       "<polyline clip-path=\"url(#clip02)\" style=\"stroke:#00002d; stroke-width:0.8; stroke-opacity:0.5; fill:none\" stroke-dasharray=\"1, 2\" points=\"\n",
       "  47.8411,313.467 587.714,313.467 \n",
       "  \"/>\n",
       "<polyline clip-path=\"url(#clip02)\" style=\"stroke:#00002d; stroke-width:0.8; stroke-opacity:0.5; fill:none\" stroke-dasharray=\"1, 2\" points=\"\n",
       "  47.8411,241.982 587.714,241.982 \n",
       "  \"/>\n",
       "<polyline clip-path=\"url(#clip02)\" style=\"stroke:#00002d; stroke-width:0.8; stroke-opacity:0.5; fill:none\" stroke-dasharray=\"1, 2\" points=\"\n",
       "  47.8411,170.497 587.714,170.497 \n",
       "  \"/>\n",
       "<polyline clip-path=\"url(#clip02)\" style=\"stroke:#00002d; stroke-width:0.8; stroke-opacity:0.5; fill:none\" stroke-dasharray=\"1, 2\" points=\"\n",
       "  47.8411,99.012 587.714,99.012 \n",
       "  \"/>\n",
       "<polyline clip-path=\"url(#clip02)\" style=\"stroke:#00002d; stroke-width:0.8; stroke-opacity:0.5; fill:none\" stroke-dasharray=\"1, 2\" points=\"\n",
       "  47.8411,27.527 587.714,27.527 \n",
       "  \"/>\n",
       "<polyline clip-path=\"url(#clip02)\" style=\"stroke:#00002d; stroke-width:0.8; stroke-opacity:1; fill:none\" points=\"\n",
       "  39.4926,384.952 596.063,384.952 \n",
       "  \"/>\n",
       "<polyline clip-path=\"url(#clip02)\" style=\"stroke:#00002d; stroke-width:0.8; stroke-opacity:1; fill:none\" points=\"\n",
       "  137.018,384.952 137.018,379.237 \n",
       "  \"/>\n",
       "<polyline clip-path=\"url(#clip02)\" style=\"stroke:#00002d; stroke-width:0.8; stroke-opacity:1; fill:none\" points=\"\n",
       "  301.863,384.952 301.863,379.237 \n",
       "  \"/>\n",
       "<polyline clip-path=\"url(#clip02)\" style=\"stroke:#00002d; stroke-width:0.8; stroke-opacity:1; fill:none\" points=\"\n",
       "  466.708,384.952 466.708,379.237 \n",
       "  \"/>\n",
       "<polyline clip-path=\"url(#clip02)\" style=\"stroke:#00002d; stroke-width:0.8; stroke-opacity:1; fill:none\" points=\"\n",
       "  39.4926,384.952 39.4926,3.93701 \n",
       "  \"/>\n",
       "<polyline clip-path=\"url(#clip02)\" style=\"stroke:#00002d; stroke-width:0.8; stroke-opacity:1; fill:none\" points=\"\n",
       "  39.4926,384.952 47.8411,384.952 \n",
       "  \"/>\n",
       "<polyline clip-path=\"url(#clip02)\" style=\"stroke:#00002d; stroke-width:0.8; stroke-opacity:1; fill:none\" points=\"\n",
       "  39.4926,313.467 47.8411,313.467 \n",
       "  \"/>\n",
       "<polyline clip-path=\"url(#clip02)\" style=\"stroke:#00002d; stroke-width:0.8; stroke-opacity:1; fill:none\" points=\"\n",
       "  39.4926,241.982 47.8411,241.982 \n",
       "  \"/>\n",
       "<polyline clip-path=\"url(#clip02)\" style=\"stroke:#00002d; stroke-width:0.8; stroke-opacity:1; fill:none\" points=\"\n",
       "  39.4926,170.497 47.8411,170.497 \n",
       "  \"/>\n",
       "<polyline clip-path=\"url(#clip02)\" style=\"stroke:#00002d; stroke-width:0.8; stroke-opacity:1; fill:none\" points=\"\n",
       "  39.4926,99.012 47.8411,99.012 \n",
       "  \"/>\n",
       "<polyline clip-path=\"url(#clip02)\" style=\"stroke:#00002d; stroke-width:0.8; stroke-opacity:1; fill:none\" points=\"\n",
       "  39.4926,27.527 47.8411,27.527 \n",
       "  \"/>\n",
       "<g clip-path=\"url(#clip00)\">\n",
       "<text style=\"fill:#00002d; fill-opacity:1; font-family:Arial,Helvetica Neue,Helvetica,sans-serif; font-size:12; text-anchor:middle;\" transform=\"rotate(0, 137.018, 396.952)\" x=\"137.018\" y=\"396.952\">-2.5</text>\n",
       "</g>\n",
       "<g clip-path=\"url(#clip00)\">\n",
       "<text style=\"fill:#00002d; fill-opacity:1; font-family:Arial,Helvetica Neue,Helvetica,sans-serif; font-size:12; text-anchor:middle;\" transform=\"rotate(0, 301.863, 396.952)\" x=\"301.863\" y=\"396.952\">0.0</text>\n",
       "</g>\n",
       "<g clip-path=\"url(#clip00)\">\n",
       "<text style=\"fill:#00002d; fill-opacity:1; font-family:Arial,Helvetica Neue,Helvetica,sans-serif; font-size:12; text-anchor:middle;\" transform=\"rotate(0, 466.708, 396.952)\" x=\"466.708\" y=\"396.952\">2.5</text>\n",
       "</g>\n",
       "<g clip-path=\"url(#clip00)\">\n",
       "<text style=\"fill:#00002d; fill-opacity:1; font-family:Arial,Helvetica Neue,Helvetica,sans-serif; font-size:12; text-anchor:end;\" transform=\"rotate(0, 38.2926, 389.452)\" x=\"38.2926\" y=\"389.452\">0</text>\n",
       "</g>\n",
       "<g clip-path=\"url(#clip00)\">\n",
       "<text style=\"fill:#00002d; fill-opacity:1; font-family:Arial,Helvetica Neue,Helvetica,sans-serif; font-size:12; text-anchor:end;\" transform=\"rotate(0, 38.2926, 317.967)\" x=\"38.2926\" y=\"317.967\">200</text>\n",
       "</g>\n",
       "<g clip-path=\"url(#clip00)\">\n",
       "<text style=\"fill:#00002d; fill-opacity:1; font-family:Arial,Helvetica Neue,Helvetica,sans-serif; font-size:12; text-anchor:end;\" transform=\"rotate(0, 38.2926, 246.482)\" x=\"38.2926\" y=\"246.482\">400</text>\n",
       "</g>\n",
       "<g clip-path=\"url(#clip00)\">\n",
       "<text style=\"fill:#00002d; fill-opacity:1; font-family:Arial,Helvetica Neue,Helvetica,sans-serif; font-size:12; text-anchor:end;\" transform=\"rotate(0, 38.2926, 174.997)\" x=\"38.2926\" y=\"174.997\">600</text>\n",
       "</g>\n",
       "<g clip-path=\"url(#clip00)\">\n",
       "<text style=\"fill:#00002d; fill-opacity:1; font-family:Arial,Helvetica Neue,Helvetica,sans-serif; font-size:12; text-anchor:end;\" transform=\"rotate(0, 38.2926, 103.512)\" x=\"38.2926\" y=\"103.512\">800</text>\n",
       "</g>\n",
       "<g clip-path=\"url(#clip00)\">\n",
       "<text style=\"fill:#00002d; fill-opacity:1; font-family:Arial,Helvetica Neue,Helvetica,sans-serif; font-size:12; text-anchor:end;\" transform=\"rotate(0, 38.2926, 32.027)\" x=\"38.2926\" y=\"32.027\">1000</text>\n",
       "</g>\n",
       "<polygon clip-path=\"url(#clip02)\" points=\"\n",
       "55.2446,384.237 55.2446,384.952 72.7468,384.952 72.7468,384.237 55.2446,384.237 55.2446,384.237 \n",
       "  \" fill=\"#0099ff\" fill-opacity=\"1\"/>\n",
       "<polyline clip-path=\"url(#clip02)\" style=\"stroke:#00002d; stroke-width:0.8; stroke-opacity:1; fill:none\" points=\"\n",
       "  55.2446,384.237 55.2446,384.952 72.7468,384.952 72.7468,384.237 55.2446,384.237 \n",
       "  \"/>\n",
       "<polygon clip-path=\"url(#clip02)\" points=\"\n",
       "72.7468,383.88 72.7468,384.952 90.249,384.952 90.249,383.88 72.7468,383.88 72.7468,383.88 \n",
       "  \" fill=\"#0099ff\" fill-opacity=\"1\"/>\n",
       "<polyline clip-path=\"url(#clip02)\" style=\"stroke:#00002d; stroke-width:0.8; stroke-opacity:1; fill:none\" points=\"\n",
       "  72.7468,383.88 72.7468,384.952 90.249,384.952 90.249,383.88 72.7468,383.88 \n",
       "  \"/>\n",
       "<polygon clip-path=\"url(#clip02)\" points=\"\n",
       "90.249,381.02 90.249,384.952 107.751,384.952 107.751,381.02 90.249,381.02 90.249,381.02 \n",
       "  \" fill=\"#0099ff\" fill-opacity=\"1\"/>\n",
       "<polyline clip-path=\"url(#clip02)\" style=\"stroke:#00002d; stroke-width:0.8; stroke-opacity:1; fill:none\" points=\"\n",
       "  90.249,381.02 90.249,384.952 107.751,384.952 107.751,381.02 90.249,381.02 \n",
       "  \"/>\n",
       "<polygon clip-path=\"url(#clip02)\" points=\"\n",
       "107.751,375.659 107.751,384.952 125.253,384.952 125.253,375.659 107.751,375.659 107.751,375.659 \n",
       "  \" fill=\"#0099ff\" fill-opacity=\"1\"/>\n",
       "<polyline clip-path=\"url(#clip02)\" style=\"stroke:#00002d; stroke-width:0.8; stroke-opacity:1; fill:none\" points=\"\n",
       "  107.751,375.659 107.751,384.952 125.253,384.952 125.253,375.659 107.751,375.659 \n",
       "  \"/>\n",
       "<polygon clip-path=\"url(#clip02)\" points=\"\n",
       "125.253,369.225 125.253,384.952 142.756,384.952 142.756,369.225 125.253,369.225 125.253,369.225 \n",
       "  \" fill=\"#0099ff\" fill-opacity=\"1\"/>\n",
       "<polyline clip-path=\"url(#clip02)\" style=\"stroke:#00002d; stroke-width:0.8; stroke-opacity:1; fill:none\" points=\"\n",
       "  125.253,369.225 125.253,384.952 142.756,384.952 142.756,369.225 125.253,369.225 \n",
       "  \"/>\n",
       "<polygon clip-path=\"url(#clip02)\" points=\"\n",
       "142.756,353.141 142.756,384.952 160.258,384.952 160.258,353.141 142.756,353.141 142.756,353.141 \n",
       "  \" fill=\"#0099ff\" fill-opacity=\"1\"/>\n",
       "<polyline clip-path=\"url(#clip02)\" style=\"stroke:#00002d; stroke-width:0.8; stroke-opacity:1; fill:none\" points=\"\n",
       "  142.756,353.141 142.756,384.952 160.258,384.952 160.258,353.141 142.756,353.141 \n",
       "  \"/>\n",
       "<polygon clip-path=\"url(#clip02)\" points=\"\n",
       "160.258,333.483 160.258,384.952 177.76,384.952 177.76,333.483 160.258,333.483 160.258,333.483 \n",
       "  \" fill=\"#0099ff\" fill-opacity=\"1\"/>\n",
       "<polyline clip-path=\"url(#clip02)\" style=\"stroke:#00002d; stroke-width:0.8; stroke-opacity:1; fill:none\" points=\"\n",
       "  160.258,333.483 160.258,384.952 177.76,384.952 177.76,333.483 160.258,333.483 \n",
       "  \"/>\n",
       "<polygon clip-path=\"url(#clip02)\" points=\"\n",
       "177.76,297.383 177.76,384.952 195.262,384.952 195.262,297.383 177.76,297.383 177.76,297.383 \n",
       "  \" fill=\"#0099ff\" fill-opacity=\"1\"/>\n",
       "<polyline clip-path=\"url(#clip02)\" style=\"stroke:#00002d; stroke-width:0.8; stroke-opacity:1; fill:none\" points=\"\n",
       "  177.76,297.383 177.76,384.952 195.262,384.952 195.262,297.383 177.76,297.383 \n",
       "  \"/>\n",
       "<polygon clip-path=\"url(#clip02)\" points=\"\n",
       "195.262,255.922 195.262,384.952 212.764,384.952 212.764,255.922 195.262,255.922 195.262,255.922 \n",
       "  \" fill=\"#0099ff\" fill-opacity=\"1\"/>\n",
       "<polyline clip-path=\"url(#clip02)\" style=\"stroke:#00002d; stroke-width:0.8; stroke-opacity:1; fill:none\" points=\"\n",
       "  195.262,255.922 195.262,384.952 212.764,384.952 212.764,255.922 195.262,255.922 \n",
       "  \"/>\n",
       "<polygon clip-path=\"url(#clip02)\" points=\"\n",
       "212.764,214.103 212.764,384.952 230.267,384.952 230.267,214.103 212.764,214.103 212.764,214.103 \n",
       "  \" fill=\"#0099ff\" fill-opacity=\"1\"/>\n",
       "<polyline clip-path=\"url(#clip02)\" style=\"stroke:#00002d; stroke-width:0.8; stroke-opacity:1; fill:none\" points=\"\n",
       "  212.764,214.103 212.764,384.952 230.267,384.952 230.267,214.103 212.764,214.103 \n",
       "  \"/>\n",
       "<polygon clip-path=\"url(#clip02)\" points=\"\n",
       "230.267,148.694 230.267,384.952 247.769,384.952 247.769,148.694 230.267,148.694 230.267,148.694 \n",
       "  \" fill=\"#0099ff\" fill-opacity=\"1\"/>\n",
       "<polyline clip-path=\"url(#clip02)\" style=\"stroke:#00002d; stroke-width:0.8; stroke-opacity:1; fill:none\" points=\"\n",
       "  230.267,148.694 230.267,384.952 247.769,384.952 247.769,148.694 230.267,148.694 \n",
       "  \"/>\n",
       "<polygon clip-path=\"url(#clip02)\" points=\"\n",
       "247.769,93.2932 247.769,384.952 265.271,384.952 265.271,93.2932 247.769,93.2932 247.769,93.2932 \n",
       "  \" fill=\"#0099ff\" fill-opacity=\"1\"/>\n",
       "<polyline clip-path=\"url(#clip02)\" style=\"stroke:#00002d; stroke-width:0.8; stroke-opacity:1; fill:none\" points=\"\n",
       "  247.769,93.2932 247.769,384.952 265.271,384.952 265.271,93.2932 247.769,93.2932 \n",
       "  \"/>\n",
       "<polygon clip-path=\"url(#clip02)\" points=\"\n",
       "265.271,30.3864 265.271,384.952 282.773,384.952 282.773,30.3864 265.271,30.3864 265.271,30.3864 \n",
       "  \" fill=\"#0099ff\" fill-opacity=\"1\"/>\n",
       "<polyline clip-path=\"url(#clip02)\" style=\"stroke:#00002d; stroke-width:0.8; stroke-opacity:1; fill:none\" points=\"\n",
       "  265.271,30.3864 265.271,384.952 282.773,384.952 282.773,30.3864 265.271,30.3864 \n",
       "  \"/>\n",
       "<polygon clip-path=\"url(#clip02)\" points=\"\n",
       "282.773,6.43898 282.773,384.952 300.276,384.952 300.276,6.43898 282.773,6.43898 282.773,6.43898 \n",
       "  \" fill=\"#0099ff\" fill-opacity=\"1\"/>\n",
       "<polyline clip-path=\"url(#clip02)\" style=\"stroke:#00002d; stroke-width:0.8; stroke-opacity:1; fill:none\" points=\"\n",
       "  282.773,6.43898 282.773,384.952 300.276,384.952 300.276,6.43898 282.773,6.43898 \n",
       "  \"/>\n",
       "<polygon clip-path=\"url(#clip02)\" points=\"\n",
       "300.276,3.93701 300.276,384.952 317.778,384.952 317.778,3.93701 300.276,3.93701 300.276,3.93701 \n",
       "  \" fill=\"#0099ff\" fill-opacity=\"1\"/>\n",
       "<polyline clip-path=\"url(#clip02)\" style=\"stroke:#00002d; stroke-width:0.8; stroke-opacity:1; fill:none\" points=\"\n",
       "  300.276,3.93701 300.276,384.952 317.778,384.952 317.778,3.93701 300.276,3.93701 \n",
       "  \"/>\n",
       "<polygon clip-path=\"url(#clip02)\" points=\"\n",
       "317.778,38.2498 317.778,384.952 335.28,384.952 335.28,38.2498 317.778,38.2498 317.778,38.2498 \n",
       "  \" fill=\"#0099ff\" fill-opacity=\"1\"/>\n",
       "<polyline clip-path=\"url(#clip02)\" style=\"stroke:#00002d; stroke-width:0.8; stroke-opacity:1; fill:none\" points=\"\n",
       "  317.778,38.2498 317.778,384.952 335.28,384.952 335.28,38.2498 317.778,38.2498 \n",
       "  \"/>\n",
       "<polygon clip-path=\"url(#clip02)\" points=\"\n",
       "335.28,75.7794 335.28,384.952 352.782,384.952 352.782,75.7794 335.28,75.7794 335.28,75.7794 \n",
       "  \" fill=\"#0099ff\" fill-opacity=\"1\"/>\n",
       "<polyline clip-path=\"url(#clip02)\" style=\"stroke:#00002d; stroke-width:0.8; stroke-opacity:1; fill:none\" points=\"\n",
       "  335.28,75.7794 335.28,384.952 352.782,384.952 352.782,75.7794 335.28,75.7794 \n",
       "  \"/>\n",
       "<polygon clip-path=\"url(#clip02)\" points=\"\n",
       "352.782,134.04 352.782,384.952 370.284,384.952 370.284,134.04 352.782,134.04 352.782,134.04 \n",
       "  \" fill=\"#0099ff\" fill-opacity=\"1\"/>\n",
       "<polyline clip-path=\"url(#clip02)\" style=\"stroke:#00002d; stroke-width:0.8; stroke-opacity:1; fill:none\" points=\"\n",
       "  352.782,134.04 352.782,384.952 370.284,384.952 370.284,134.04 352.782,134.04 \n",
       "  \"/>\n",
       "<polygon clip-path=\"url(#clip02)\" points=\"\n",
       "370.284,199.448 370.284,384.952 387.787,384.952 387.787,199.448 370.284,199.448 370.284,199.448 \n",
       "  \" fill=\"#0099ff\" fill-opacity=\"1\"/>\n",
       "<polyline clip-path=\"url(#clip02)\" style=\"stroke:#00002d; stroke-width:0.8; stroke-opacity:1; fill:none\" points=\"\n",
       "  370.284,199.448 370.284,384.952 387.787,384.952 387.787,199.448 370.284,199.448 \n",
       "  \"/>\n",
       "<polygon clip-path=\"url(#clip02)\" points=\"\n",
       "387.787,249.13 387.787,384.952 405.289,384.952 405.289,249.13 387.787,249.13 387.787,249.13 \n",
       "  \" fill=\"#0099ff\" fill-opacity=\"1\"/>\n",
       "<polyline clip-path=\"url(#clip02)\" style=\"stroke:#00002d; stroke-width:0.8; stroke-opacity:1; fill:none\" points=\"\n",
       "  387.787,249.13 387.787,384.952 405.289,384.952 405.289,249.13 387.787,249.13 \n",
       "  \"/>\n",
       "<polygon clip-path=\"url(#clip02)\" points=\"\n",
       "405.289,292.021 405.289,384.952 422.791,384.952 422.791,292.021 405.289,292.021 405.289,292.021 \n",
       "  \" fill=\"#0099ff\" fill-opacity=\"1\"/>\n",
       "<polyline clip-path=\"url(#clip02)\" style=\"stroke:#00002d; stroke-width:0.8; stroke-opacity:1; fill:none\" points=\"\n",
       "  405.289,292.021 405.289,384.952 422.791,384.952 422.791,292.021 405.289,292.021 \n",
       "  \"/>\n",
       "<polygon clip-path=\"url(#clip02)\" points=\"\n",
       "422.791,333.84 422.791,384.952 440.293,384.952 440.293,333.84 422.791,333.84 422.791,333.84 \n",
       "  \" fill=\"#0099ff\" fill-opacity=\"1\"/>\n",
       "<polyline clip-path=\"url(#clip02)\" style=\"stroke:#00002d; stroke-width:0.8; stroke-opacity:1; fill:none\" points=\"\n",
       "  422.791,333.84 422.791,384.952 440.293,384.952 440.293,333.84 422.791,333.84 \n",
       "  \"/>\n",
       "<polygon clip-path=\"url(#clip02)\" points=\"\n",
       "440.293,356.715 440.293,384.952 457.795,384.952 457.795,356.715 440.293,356.715 440.293,356.715 \n",
       "  \" fill=\"#0099ff\" fill-opacity=\"1\"/>\n",
       "<polyline clip-path=\"url(#clip02)\" style=\"stroke:#00002d; stroke-width:0.8; stroke-opacity:1; fill:none\" points=\"\n",
       "  440.293,356.715 440.293,384.952 457.795,384.952 457.795,356.715 440.293,356.715 \n",
       "  \"/>\n",
       "<polygon clip-path=\"url(#clip02)\" points=\"\n",
       "457.795,369.225 457.795,384.952 475.298,384.952 475.298,369.225 457.795,369.225 457.795,369.225 \n",
       "  \" fill=\"#0099ff\" fill-opacity=\"1\"/>\n",
       "<polyline clip-path=\"url(#clip02)\" style=\"stroke:#00002d; stroke-width:0.8; stroke-opacity:1; fill:none\" points=\"\n",
       "  457.795,369.225 457.795,384.952 475.298,384.952 475.298,369.225 457.795,369.225 \n",
       "  \"/>\n",
       "<polygon clip-path=\"url(#clip02)\" points=\"\n",
       "475.298,377.089 475.298,384.952 492.8,384.952 492.8,377.089 475.298,377.089 475.298,377.089 \n",
       "  \" fill=\"#0099ff\" fill-opacity=\"1\"/>\n",
       "<polyline clip-path=\"url(#clip02)\" style=\"stroke:#00002d; stroke-width:0.8; stroke-opacity:1; fill:none\" points=\"\n",
       "  475.298,377.089 475.298,384.952 492.8,384.952 492.8,377.089 475.298,377.089 \n",
       "  \"/>\n",
       "<polygon clip-path=\"url(#clip02)\" points=\"\n",
       "492.8,380.663 492.8,384.952 510.302,384.952 510.302,380.663 492.8,380.663 492.8,380.663 \n",
       "  \" fill=\"#0099ff\" fill-opacity=\"1\"/>\n",
       "<polyline clip-path=\"url(#clip02)\" style=\"stroke:#00002d; stroke-width:0.8; stroke-opacity:1; fill:none\" points=\"\n",
       "  492.8,380.663 492.8,384.952 510.302,384.952 510.302,380.663 492.8,380.663 \n",
       "  \"/>\n",
       "<polygon clip-path=\"url(#clip02)\" points=\"\n",
       "510.302,383.522 510.302,384.952 527.804,384.952 527.804,383.522 510.302,383.522 510.302,383.522 \n",
       "  \" fill=\"#0099ff\" fill-opacity=\"1\"/>\n",
       "<polyline clip-path=\"url(#clip02)\" style=\"stroke:#00002d; stroke-width:0.8; stroke-opacity:1; fill:none\" points=\"\n",
       "  510.302,383.522 510.302,384.952 527.804,384.952 527.804,383.522 510.302,383.522 \n",
       "  \"/>\n",
       "<polygon clip-path=\"url(#clip02)\" points=\"\n",
       "527.804,384.594 527.804,384.952 545.307,384.952 545.307,384.594 527.804,384.594 527.804,384.594 \n",
       "  \" fill=\"#0099ff\" fill-opacity=\"1\"/>\n",
       "<polyline clip-path=\"url(#clip02)\" style=\"stroke:#00002d; stroke-width:0.8; stroke-opacity:1; fill:none\" points=\"\n",
       "  527.804,384.594 527.804,384.952 545.307,384.952 545.307,384.594 527.804,384.594 \n",
       "  \"/>\n",
       "<polygon clip-path=\"url(#clip02)\" points=\"\n",
       "545.307,384.952 545.307,384.952 562.809,384.952 562.809,384.952 545.307,384.952 545.307,384.952 \n",
       "  \" fill=\"#0099ff\" fill-opacity=\"1\"/>\n",
       "<polyline clip-path=\"url(#clip02)\" style=\"stroke:#00002d; stroke-width:0.8; stroke-opacity:1; fill:none\" points=\"\n",
       "  545.307,384.952 545.307,384.952 562.809,384.952 545.307,384.952 \n",
       "  \"/>\n",
       "<polygon clip-path=\"url(#clip02)\" points=\"\n",
       "562.809,384.237 562.809,384.952 580.311,384.952 580.311,384.237 562.809,384.237 562.809,384.237 \n",
       "  \" fill=\"#0099ff\" fill-opacity=\"1\"/>\n",
       "<polyline clip-path=\"url(#clip02)\" style=\"stroke:#00002d; stroke-width:0.8; stroke-opacity:1; fill:none\" points=\"\n",
       "  562.809,384.237 562.809,384.952 580.311,384.952 580.311,384.237 562.809,384.237 \n",
       "  \"/>\n",
       "<polygon clip-path=\"url(#clip00)\" points=\"\n",
       "505.547,55.057 578.063,55.057 578.063,24.817 505.547,24.817 \n",
       "  \" fill=\"#ffffff\" fill-opacity=\"1\"/>\n",
       "<polyline clip-path=\"url(#clip00)\" style=\"stroke:#00002d; stroke-width:0.8; stroke-opacity:1; fill:none\" points=\"\n",
       "  505.547,55.057 578.063,55.057 578.063,24.817 505.547,24.817 505.547,55.057 \n",
       "  \"/>\n",
       "<polygon clip-path=\"url(#clip00)\" points=\"\n",
       "511.547,45.985 547.547,45.985 547.547,33.889 511.547,33.889 511.547,45.985 \n",
       "  \" fill=\"#0099ff\" fill-opacity=\"1\"/>\n",
       "<polyline clip-path=\"url(#clip00)\" style=\"stroke:#00002d; stroke-width:0.8; stroke-opacity:1; fill:none\" points=\"\n",
       "  511.547,45.985 547.547,45.985 547.547,33.889 511.547,33.889 511.547,45.985 \n",
       "  \"/>\n",
       "<g clip-path=\"url(#clip00)\">\n",
       "<text style=\"fill:#00002d; fill-opacity:1; font-family:Arial,Helvetica Neue,Helvetica,sans-serif; font-size:12; text-anchor:start;\" transform=\"rotate(0, 553.547, 44.437)\" x=\"553.547\" y=\"44.437\">y1</text>\n",
       "</g>\n",
       "</svg>\n"
      ]
     },
     "execution_count": 14,
     "metadata": {},
     "output_type": "execute_result"
    }
   ],
   "source": [
    "histogram(t_values)"
   ]
  },
  {
   "cell_type": "code",
   "execution_count": 15,
   "metadata": {
    "collapsed": false
   },
   "outputs": [
    {
     "data": {
      "text/plain": [
       "tstat_prob_mass (generic function with 1 method)"
      ]
     },
     "execution_count": 15,
     "metadata": {},
     "output_type": "execute_result"
    }
   ],
   "source": [
    "function tstat_prob_mass(t_values)\n",
    "    pass = 0\n",
    "    for i = 1:length(t_values)\n",
    "        if abs(t_values[i]) <= 1.96\n",
    "            pass +=1\n",
    "        end\n",
    "    end\n",
    "    return pass/length(t_values)\n",
    "end"
   ]
  },
  {
   "cell_type": "code",
   "execution_count": 16,
   "metadata": {
    "collapsed": false
   },
   "outputs": [
    {
     "data": {
      "text/plain": [
       "0.9502"
      ]
     },
     "execution_count": 16,
     "metadata": {},
     "output_type": "execute_result"
    }
   ],
   "source": [
    "tstat_prob_mass(t_values)"
   ]
  },
  {
   "cell_type": "markdown",
   "metadata": {},
   "source": [
    "## Conclusion"
   ]
  },
  {
   "cell_type": "markdown",
   "metadata": {},
   "source": [
    "From these results we clearly see that under the strict assumptions of Gauss-Markov the OLS estimator for $\\beta$ ($\\hat{\\beta}$) and the estimator for the standard deviation ($\\hat{\\sigma}$) of this estimator are unbiased and, even for small samples, very close to the true values. The estimated standard deviations can also be seen to decline with increasing sample size, thus the distribution of the estimated parameters grows more peaked around the real values. Since the error terms are pulled from a normal distribution and $\\hat{\\beta}$ is a weighted sum of these, where the weigting is deterministic, it is itself also normally distributed. This is proven by the Jarque-Bera test."
   ]
  },
  {
   "cell_type": "markdown",
   "metadata": {},
   "source": [
    "## MC with stochastic variables"
   ]
  },
  {
   "cell_type": "markdown",
   "metadata": {},
   "source": [
    "X now changes over each run, this causes some properties to change.\n",
    "\n",
    "We know X and $\\mu$ are still independent.\n",
    "\n",
    "OLS estimator is still:\n",
    "* unbiased \n",
    "* efficient \n",
    "\n",
    "but in small samples no longer necessarily normally distributed and the standard covariance matrix should be interpreted as being conditional on X. In large samples, the estimator will still be normally distributed."
   ]
  },
  {
   "cell_type": "code",
   "execution_count": 17,
   "metadata": {
    "collapsed": false
   },
   "outputs": [
    {
     "data": {
      "text/plain": [
       "mc_stoch (generic function with 1 method)"
      ]
     },
     "execution_count": 17,
     "metadata": {},
     "output_type": "execute_result"
    }
   ],
   "source": [
    "function mc_stoch(β, σ², T, runs)\n",
    "    K = length(β)\n",
    "    \n",
    "    # variables with mc results\n",
    "    β_mc    = zeros(runs, length(β))\n",
    "    β_var_mc= zeros(runs, length(β))\n",
    "\n",
    "    # pre-allocate\n",
    "    μ_dist = Normal(0, √σ²)\n",
    "    X_dist = Normal(5, 2)\n",
    "    \n",
    "    X = ones(T, K)\n",
    "    for run = 1:runs\n",
    "        # simulate inside the loop\n",
    "        X[:, 2:end] = rand(X_dist, T, K-1)\n",
    "        y = X*β + rand(μ_dist, T)\n",
    "        result = ols(y, X)\n",
    "        \n",
    "        β_mc[run, :] = result.coefs\n",
    "        β_var_mc[run,:] = diag(result.vcv)\n",
    "    end\n",
    "    \n",
    "    return β_mc, β, mean(β_mc,1), sqrt(mean(β_var_mc,1)), std(β_mc,1)\n",
    "end"
   ]
  },
  {
   "cell_type": "code",
   "execution_count": 18,
   "metadata": {
    "collapsed": false
   },
   "outputs": [
    {
     "data": {
      "text/html": [
       "<?xml version=\"1.0\" encoding=\"utf-8\"?>\n",
       "<svg xmlns=\"http://www.w3.org/2000/svg\" xmlns:xlink=\"http://www.w3.org/1999/xlink\" width=\"600\" height=\"400\" viewBox=\"0 0 600 400\">\n",
       "<defs>\n",
       "  <clipPath id=\"clip00\">\n",
       "    <rect x=\"0\" y=\"0\" width=\"600\" height=\"400\"/>\n",
       "  </clipPath>\n",
       "</defs>\n",
       "<polygon clip-path=\"url(#clip00)\" points=\"\n",
       "0,400 600,400 600,0 0,0 \n",
       "  \" fill=\"#ffffff\" fill-opacity=\"1\"/>\n",
       "<defs>\n",
       "  <clipPath id=\"clip01\">\n",
       "    <rect x=\"120\" y=\"0\" width=\"421\" height=\"400\"/>\n",
       "  </clipPath>\n",
       "</defs>\n",
       "<polygon clip-path=\"url(#clip00)\" points=\"\n",
       "30.6037,384.952 596.063,384.952 596.063,3.93701 30.6037,3.93701 \n",
       "  \" fill=\"#ffffff\" fill-opacity=\"1\"/>\n",
       "<defs>\n",
       "  <clipPath id=\"clip02\">\n",
       "    <rect x=\"30\" y=\"3\" width=\"566\" height=\"382\"/>\n",
       "  </clipPath>\n",
       "</defs>\n",
       "<polyline clip-path=\"url(#clip02)\" style=\"stroke:#00002d; stroke-width:0.8; stroke-opacity:0.5; fill:none\" stroke-dasharray=\"1, 2\" points=\"\n",
       "  43.5107,379.237 43.5107,9.65223 \n",
       "  \"/>\n",
       "<polyline clip-path=\"url(#clip02)\" style=\"stroke:#00002d; stroke-width:0.8; stroke-opacity:0.5; fill:none\" stroke-dasharray=\"1, 2\" points=\"\n",
       "  157.344,379.237 157.344,9.65223 \n",
       "  \"/>\n",
       "<polyline clip-path=\"url(#clip02)\" style=\"stroke:#00002d; stroke-width:0.8; stroke-opacity:0.5; fill:none\" stroke-dasharray=\"1, 2\" points=\"\n",
       "  271.178,379.237 271.178,9.65223 \n",
       "  \"/>\n",
       "<polyline clip-path=\"url(#clip02)\" style=\"stroke:#00002d; stroke-width:0.8; stroke-opacity:0.5; fill:none\" stroke-dasharray=\"1, 2\" points=\"\n",
       "  385.011,379.237 385.011,9.65223 \n",
       "  \"/>\n",
       "<polyline clip-path=\"url(#clip02)\" style=\"stroke:#00002d; stroke-width:0.8; stroke-opacity:0.5; fill:none\" stroke-dasharray=\"1, 2\" points=\"\n",
       "  498.845,379.237 498.845,9.65223 \n",
       "  \"/>\n",
       "<polyline clip-path=\"url(#clip02)\" style=\"stroke:#00002d; stroke-width:0.8; stroke-opacity:0.5; fill:none\" stroke-dasharray=\"1, 2\" points=\"\n",
       "  39.0856,384.952 587.581,384.952 \n",
       "  \"/>\n",
       "<polyline clip-path=\"url(#clip02)\" style=\"stroke:#00002d; stroke-width:0.8; stroke-opacity:0.5; fill:none\" stroke-dasharray=\"1, 2\" points=\"\n",
       "  39.0856,318.688 587.581,318.688 \n",
       "  \"/>\n",
       "<polyline clip-path=\"url(#clip02)\" style=\"stroke:#00002d; stroke-width:0.8; stroke-opacity:0.5; fill:none\" stroke-dasharray=\"1, 2\" points=\"\n",
       "  39.0856,252.425 587.581,252.425 \n",
       "  \"/>\n",
       "<polyline clip-path=\"url(#clip02)\" style=\"stroke:#00002d; stroke-width:0.8; stroke-opacity:0.5; fill:none\" stroke-dasharray=\"1, 2\" points=\"\n",
       "  39.0856,186.162 587.581,186.162 \n",
       "  \"/>\n",
       "<polyline clip-path=\"url(#clip02)\" style=\"stroke:#00002d; stroke-width:0.8; stroke-opacity:0.5; fill:none\" stroke-dasharray=\"1, 2\" points=\"\n",
       "  39.0856,119.898 587.581,119.898 \n",
       "  \"/>\n",
       "<polyline clip-path=\"url(#clip02)\" style=\"stroke:#00002d; stroke-width:0.8; stroke-opacity:0.5; fill:none\" stroke-dasharray=\"1, 2\" points=\"\n",
       "  39.0856,53.6346 587.581,53.6346 \n",
       "  \"/>\n",
       "<polyline clip-path=\"url(#clip02)\" style=\"stroke:#00002d; stroke-width:0.8; stroke-opacity:1; fill:none\" points=\"\n",
       "  30.6037,384.952 596.063,384.952 \n",
       "  \"/>\n",
       "<polyline clip-path=\"url(#clip02)\" style=\"stroke:#00002d; stroke-width:0.8; stroke-opacity:1; fill:none\" points=\"\n",
       "  43.5107,384.952 43.5107,379.237 \n",
       "  \"/>\n",
       "<polyline clip-path=\"url(#clip02)\" style=\"stroke:#00002d; stroke-width:0.8; stroke-opacity:1; fill:none\" points=\"\n",
       "  157.344,384.952 157.344,379.237 \n",
       "  \"/>\n",
       "<polyline clip-path=\"url(#clip02)\" style=\"stroke:#00002d; stroke-width:0.8; stroke-opacity:1; fill:none\" points=\"\n",
       "  271.178,384.952 271.178,379.237 \n",
       "  \"/>\n",
       "<polyline clip-path=\"url(#clip02)\" style=\"stroke:#00002d; stroke-width:0.8; stroke-opacity:1; fill:none\" points=\"\n",
       "  385.011,384.952 385.011,379.237 \n",
       "  \"/>\n",
       "<polyline clip-path=\"url(#clip02)\" style=\"stroke:#00002d; stroke-width:0.8; stroke-opacity:1; fill:none\" points=\"\n",
       "  498.845,384.952 498.845,379.237 \n",
       "  \"/>\n",
       "<polyline clip-path=\"url(#clip02)\" style=\"stroke:#00002d; stroke-width:0.8; stroke-opacity:1; fill:none\" points=\"\n",
       "  30.6037,384.952 30.6037,3.93701 \n",
       "  \"/>\n",
       "<polyline clip-path=\"url(#clip02)\" style=\"stroke:#00002d; stroke-width:0.8; stroke-opacity:1; fill:none\" points=\"\n",
       "  30.6037,384.952 39.0856,384.952 \n",
       "  \"/>\n",
       "<polyline clip-path=\"url(#clip02)\" style=\"stroke:#00002d; stroke-width:0.8; stroke-opacity:1; fill:none\" points=\"\n",
       "  30.6037,318.688 39.0856,318.688 \n",
       "  \"/>\n",
       "<polyline clip-path=\"url(#clip02)\" style=\"stroke:#00002d; stroke-width:0.8; stroke-opacity:1; fill:none\" points=\"\n",
       "  30.6037,252.425 39.0856,252.425 \n",
       "  \"/>\n",
       "<polyline clip-path=\"url(#clip02)\" style=\"stroke:#00002d; stroke-width:0.8; stroke-opacity:1; fill:none\" points=\"\n",
       "  30.6037,186.162 39.0856,186.162 \n",
       "  \"/>\n",
       "<polyline clip-path=\"url(#clip02)\" style=\"stroke:#00002d; stroke-width:0.8; stroke-opacity:1; fill:none\" points=\"\n",
       "  30.6037,119.898 39.0856,119.898 \n",
       "  \"/>\n",
       "<polyline clip-path=\"url(#clip02)\" style=\"stroke:#00002d; stroke-width:0.8; stroke-opacity:1; fill:none\" points=\"\n",
       "  30.6037,53.6346 39.0856,53.6346 \n",
       "  \"/>\n",
       "<g clip-path=\"url(#clip00)\">\n",
       "<text style=\"fill:#00002d; fill-opacity:1; font-family:Arial,Helvetica Neue,Helvetica,sans-serif; font-size:12; text-anchor:middle;\" transform=\"rotate(0, 43.5107, 396.952)\" x=\"43.5107\" y=\"396.952\">8</text>\n",
       "</g>\n",
       "<g clip-path=\"url(#clip00)\">\n",
       "<text style=\"fill:#00002d; fill-opacity:1; font-family:Arial,Helvetica Neue,Helvetica,sans-serif; font-size:12; text-anchor:middle;\" transform=\"rotate(0, 157.344, 396.952)\" x=\"157.344\" y=\"396.952\">9</text>\n",
       "</g>\n",
       "<g clip-path=\"url(#clip00)\">\n",
       "<text style=\"fill:#00002d; fill-opacity:1; font-family:Arial,Helvetica Neue,Helvetica,sans-serif; font-size:12; text-anchor:middle;\" transform=\"rotate(0, 271.178, 396.952)\" x=\"271.178\" y=\"396.952\">10</text>\n",
       "</g>\n",
       "<g clip-path=\"url(#clip00)\">\n",
       "<text style=\"fill:#00002d; fill-opacity:1; font-family:Arial,Helvetica Neue,Helvetica,sans-serif; font-size:12; text-anchor:middle;\" transform=\"rotate(0, 385.011, 396.952)\" x=\"385.011\" y=\"396.952\">11</text>\n",
       "</g>\n",
       "<g clip-path=\"url(#clip00)\">\n",
       "<text style=\"fill:#00002d; fill-opacity:1; font-family:Arial,Helvetica Neue,Helvetica,sans-serif; font-size:12; text-anchor:middle;\" transform=\"rotate(0, 498.845, 396.952)\" x=\"498.845\" y=\"396.952\">12</text>\n",
       "</g>\n",
       "<g clip-path=\"url(#clip00)\">\n",
       "<text style=\"fill:#00002d; fill-opacity:1; font-family:Arial,Helvetica Neue,Helvetica,sans-serif; font-size:12; text-anchor:end;\" transform=\"rotate(0, 29.4037, 389.452)\" x=\"29.4037\" y=\"389.452\">0</text>\n",
       "</g>\n",
       "<g clip-path=\"url(#clip00)\">\n",
       "<text style=\"fill:#00002d; fill-opacity:1; font-family:Arial,Helvetica Neue,Helvetica,sans-serif; font-size:12; text-anchor:end;\" transform=\"rotate(0, 29.4037, 323.188)\" x=\"29.4037\" y=\"323.188\">100</text>\n",
       "</g>\n",
       "<g clip-path=\"url(#clip00)\">\n",
       "<text style=\"fill:#00002d; fill-opacity:1; font-family:Arial,Helvetica Neue,Helvetica,sans-serif; font-size:12; text-anchor:end;\" transform=\"rotate(0, 29.4037, 256.925)\" x=\"29.4037\" y=\"256.925\">200</text>\n",
       "</g>\n",
       "<g clip-path=\"url(#clip00)\">\n",
       "<text style=\"fill:#00002d; fill-opacity:1; font-family:Arial,Helvetica Neue,Helvetica,sans-serif; font-size:12; text-anchor:end;\" transform=\"rotate(0, 29.4037, 190.662)\" x=\"29.4037\" y=\"190.662\">300</text>\n",
       "</g>\n",
       "<g clip-path=\"url(#clip00)\">\n",
       "<text style=\"fill:#00002d; fill-opacity:1; font-family:Arial,Helvetica Neue,Helvetica,sans-serif; font-size:12; text-anchor:end;\" transform=\"rotate(0, 29.4037, 124.398)\" x=\"29.4037\" y=\"124.398\">400</text>\n",
       "</g>\n",
       "<g clip-path=\"url(#clip00)\">\n",
       "<text style=\"fill:#00002d; fill-opacity:1; font-family:Arial,Helvetica Neue,Helvetica,sans-serif; font-size:12; text-anchor:end;\" transform=\"rotate(0, 29.4037, 58.1346)\" x=\"29.4037\" y=\"58.1346\">500</text>\n",
       "</g>\n",
       "<polygon clip-path=\"url(#clip02)\" points=\"\n",
       "46.6072,380.976 46.6072,384.952 64.389,384.952 64.389,380.976 46.6072,380.976 46.6072,380.976 \n",
       "  \" fill=\"#0099ff\" fill-opacity=\"1\"/>\n",
       "<polyline clip-path=\"url(#clip02)\" style=\"stroke:#00002d; stroke-width:0.8; stroke-opacity:1; fill:none\" points=\"\n",
       "  46.6072,380.976 46.6072,384.952 64.389,384.952 64.389,380.976 46.6072,380.976 \n",
       "  \"/>\n",
       "<polygon clip-path=\"url(#clip02)\" points=\"\n",
       "64.389,378.988 64.389,384.952 82.1707,384.952 82.1707,378.988 64.389,378.988 64.389,378.988 \n",
       "  \" fill=\"#0099ff\" fill-opacity=\"1\"/>\n",
       "<polyline clip-path=\"url(#clip02)\" style=\"stroke:#00002d; stroke-width:0.8; stroke-opacity:1; fill:none\" points=\"\n",
       "  64.389,378.988 64.389,384.952 82.1707,384.952 82.1707,378.988 64.389,378.988 \n",
       "  \"/>\n",
       "<polygon clip-path=\"url(#clip02)\" points=\"\n",
       "82.1707,373.024 82.1707,384.952 99.9525,384.952 99.9525,373.024 82.1707,373.024 82.1707,373.024 \n",
       "  \" fill=\"#0099ff\" fill-opacity=\"1\"/>\n",
       "<polyline clip-path=\"url(#clip02)\" style=\"stroke:#00002d; stroke-width:0.8; stroke-opacity:1; fill:none\" points=\"\n",
       "  82.1707,373.024 82.1707,384.952 99.9525,384.952 99.9525,373.024 82.1707,373.024 \n",
       "  \"/>\n",
       "<polygon clip-path=\"url(#clip02)\" points=\"\n",
       "99.9525,368.386 99.9525,384.952 117.734,384.952 117.734,368.386 99.9525,368.386 99.9525,368.386 \n",
       "  \" fill=\"#0099ff\" fill-opacity=\"1\"/>\n",
       "<polyline clip-path=\"url(#clip02)\" style=\"stroke:#00002d; stroke-width:0.8; stroke-opacity:1; fill:none\" points=\"\n",
       "  99.9525,368.386 99.9525,384.952 117.734,384.952 117.734,368.386 99.9525,368.386 \n",
       "  \"/>\n",
       "<polygon clip-path=\"url(#clip02)\" points=\"\n",
       "117.734,353.145 117.734,384.952 135.516,384.952 135.516,353.145 117.734,353.145 117.734,353.145 \n",
       "  \" fill=\"#0099ff\" fill-opacity=\"1\"/>\n",
       "<polyline clip-path=\"url(#clip02)\" style=\"stroke:#00002d; stroke-width:0.8; stroke-opacity:1; fill:none\" points=\"\n",
       "  117.734,353.145 117.734,384.952 135.516,384.952 135.516,353.145 117.734,353.145 \n",
       "  \"/>\n",
       "<polygon clip-path=\"url(#clip02)\" points=\"\n",
       "135.516,323.99 135.516,384.952 153.298,384.952 153.298,323.99 135.516,323.99 135.516,323.99 \n",
       "  \" fill=\"#0099ff\" fill-opacity=\"1\"/>\n",
       "<polyline clip-path=\"url(#clip02)\" style=\"stroke:#00002d; stroke-width:0.8; stroke-opacity:1; fill:none\" points=\"\n",
       "  135.516,323.99 135.516,384.952 153.298,384.952 153.298,323.99 135.516,323.99 \n",
       "  \"/>\n",
       "<polygon clip-path=\"url(#clip02)\" points=\"\n",
       "153.298,299.472 153.298,384.952 171.079,384.952 171.079,299.472 153.298,299.472 153.298,299.472 \n",
       "  \" fill=\"#0099ff\" fill-opacity=\"1\"/>\n",
       "<polyline clip-path=\"url(#clip02)\" style=\"stroke:#00002d; stroke-width:0.8; stroke-opacity:1; fill:none\" points=\"\n",
       "  153.298,299.472 153.298,384.952 171.079,384.952 171.079,299.472 153.298,299.472 \n",
       "  \"/>\n",
       "<polygon clip-path=\"url(#clip02)\" points=\"\n",
       "171.079,271.641 171.079,384.952 188.861,384.952 188.861,271.641 171.079,271.641 171.079,271.641 \n",
       "  \" fill=\"#0099ff\" fill-opacity=\"1\"/>\n",
       "<polyline clip-path=\"url(#clip02)\" style=\"stroke:#00002d; stroke-width:0.8; stroke-opacity:1; fill:none\" points=\"\n",
       "  171.079,271.641 171.079,384.952 188.861,384.952 188.861,271.641 171.079,271.641 \n",
       "  \"/>\n",
       "<polygon clip-path=\"url(#clip02)\" points=\"\n",
       "188.861,187.487 188.861,384.952 206.643,384.952 206.643,187.487 188.861,187.487 188.861,187.487 \n",
       "  \" fill=\"#0099ff\" fill-opacity=\"1\"/>\n",
       "<polyline clip-path=\"url(#clip02)\" style=\"stroke:#00002d; stroke-width:0.8; stroke-opacity:1; fill:none\" points=\"\n",
       "  188.861,187.487 188.861,384.952 206.643,384.952 206.643,187.487 188.861,187.487 \n",
       "  \"/>\n",
       "<polygon clip-path=\"url(#clip02)\" points=\"\n",
       "206.643,130.5 206.643,384.952 224.425,384.952 224.425,130.5 206.643,130.5 206.643,130.5 \n",
       "  \" fill=\"#0099ff\" fill-opacity=\"1\"/>\n",
       "<polyline clip-path=\"url(#clip02)\" style=\"stroke:#00002d; stroke-width:0.8; stroke-opacity:1; fill:none\" points=\"\n",
       "  206.643,130.5 206.643,384.952 224.425,384.952 224.425,130.5 206.643,130.5 \n",
       "  \"/>\n",
       "<polygon clip-path=\"url(#clip02)\" points=\"\n",
       "224.425,109.296 224.425,384.952 242.206,384.952 242.206,109.296 224.425,109.296 224.425,109.296 \n",
       "  \" fill=\"#0099ff\" fill-opacity=\"1\"/>\n",
       "<polyline clip-path=\"url(#clip02)\" style=\"stroke:#00002d; stroke-width:0.8; stroke-opacity:1; fill:none\" points=\"\n",
       "  224.425,109.296 224.425,384.952 242.206,384.952 242.206,109.296 224.425,109.296 \n",
       "  \"/>\n",
       "<polygon clip-path=\"url(#clip02)\" points=\"\n",
       "242.206,38.394 242.206,384.952 259.988,384.952 259.988,38.394 242.206,38.394 242.206,38.394 \n",
       "  \" fill=\"#0099ff\" fill-opacity=\"1\"/>\n",
       "<polyline clip-path=\"url(#clip02)\" style=\"stroke:#00002d; stroke-width:0.8; stroke-opacity:1; fill:none\" points=\"\n",
       "  242.206,38.394 242.206,384.952 259.988,384.952 259.988,38.394 242.206,38.394 \n",
       "  \"/>\n",
       "<polygon clip-path=\"url(#clip02)\" points=\"\n",
       "259.988,9.90072 259.988,384.952 277.77,384.952 277.77,9.90072 259.988,9.90072 259.988,9.90072 \n",
       "  \" fill=\"#0099ff\" fill-opacity=\"1\"/>\n",
       "<polyline clip-path=\"url(#clip02)\" style=\"stroke:#00002d; stroke-width:0.8; stroke-opacity:1; fill:none\" points=\"\n",
       "  259.988,9.90072 259.988,384.952 277.77,384.952 277.77,9.90072 259.988,9.90072 \n",
       "  \"/>\n",
       "<polygon clip-path=\"url(#clip02)\" points=\"\n",
       "277.77,3.93701 277.77,384.952 295.552,384.952 295.552,3.93701 277.77,3.93701 277.77,3.93701 \n",
       "  \" fill=\"#0099ff\" fill-opacity=\"1\"/>\n",
       "<polyline clip-path=\"url(#clip02)\" style=\"stroke:#00002d; stroke-width:0.8; stroke-opacity:1; fill:none\" points=\"\n",
       "  277.77,3.93701 277.77,384.952 295.552,384.952 295.552,3.93701 277.77,3.93701 \n",
       "  \"/>\n",
       "<polygon clip-path=\"url(#clip02)\" points=\"\n",
       "295.552,72.851 295.552,384.952 313.333,384.952 313.333,72.851 295.552,72.851 295.552,72.851 \n",
       "  \" fill=\"#0099ff\" fill-opacity=\"1\"/>\n",
       "<polyline clip-path=\"url(#clip02)\" style=\"stroke:#00002d; stroke-width:0.8; stroke-opacity:1; fill:none\" points=\"\n",
       "  295.552,72.851 295.552,384.952 313.333,384.952 313.333,72.851 295.552,72.851 \n",
       "  \"/>\n",
       "<polygon clip-path=\"url(#clip02)\" points=\"\n",
       "313.333,118.573 313.333,384.952 331.115,384.952 331.115,118.573 313.333,118.573 313.333,118.573 \n",
       "  \" fill=\"#0099ff\" fill-opacity=\"1\"/>\n",
       "<polyline clip-path=\"url(#clip02)\" style=\"stroke:#00002d; stroke-width:0.8; stroke-opacity:1; fill:none\" points=\"\n",
       "  313.333,118.573 313.333,384.952 331.115,384.952 331.115,118.573 313.333,118.573 \n",
       "  \"/>\n",
       "<polygon clip-path=\"url(#clip02)\" points=\"\n",
       "331.115,190.8 331.115,384.952 348.897,384.952 348.897,190.8 331.115,190.8 331.115,190.8 \n",
       "  \" fill=\"#0099ff\" fill-opacity=\"1\"/>\n",
       "<polyline clip-path=\"url(#clip02)\" style=\"stroke:#00002d; stroke-width:0.8; stroke-opacity:1; fill:none\" points=\"\n",
       "  331.115,190.8 331.115,384.952 348.897,384.952 348.897,190.8 331.115,190.8 \n",
       "  \"/>\n",
       "<polygon clip-path=\"url(#clip02)\" points=\"\n",
       "348.897,252.425 348.897,384.952 366.679,384.952 366.679,252.425 348.897,252.425 348.897,252.425 \n",
       "  \" fill=\"#0099ff\" fill-opacity=\"1\"/>\n",
       "<polyline clip-path=\"url(#clip02)\" style=\"stroke:#00002d; stroke-width:0.8; stroke-opacity:1; fill:none\" points=\"\n",
       "  348.897,252.425 348.897,384.952 366.679,384.952 366.679,252.425 348.897,252.425 \n",
       "  \"/>\n",
       "<polygon clip-path=\"url(#clip02)\" points=\"\n",
       "366.679,287.545 366.679,384.952 384.46,384.952 384.46,287.545 366.679,287.545 366.679,287.545 \n",
       "  \" fill=\"#0099ff\" fill-opacity=\"1\"/>\n",
       "<polyline clip-path=\"url(#clip02)\" style=\"stroke:#00002d; stroke-width:0.8; stroke-opacity:1; fill:none\" points=\"\n",
       "  366.679,287.545 366.679,384.952 384.46,384.952 384.46,287.545 366.679,287.545 \n",
       "  \"/>\n",
       "<polygon clip-path=\"url(#clip02)\" points=\"\n",
       "384.46,322.002 384.46,384.952 402.242,384.952 402.242,322.002 384.46,322.002 384.46,322.002 \n",
       "  \" fill=\"#0099ff\" fill-opacity=\"1\"/>\n",
       "<polyline clip-path=\"url(#clip02)\" style=\"stroke:#00002d; stroke-width:0.8; stroke-opacity:1; fill:none\" points=\"\n",
       "  384.46,322.002 384.46,384.952 402.242,384.952 402.242,322.002 384.46,322.002 \n",
       "  \"/>\n",
       "<polygon clip-path=\"url(#clip02)\" points=\"\n",
       "402.242,345.856 402.242,384.952 420.024,384.952 420.024,345.856 402.242,345.856 402.242,345.856 \n",
       "  \" fill=\"#0099ff\" fill-opacity=\"1\"/>\n",
       "<polyline clip-path=\"url(#clip02)\" style=\"stroke:#00002d; stroke-width:0.8; stroke-opacity:1; fill:none\" points=\"\n",
       "  402.242,345.856 402.242,384.952 420.024,384.952 420.024,345.856 402.242,345.856 \n",
       "  \"/>\n",
       "<polygon clip-path=\"url(#clip02)\" points=\"\n",
       "420.024,362.422 420.024,384.952 437.806,384.952 437.806,362.422 420.024,362.422 420.024,362.422 \n",
       "  \" fill=\"#0099ff\" fill-opacity=\"1\"/>\n",
       "<polyline clip-path=\"url(#clip02)\" style=\"stroke:#00002d; stroke-width:0.8; stroke-opacity:1; fill:none\" points=\"\n",
       "  420.024,362.422 420.024,384.952 437.806,384.952 437.806,362.422 420.024,362.422 \n",
       "  \"/>\n",
       "<polygon clip-path=\"url(#clip02)\" points=\"\n",
       "437.806,374.35 437.806,384.952 455.587,384.952 455.587,374.35 437.806,374.35 437.806,374.35 \n",
       "  \" fill=\"#0099ff\" fill-opacity=\"1\"/>\n",
       "<polyline clip-path=\"url(#clip02)\" style=\"stroke:#00002d; stroke-width:0.8; stroke-opacity:1; fill:none\" points=\"\n",
       "  437.806,374.35 437.806,384.952 455.587,384.952 455.587,374.35 437.806,374.35 \n",
       "  \"/>\n",
       "<polygon clip-path=\"url(#clip02)\" points=\"\n",
       "455.587,378.988 455.587,384.952 473.369,384.952 473.369,378.988 455.587,378.988 455.587,378.988 \n",
       "  \" fill=\"#0099ff\" fill-opacity=\"1\"/>\n",
       "<polyline clip-path=\"url(#clip02)\" style=\"stroke:#00002d; stroke-width:0.8; stroke-opacity:1; fill:none\" points=\"\n",
       "  455.587,378.988 455.587,384.952 473.369,384.952 473.369,378.988 455.587,378.988 \n",
       "  \"/>\n",
       "<polygon clip-path=\"url(#clip02)\" points=\"\n",
       "473.369,382.964 473.369,384.952 491.151,384.952 491.151,382.964 473.369,382.964 473.369,382.964 \n",
       "  \" fill=\"#0099ff\" fill-opacity=\"1\"/>\n",
       "<polyline clip-path=\"url(#clip02)\" style=\"stroke:#00002d; stroke-width:0.8; stroke-opacity:1; fill:none\" points=\"\n",
       "  473.369,382.964 473.369,384.952 491.151,384.952 491.151,382.964 473.369,382.964 \n",
       "  \"/>\n",
       "<polygon clip-path=\"url(#clip02)\" points=\"\n",
       "491.151,382.301 491.151,384.952 508.932,384.952 508.932,382.301 491.151,382.301 491.151,382.301 \n",
       "  \" fill=\"#0099ff\" fill-opacity=\"1\"/>\n",
       "<polyline clip-path=\"url(#clip02)\" style=\"stroke:#00002d; stroke-width:0.8; stroke-opacity:1; fill:none\" points=\"\n",
       "  491.151,382.301 491.151,384.952 508.932,384.952 508.932,382.301 491.151,382.301 \n",
       "  \"/>\n",
       "<polygon clip-path=\"url(#clip02)\" points=\"\n",
       "508.932,381.639 508.932,384.952 526.714,384.952 526.714,381.639 508.932,381.639 508.932,381.639 \n",
       "  \" fill=\"#0099ff\" fill-opacity=\"1\"/>\n",
       "<polyline clip-path=\"url(#clip02)\" style=\"stroke:#00002d; stroke-width:0.8; stroke-opacity:1; fill:none\" points=\"\n",
       "  508.932,381.639 508.932,384.952 526.714,384.952 526.714,381.639 508.932,381.639 \n",
       "  \"/>\n",
       "<polygon clip-path=\"url(#clip02)\" points=\"\n",
       "526.714,384.289 526.714,384.952 544.496,384.952 544.496,384.289 526.714,384.289 526.714,384.289 \n",
       "  \" fill=\"#0099ff\" fill-opacity=\"1\"/>\n",
       "<polyline clip-path=\"url(#clip02)\" style=\"stroke:#00002d; stroke-width:0.8; stroke-opacity:1; fill:none\" points=\"\n",
       "  526.714,384.289 526.714,384.952 544.496,384.952 544.496,384.289 526.714,384.289 \n",
       "  \"/>\n",
       "<polygon clip-path=\"url(#clip02)\" points=\"\n",
       "544.496,384.952 544.496,384.952 562.278,384.952 562.278,384.952 544.496,384.952 544.496,384.952 \n",
       "  \" fill=\"#0099ff\" fill-opacity=\"1\"/>\n",
       "<polyline clip-path=\"url(#clip02)\" style=\"stroke:#00002d; stroke-width:0.8; stroke-opacity:1; fill:none\" points=\"\n",
       "  544.496,384.952 544.496,384.952 562.278,384.952 544.496,384.952 \n",
       "  \"/>\n",
       "<polygon clip-path=\"url(#clip02)\" points=\"\n",
       "562.278,384.289 562.278,384.952 580.059,384.952 580.059,384.289 562.278,384.289 562.278,384.289 \n",
       "  \" fill=\"#0099ff\" fill-opacity=\"1\"/>\n",
       "<polyline clip-path=\"url(#clip02)\" style=\"stroke:#00002d; stroke-width:0.8; stroke-opacity:1; fill:none\" points=\"\n",
       "  562.278,384.289 562.278,384.952 580.059,384.952 580.059,384.289 562.278,384.289 \n",
       "  \"/>\n",
       "<polygon clip-path=\"url(#clip00)\" points=\"\n",
       "505.547,55.057 578.063,55.057 578.063,24.817 505.547,24.817 \n",
       "  \" fill=\"#ffffff\" fill-opacity=\"1\"/>\n",
       "<polyline clip-path=\"url(#clip00)\" style=\"stroke:#00002d; stroke-width:0.8; stroke-opacity:1; fill:none\" points=\"\n",
       "  505.547,55.057 578.063,55.057 578.063,24.817 505.547,24.817 505.547,55.057 \n",
       "  \"/>\n",
       "<polygon clip-path=\"url(#clip00)\" points=\"\n",
       "511.547,45.985 547.547,45.985 547.547,33.889 511.547,33.889 511.547,45.985 \n",
       "  \" fill=\"#0099ff\" fill-opacity=\"1\"/>\n",
       "<polyline clip-path=\"url(#clip00)\" style=\"stroke:#00002d; stroke-width:0.8; stroke-opacity:1; fill:none\" points=\"\n",
       "  511.547,45.985 547.547,45.985 547.547,33.889 511.547,33.889 511.547,45.985 \n",
       "  \"/>\n",
       "<g clip-path=\"url(#clip00)\">\n",
       "<text style=\"fill:#00002d; fill-opacity:1; font-family:Arial,Helvetica Neue,Helvetica,sans-serif; font-size:12; text-anchor:start;\" transform=\"rotate(0, 553.547, 44.437)\" x=\"553.547\" y=\"44.437\">y1</text>\n",
       "</g>\n",
       "</svg>\n"
      ]
     },
     "execution_count": 18,
     "metadata": {},
     "output_type": "execute_result"
    }
   ],
   "source": [
    "β_mcs2, True_β, Est_β, True_σ, Est_σ = mc_stoch(β, σ², 25, 5000)\n",
    "histogram(β_mcs2[:,1])"
   ]
  },
  {
   "cell_type": "code",
   "execution_count": 19,
   "metadata": {
    "collapsed": false
   },
   "outputs": [
    {
     "data": {
      "text/plain": [
       "fill_jarque_bera_stoch (generic function with 1 method)"
      ]
     },
     "execution_count": 19,
     "metadata": {},
     "output_type": "execute_result"
    }
   ],
   "source": [
    "function fill_jarque_bera_stoch(β, σ², T, runs)\n",
    "    jb = zeros(1000)\n",
    "    for i = 1:1000\n",
    "        β_mcs, True_β, Est_β, True_σ, Est_σ = mc_stoch(β, σ², T, runs)\n",
    "        jb[i] = JB_test(β_mcs[:,1])\n",
    "        i+=1\n",
    "    end\n",
    "end"
   ]
  },
  {
   "cell_type": "code",
   "execution_count": 20,
   "metadata": {
    "collapsed": false
   },
   "outputs": [],
   "source": [
    "jb = fill_jarque_bera_stoch(β, σ², 25, runs)"
   ]
  },
  {
   "cell_type": "code",
   "execution_count": 21,
   "metadata": {
    "collapsed": false
   },
   "outputs": [
    {
     "ename": "LoadError",
     "evalue": "MethodError: no method matching length(::Void)\u001b[0m\nClosest candidates are:\n  length(\u001b[1m\u001b[31m::SimpleVector\u001b[0m) at essentials.jl:168\n  length(\u001b[1m\u001b[31m::Base.MethodList\u001b[0m) at reflection.jl:256\n  length(\u001b[1m\u001b[31m::MethodTable\u001b[0m) at reflection.jl:322\n  ...\u001b[0m",
     "output_type": "error",
     "traceback": [
      "MethodError: no method matching length(::Void)\u001b[0m\nClosest candidates are:\n  length(\u001b[1m\u001b[31m::SimpleVector\u001b[0m) at essentials.jl:168\n  length(\u001b[1m\u001b[31m::Base.MethodList\u001b[0m) at reflection.jl:256\n  length(\u001b[1m\u001b[31m::MethodTable\u001b[0m) at reflection.jl:322\n  ...\u001b[0m",
      "",
      " in JB_prob_mass(::Void) at ./In[8]:3"
     ]
    }
   ],
   "source": [
    "JB_prob_mass(jb)"
   ]
  },
  {
   "cell_type": "code",
   "execution_count": 22,
   "metadata": {
    "collapsed": false
   },
   "outputs": [
    {
     "ename": "LoadError",
     "evalue": "BoundsError: attempt to access 0-element Array{RecipesBase.RecipeData,1} at index [1]",
     "output_type": "error",
     "traceback": [
      "BoundsError: attempt to access 0-element Array{RecipesBase.RecipeData,1} at index [1]",
      "",
      " in macro expansion at /Users/iubere/.julia/v0.5/Plots/src/series.jl:230 [inlined]",
      " in apply_recipe(::Dict{Symbol,Any}, ::Void) at /Users/iubere/.julia/v0.5/RecipesBase/src/RecipesBase.jl:238",
      " in _process_userrecipes(::Plots.Plot{Plots.GRBackend}, ::Dict{Symbol,Any}, ::Tuple{Void}) at /Users/iubere/.julia/v0.5/Plots/src/pipeline.jl:73",
      " in _plot!(::Plots.Plot{Plots.GRBackend}, ::Dict{Symbol,Any}, ::Tuple{Void}) at /Users/iubere/.julia/v0.5/Plots/src/plot.jl:171",
      " in (::Plots.#kw##plot)(::Array{Any,1}, ::Plots.#plot, ::Void) at ./<missing>:0",
      " in #histogram#360(::Array{Any,1}, ::Function, ::Void, ::Vararg{Void,N}) at /Users/iubere/.julia/v0.5/Plots/src/Plots.jl:139",
      " in histogram(::Void, ::Vararg{Void,N}) at /Users/iubere/.julia/v0.5/Plots/src/Plots.jl:139"
     ]
    }
   ],
   "source": [
    "histogram(jb)"
   ]
  },
  {
   "cell_type": "code",
   "execution_count": 23,
   "metadata": {
    "collapsed": false
   },
   "outputs": [
    {
     "name": "stdout",
     "output_type": "stream",
     "text": [
      "## T = 25 ##\n",
      "β₁=1.0; T-test: 0.0\n",
      "β₁=1.0; P-val: 1.0\n",
      "β₁=0.9; T-test: 0.9384321697343082\n",
      "β₁=0.9; P-val: 0.3577734874005212\n",
      "β₁=0.7; T-test: 2.8120572268784727\n",
      "β₁=0.7; P-val: 0.009891984889532036\n",
      "β₁=0.5; T-test: 4.703698986384477\n",
      "β₁=0.5; P-val: 9.741597156309991e-5\n",
      "## T = 50 ##\n",
      "β₁=1.0; T-test: 0.0\n",
      "β₁=1.0; P-val: 1.0\n",
      "β₁=0.9; T-test: 1.3718328428597035\n",
      "β₁=0.9; P-val: 0.17649367298259364\n",
      "β₁=0.7; T-test: 4.110531881357213\n",
      "β₁=0.7; P-val: 0.00015338351447699385\n",
      "β₁=0.5; T-test: 6.841761440659729\n",
      "β₁=0.5; P-val: 1.2856780197548639e-8\n",
      "## T = 100 ##\n",
      "β₁=1.0; T-test: 0.0\n",
      "β₁=1.0; P-val: 1.0\n",
      "β₁=0.9; T-test: 1.9723408470946888\n",
      "β₁=0.9; P-val: 0.05138891842744003\n",
      "β₁=0.7; T-test: 5.902158978369037\n",
      "β₁=0.7; P-val: 5.1532300787019635e-8\n",
      "β₁=0.5; T-test: 9.86403718602204\n",
      "β₁=0.5; P-val: 2.387783656908781e-16\n",
      "## T = 500 ##\n",
      "β₁=1.0; T-test: 0.0\n",
      "β₁=1.0; P-val: 1.0\n",
      "β₁=0.9; T-test: 4.459050075099171\n",
      "β₁=0.9; P-val: 1.0182053643818617e-5\n",
      "β₁=0.7; T-test: 13.362993555244458\n",
      "β₁=0.7; P-val: 5.038132691737849e-35\n",
      "β₁=0.5; T-test: 22.266904675867814\n",
      "β₁=0.5; P-val: 9.643895036686288e-77\n"
     ]
    }
   ],
   "source": [
    "runs = 10_000\n",
    "for T = [25, 50, 100, 500]\n",
    "    println(\"## T = \",T,\" ##\")\n",
    "    for β₁_hyp = [1, 0.9, 0.7, 0.5]\n",
    "        _, β_mean, _, β_se = mc_stoch(β, σ², T, runs)\n",
    "        K = size(β_mean)[1] #amount of estimated parameters = amount of d.o.f. lost\n",
    "        ttest = (β_mean[2] - β₁_hyp) / β_se[2]\n",
    "        pval  = 2 * ccdf(TDist(T-K), abs(ttest)) # what is the change that you reject a correct null\n",
    "        println(\"β₁=\", β₁_hyp, \"; T-test: \", ttest)\n",
    "        println(\"β₁=\", β₁_hyp, \"; P-val: \", pval)\n",
    "    end\n",
    "end"
   ]
  },
  {
   "cell_type": "code",
   "execution_count": 24,
   "metadata": {
    "collapsed": false
   },
   "outputs": [
    {
     "name": "stdout",
     "output_type": "stream",
     "text": [
      "## T = 25 ##\n",
      "For β_hyp = 1, critical values: 2,5%: -1.981448866630208497,5%: 1.941091151635701\n",
      "## T = 50 ##\n",
      "For β_hyp = 1, critical values: 2,5%: -1.957006385221384497,5%: 1.9219808053886271\n",
      "## T = 100 ##\n",
      "For β_hyp = 1, critical values: 2,5%: -1.97577767987211797,5%: 1.9778019853475124\n",
      "## T = 500 ##\n",
      "For β_hyp = 1, critical values: 2,5%: -1.947045201791443597,5%: 1.9248063894784406\n"
     ]
    }
   ],
   "source": [
    "runs = 10_000\n",
    "t_values = zeros(runs)\n",
    "for T = [25, 50, 100, 500]\n",
    "    println(\"## T = \",T,\" ##\")\n",
    "    for β₁_hyp = [1]\n",
    "        β_mc, _, β_mean, _, β_se = mc_simple(β, σ², T, runs)\n",
    "        t_values = (β_mc[:,2] - 1)/β_se[2]\n",
    "        sort!(t_values)\n",
    "        println(\"For β_hyp = \",β₁_hyp,\", critical values: 2,5%: \",t_values[250], \"97,5%: \", t_values[9750])\n",
    "    end\n",
    "end"
   ]
  },
  {
   "cell_type": "code",
   "execution_count": 25,
   "metadata": {
    "collapsed": false
   },
   "outputs": [
    {
     "data": {
      "text/html": [
       "<?xml version=\"1.0\" encoding=\"utf-8\"?>\n",
       "<svg xmlns=\"http://www.w3.org/2000/svg\" xmlns:xlink=\"http://www.w3.org/1999/xlink\" width=\"600\" height=\"400\" viewBox=\"0 0 600 400\">\n",
       "<defs>\n",
       "  <clipPath id=\"clip00\">\n",
       "    <rect x=\"0\" y=\"0\" width=\"600\" height=\"400\"/>\n",
       "  </clipPath>\n",
       "</defs>\n",
       "<polygon clip-path=\"url(#clip00)\" points=\"\n",
       "0,400 600,400 600,0 0,0 \n",
       "  \" fill=\"#ffffff\" fill-opacity=\"1\"/>\n",
       "<defs>\n",
       "  <clipPath id=\"clip01\">\n",
       "    <rect x=\"120\" y=\"0\" width=\"421\" height=\"400\"/>\n",
       "  </clipPath>\n",
       "</defs>\n",
       "<polygon clip-path=\"url(#clip00)\" points=\"\n",
       "30.6037,384.952 596.063,384.952 596.063,3.93701 30.6037,3.93701 \n",
       "  \" fill=\"#ffffff\" fill-opacity=\"1\"/>\n",
       "<defs>\n",
       "  <clipPath id=\"clip02\">\n",
       "    <rect x=\"30\" y=\"3\" width=\"566\" height=\"382\"/>\n",
       "  </clipPath>\n",
       "</defs>\n",
       "<polyline clip-path=\"url(#clip02)\" style=\"stroke:#00002d; stroke-width:0.8; stroke-opacity:0.5; fill:none\" stroke-dasharray=\"1, 2\" points=\"\n",
       "  172.027,379.237 172.027,9.65223 \n",
       "  \"/>\n",
       "<polyline clip-path=\"url(#clip02)\" style=\"stroke:#00002d; stroke-width:0.8; stroke-opacity:0.5; fill:none\" stroke-dasharray=\"1, 2\" points=\"\n",
       "  322.771,379.237 322.771,9.65223 \n",
       "  \"/>\n",
       "<polyline clip-path=\"url(#clip02)\" style=\"stroke:#00002d; stroke-width:0.8; stroke-opacity:0.5; fill:none\" stroke-dasharray=\"1, 2\" points=\"\n",
       "  473.515,379.237 473.515,9.65223 \n",
       "  \"/>\n",
       "<polyline clip-path=\"url(#clip02)\" style=\"stroke:#00002d; stroke-width:0.8; stroke-opacity:0.5; fill:none\" stroke-dasharray=\"1, 2\" points=\"\n",
       "  39.0856,384.952 587.581,384.952 \n",
       "  \"/>\n",
       "<polyline clip-path=\"url(#clip02)\" style=\"stroke:#00002d; stroke-width:0.8; stroke-opacity:0.5; fill:none\" stroke-dasharray=\"1, 2\" points=\"\n",
       "  39.0856,278.045 587.581,278.045 \n",
       "  \"/>\n",
       "<polyline clip-path=\"url(#clip02)\" style=\"stroke:#00002d; stroke-width:0.8; stroke-opacity:0.5; fill:none\" stroke-dasharray=\"1, 2\" points=\"\n",
       "  39.0856,171.139 587.581,171.139 \n",
       "  \"/>\n",
       "<polyline clip-path=\"url(#clip02)\" style=\"stroke:#00002d; stroke-width:0.8; stroke-opacity:0.5; fill:none\" stroke-dasharray=\"1, 2\" points=\"\n",
       "  39.0856,64.2323 587.581,64.2323 \n",
       "  \"/>\n",
       "<polyline clip-path=\"url(#clip02)\" style=\"stroke:#00002d; stroke-width:0.8; stroke-opacity:1; fill:none\" points=\"\n",
       "  30.6037,384.952 596.063,384.952 \n",
       "  \"/>\n",
       "<polyline clip-path=\"url(#clip02)\" style=\"stroke:#00002d; stroke-width:0.8; stroke-opacity:1; fill:none\" points=\"\n",
       "  172.027,384.952 172.027,379.237 \n",
       "  \"/>\n",
       "<polyline clip-path=\"url(#clip02)\" style=\"stroke:#00002d; stroke-width:0.8; stroke-opacity:1; fill:none\" points=\"\n",
       "  322.771,384.952 322.771,379.237 \n",
       "  \"/>\n",
       "<polyline clip-path=\"url(#clip02)\" style=\"stroke:#00002d; stroke-width:0.8; stroke-opacity:1; fill:none\" points=\"\n",
       "  473.515,384.952 473.515,379.237 \n",
       "  \"/>\n",
       "<polyline clip-path=\"url(#clip02)\" style=\"stroke:#00002d; stroke-width:0.8; stroke-opacity:1; fill:none\" points=\"\n",
       "  30.6037,384.952 30.6037,3.93701 \n",
       "  \"/>\n",
       "<polyline clip-path=\"url(#clip02)\" style=\"stroke:#00002d; stroke-width:0.8; stroke-opacity:1; fill:none\" points=\"\n",
       "  30.6037,384.952 39.0856,384.952 \n",
       "  \"/>\n",
       "<polyline clip-path=\"url(#clip02)\" style=\"stroke:#00002d; stroke-width:0.8; stroke-opacity:1; fill:none\" points=\"\n",
       "  30.6037,278.045 39.0856,278.045 \n",
       "  \"/>\n",
       "<polyline clip-path=\"url(#clip02)\" style=\"stroke:#00002d; stroke-width:0.8; stroke-opacity:1; fill:none\" points=\"\n",
       "  30.6037,171.139 39.0856,171.139 \n",
       "  \"/>\n",
       "<polyline clip-path=\"url(#clip02)\" style=\"stroke:#00002d; stroke-width:0.8; stroke-opacity:1; fill:none\" points=\"\n",
       "  30.6037,64.2323 39.0856,64.2323 \n",
       "  \"/>\n",
       "<g clip-path=\"url(#clip00)\">\n",
       "<text style=\"fill:#00002d; fill-opacity:1; font-family:Arial,Helvetica Neue,Helvetica,sans-serif; font-size:12; text-anchor:middle;\" transform=\"rotate(0, 172.027, 396.952)\" x=\"172.027\" y=\"396.952\">-2</text>\n",
       "</g>\n",
       "<g clip-path=\"url(#clip00)\">\n",
       "<text style=\"fill:#00002d; fill-opacity:1; font-family:Arial,Helvetica Neue,Helvetica,sans-serif; font-size:12; text-anchor:middle;\" transform=\"rotate(0, 322.771, 396.952)\" x=\"322.771\" y=\"396.952\">0</text>\n",
       "</g>\n",
       "<g clip-path=\"url(#clip00)\">\n",
       "<text style=\"fill:#00002d; fill-opacity:1; font-family:Arial,Helvetica Neue,Helvetica,sans-serif; font-size:12; text-anchor:middle;\" transform=\"rotate(0, 473.515, 396.952)\" x=\"473.515\" y=\"396.952\">2</text>\n",
       "</g>\n",
       "<g clip-path=\"url(#clip00)\">\n",
       "<text style=\"fill:#00002d; fill-opacity:1; font-family:Arial,Helvetica Neue,Helvetica,sans-serif; font-size:12; text-anchor:end;\" transform=\"rotate(0, 29.4037, 389.452)\" x=\"29.4037\" y=\"389.452\">0</text>\n",
       "</g>\n",
       "<g clip-path=\"url(#clip00)\">\n",
       "<text style=\"fill:#00002d; fill-opacity:1; font-family:Arial,Helvetica Neue,Helvetica,sans-serif; font-size:12; text-anchor:end;\" transform=\"rotate(0, 29.4037, 282.545)\" x=\"29.4037\" y=\"282.545\">250</text>\n",
       "</g>\n",
       "<g clip-path=\"url(#clip00)\">\n",
       "<text style=\"fill:#00002d; fill-opacity:1; font-family:Arial,Helvetica Neue,Helvetica,sans-serif; font-size:12; text-anchor:end;\" transform=\"rotate(0, 29.4037, 175.639)\" x=\"29.4037\" y=\"175.639\">500</text>\n",
       "</g>\n",
       "<g clip-path=\"url(#clip00)\">\n",
       "<text style=\"fill:#00002d; fill-opacity:1; font-family:Arial,Helvetica Neue,Helvetica,sans-serif; font-size:12; text-anchor:end;\" transform=\"rotate(0, 29.4037, 68.7323)\" x=\"29.4037\" y=\"68.7323\">750</text>\n",
       "</g>\n",
       "<polygon clip-path=\"url(#clip02)\" points=\"\n",
       "46.6072,382.386 46.6072,384.952 64.389,384.952 64.389,382.386 46.6072,382.386 46.6072,382.386 \n",
       "  \" fill=\"#0099ff\" fill-opacity=\"1\"/>\n",
       "<polyline clip-path=\"url(#clip02)\" style=\"stroke:#00002d; stroke-width:0.8; stroke-opacity:1; fill:none\" points=\"\n",
       "  46.6072,382.386 46.6072,384.952 64.389,384.952 64.389,382.386 46.6072,382.386 \n",
       "  \"/>\n",
       "<polygon clip-path=\"url(#clip02)\" points=\"\n",
       "64.389,384.097 64.389,384.952 82.1707,384.952 82.1707,384.097 64.389,384.097 64.389,384.097 \n",
       "  \" fill=\"#0099ff\" fill-opacity=\"1\"/>\n",
       "<polyline clip-path=\"url(#clip02)\" style=\"stroke:#00002d; stroke-width:0.8; stroke-opacity:1; fill:none\" points=\"\n",
       "  64.389,384.097 64.389,384.952 82.1707,384.952 82.1707,384.097 64.389,384.097 \n",
       "  \"/>\n",
       "<polygon clip-path=\"url(#clip02)\" points=\"\n",
       "82.1707,381.531 82.1707,384.952 99.9525,384.952 99.9525,381.531 82.1707,381.531 82.1707,381.531 \n",
       "  \" fill=\"#0099ff\" fill-opacity=\"1\"/>\n",
       "<polyline clip-path=\"url(#clip02)\" style=\"stroke:#00002d; stroke-width:0.8; stroke-opacity:1; fill:none\" points=\"\n",
       "  82.1707,381.531 82.1707,384.952 99.9525,384.952 99.9525,381.531 82.1707,381.531 \n",
       "  \"/>\n",
       "<polygon clip-path=\"url(#clip02)\" points=\"\n",
       "99.9525,379.82 99.9525,384.952 117.734,384.952 117.734,379.82 99.9525,379.82 99.9525,379.82 \n",
       "  \" fill=\"#0099ff\" fill-opacity=\"1\"/>\n",
       "<polyline clip-path=\"url(#clip02)\" style=\"stroke:#00002d; stroke-width:0.8; stroke-opacity:1; fill:none\" points=\"\n",
       "  99.9525,379.82 99.9525,384.952 117.734,384.952 117.734,379.82 99.9525,379.82 \n",
       "  \"/>\n",
       "<polygon clip-path=\"url(#clip02)\" points=\"\n",
       "117.734,368.702 117.734,384.952 135.516,384.952 135.516,368.702 117.734,368.702 117.734,368.702 \n",
       "  \" fill=\"#0099ff\" fill-opacity=\"1\"/>\n",
       "<polyline clip-path=\"url(#clip02)\" style=\"stroke:#00002d; stroke-width:0.8; stroke-opacity:1; fill:none\" points=\"\n",
       "  117.734,368.702 117.734,384.952 135.516,384.952 135.516,368.702 117.734,368.702 \n",
       "  \"/>\n",
       "<polygon clip-path=\"url(#clip02)\" points=\"\n",
       "135.516,358.439 135.516,384.952 153.298,384.952 153.298,358.439 135.516,358.439 135.516,358.439 \n",
       "  \" fill=\"#0099ff\" fill-opacity=\"1\"/>\n",
       "<polyline clip-path=\"url(#clip02)\" style=\"stroke:#00002d; stroke-width:0.8; stroke-opacity:1; fill:none\" points=\"\n",
       "  135.516,358.439 135.516,384.952 153.298,384.952 153.298,358.439 135.516,358.439 \n",
       "  \"/>\n",
       "<polygon clip-path=\"url(#clip02)\" points=\"\n",
       "153.298,349.459 153.298,384.952 171.079,384.952 171.079,349.459 153.298,349.459 153.298,349.459 \n",
       "  \" fill=\"#0099ff\" fill-opacity=\"1\"/>\n",
       "<polyline clip-path=\"url(#clip02)\" style=\"stroke:#00002d; stroke-width:0.8; stroke-opacity:1; fill:none\" points=\"\n",
       "  153.298,349.459 153.298,384.952 171.079,384.952 171.079,349.459 153.298,349.459 \n",
       "  \"/>\n",
       "<polygon clip-path=\"url(#clip02)\" points=\"\n",
       "171.079,318.242 171.079,384.952 188.861,384.952 188.861,318.242 171.079,318.242 171.079,318.242 \n",
       "  \" fill=\"#0099ff\" fill-opacity=\"1\"/>\n",
       "<polyline clip-path=\"url(#clip02)\" style=\"stroke:#00002d; stroke-width:0.8; stroke-opacity:1; fill:none\" points=\"\n",
       "  171.079,318.242 171.079,384.952 188.861,384.952 188.861,318.242 171.079,318.242 \n",
       "  \"/>\n",
       "<polygon clip-path=\"url(#clip02)\" points=\"\n",
       "188.861,279.756 188.861,384.952 206.643,384.952 206.643,279.756 188.861,279.756 188.861,279.756 \n",
       "  \" fill=\"#0099ff\" fill-opacity=\"1\"/>\n",
       "<polyline clip-path=\"url(#clip02)\" style=\"stroke:#00002d; stroke-width:0.8; stroke-opacity:1; fill:none\" points=\"\n",
       "  188.861,279.756 188.861,384.952 206.643,384.952 206.643,279.756 188.861,279.756 \n",
       "  \"/>\n",
       "<polygon clip-path=\"url(#clip02)\" points=\"\n",
       "206.643,244.691 206.643,384.952 224.425,384.952 224.425,244.691 206.643,244.691 206.643,244.691 \n",
       "  \" fill=\"#0099ff\" fill-opacity=\"1\"/>\n",
       "<polyline clip-path=\"url(#clip02)\" style=\"stroke:#00002d; stroke-width:0.8; stroke-opacity:1; fill:none\" points=\"\n",
       "  206.643,244.691 206.643,384.952 224.425,384.952 224.425,244.691 206.643,244.691 \n",
       "  \"/>\n",
       "<polygon clip-path=\"url(#clip02)\" points=\"\n",
       "224.425,194.658 224.425,384.952 242.206,384.952 242.206,194.658 224.425,194.658 224.425,194.658 \n",
       "  \" fill=\"#0099ff\" fill-opacity=\"1\"/>\n",
       "<polyline clip-path=\"url(#clip02)\" style=\"stroke:#00002d; stroke-width:0.8; stroke-opacity:1; fill:none\" points=\"\n",
       "  224.425,194.658 224.425,384.952 242.206,384.952 242.206,194.658 224.425,194.658 \n",
       "  \"/>\n",
       "<polygon clip-path=\"url(#clip02)\" points=\"\n",
       "242.206,116.403 242.206,384.952 259.988,384.952 259.988,116.403 242.206,116.403 242.206,116.403 \n",
       "  \" fill=\"#0099ff\" fill-opacity=\"1\"/>\n",
       "<polyline clip-path=\"url(#clip02)\" style=\"stroke:#00002d; stroke-width:0.8; stroke-opacity:1; fill:none\" points=\"\n",
       "  242.206,116.403 242.206,384.952 259.988,384.952 259.988,116.403 242.206,116.403 \n",
       "  \"/>\n",
       "<polygon clip-path=\"url(#clip02)\" points=\"\n",
       "259.988,56.535 259.988,384.952 277.77,384.952 277.77,56.535 259.988,56.535 259.988,56.535 \n",
       "  \" fill=\"#0099ff\" fill-opacity=\"1\"/>\n",
       "<polyline clip-path=\"url(#clip02)\" style=\"stroke:#00002d; stroke-width:0.8; stroke-opacity:1; fill:none\" points=\"\n",
       "  259.988,56.535 259.988,384.952 277.77,384.952 277.77,56.535 259.988,56.535 \n",
       "  \"/>\n",
       "<polygon clip-path=\"url(#clip02)\" points=\"\n",
       "277.77,34.2985 277.77,384.952 295.552,384.952 295.552,34.2985 277.77,34.2985 277.77,34.2985 \n",
       "  \" fill=\"#0099ff\" fill-opacity=\"1\"/>\n",
       "<polyline clip-path=\"url(#clip02)\" style=\"stroke:#00002d; stroke-width:0.8; stroke-opacity:1; fill:none\" points=\"\n",
       "  277.77,34.2985 277.77,384.952 295.552,384.952 295.552,34.2985 277.77,34.2985 \n",
       "  \"/>\n",
       "<polygon clip-path=\"url(#clip02)\" points=\"\n",
       "295.552,12.0619 295.552,384.952 313.333,384.952 313.333,12.0619 295.552,12.0619 295.552,12.0619 \n",
       "  \" fill=\"#0099ff\" fill-opacity=\"1\"/>\n",
       "<polyline clip-path=\"url(#clip02)\" style=\"stroke:#00002d; stroke-width:0.8; stroke-opacity:1; fill:none\" points=\"\n",
       "  295.552,12.0619 295.552,384.952 313.333,384.952 313.333,12.0619 295.552,12.0619 \n",
       "  \"/>\n",
       "<polygon clip-path=\"url(#clip02)\" points=\"\n",
       "313.333,21.0421 313.333,384.952 331.115,384.952 331.115,21.0421 313.333,21.0421 313.333,21.0421 \n",
       "  \" fill=\"#0099ff\" fill-opacity=\"1\"/>\n",
       "<polyline clip-path=\"url(#clip02)\" style=\"stroke:#00002d; stroke-width:0.8; stroke-opacity:1; fill:none\" points=\"\n",
       "  313.333,21.0421 313.333,384.952 331.115,384.952 331.115,21.0421 313.333,21.0421 \n",
       "  \"/>\n",
       "<polygon clip-path=\"url(#clip02)\" points=\"\n",
       "331.115,3.93701 331.115,384.952 348.897,384.952 348.897,3.93701 331.115,3.93701 331.115,3.93701 \n",
       "  \" fill=\"#0099ff\" fill-opacity=\"1\"/>\n",
       "<polyline clip-path=\"url(#clip02)\" style=\"stroke:#00002d; stroke-width:0.8; stroke-opacity:1; fill:none\" points=\"\n",
       "  331.115,3.93701 331.115,384.952 348.897,384.952 348.897,3.93701 331.115,3.93701 \n",
       "  \"/>\n",
       "<polygon clip-path=\"url(#clip02)\" points=\"\n",
       "348.897,26.1736 348.897,384.952 366.679,384.952 366.679,26.1736 348.897,26.1736 348.897,26.1736 \n",
       "  \" fill=\"#0099ff\" fill-opacity=\"1\"/>\n",
       "<polyline clip-path=\"url(#clip02)\" style=\"stroke:#00002d; stroke-width:0.8; stroke-opacity:1; fill:none\" points=\"\n",
       "  348.897,26.1736 348.897,384.952 366.679,384.952 366.679,26.1736 348.897,26.1736 \n",
       "  \"/>\n",
       "<polygon clip-path=\"url(#clip02)\" points=\"\n",
       "366.679,33.0156 366.679,384.952 384.46,384.952 384.46,33.0156 366.679,33.0156 366.679,33.0156 \n",
       "  \" fill=\"#0099ff\" fill-opacity=\"1\"/>\n",
       "<polyline clip-path=\"url(#clip02)\" style=\"stroke:#00002d; stroke-width:0.8; stroke-opacity:1; fill:none\" points=\"\n",
       "  366.679,33.0156 366.679,384.952 384.46,384.952 384.46,33.0156 366.679,33.0156 \n",
       "  \"/>\n",
       "<polygon clip-path=\"url(#clip02)\" points=\"\n",
       "384.46,115.975 384.46,384.952 402.242,384.952 402.242,115.975 384.46,115.975 384.46,115.975 \n",
       "  \" fill=\"#0099ff\" fill-opacity=\"1\"/>\n",
       "<polyline clip-path=\"url(#clip02)\" style=\"stroke:#00002d; stroke-width:0.8; stroke-opacity:1; fill:none\" points=\"\n",
       "  384.46,115.975 384.46,384.952 402.242,384.952 402.242,115.975 384.46,115.975 \n",
       "  \"/>\n",
       "<polygon clip-path=\"url(#clip02)\" points=\"\n",
       "402.242,164.724 402.242,384.952 420.024,384.952 420.024,164.724 402.242,164.724 402.242,164.724 \n",
       "  \" fill=\"#0099ff\" fill-opacity=\"1\"/>\n",
       "<polyline clip-path=\"url(#clip02)\" style=\"stroke:#00002d; stroke-width:0.8; stroke-opacity:1; fill:none\" points=\"\n",
       "  402.242,164.724 402.242,384.952 420.024,384.952 420.024,164.724 402.242,164.724 \n",
       "  \"/>\n",
       "<polygon clip-path=\"url(#clip02)\" points=\"\n",
       "420.024,231.006 420.024,384.952 437.806,384.952 437.806,231.006 420.024,231.006 420.024,231.006 \n",
       "  \" fill=\"#0099ff\" fill-opacity=\"1\"/>\n",
       "<polyline clip-path=\"url(#clip02)\" style=\"stroke:#00002d; stroke-width:0.8; stroke-opacity:1; fill:none\" points=\"\n",
       "  420.024,231.006 420.024,384.952 437.806,384.952 437.806,231.006 420.024,231.006 \n",
       "  \"/>\n",
       "<polygon clip-path=\"url(#clip02)\" points=\"\n",
       "437.806,278.473 437.806,384.952 455.587,384.952 455.587,278.473 437.806,278.473 437.806,278.473 \n",
       "  \" fill=\"#0099ff\" fill-opacity=\"1\"/>\n",
       "<polyline clip-path=\"url(#clip02)\" style=\"stroke:#00002d; stroke-width:0.8; stroke-opacity:1; fill:none\" points=\"\n",
       "  437.806,278.473 437.806,384.952 455.587,384.952 455.587,278.473 437.806,278.473 \n",
       "  \"/>\n",
       "<polygon clip-path=\"url(#clip02)\" points=\"\n",
       "455.587,316.959 455.587,384.952 473.369,384.952 473.369,316.959 455.587,316.959 455.587,316.959 \n",
       "  \" fill=\"#0099ff\" fill-opacity=\"1\"/>\n",
       "<polyline clip-path=\"url(#clip02)\" style=\"stroke:#00002d; stroke-width:0.8; stroke-opacity:1; fill:none\" points=\"\n",
       "  455.587,316.959 455.587,384.952 473.369,384.952 473.369,316.959 455.587,316.959 \n",
       "  \"/>\n",
       "<polygon clip-path=\"url(#clip02)\" points=\"\n",
       "473.369,346.466 473.369,384.952 491.151,384.952 491.151,346.466 473.369,346.466 473.369,346.466 \n",
       "  \" fill=\"#0099ff\" fill-opacity=\"1\"/>\n",
       "<polyline clip-path=\"url(#clip02)\" style=\"stroke:#00002d; stroke-width:0.8; stroke-opacity:1; fill:none\" points=\"\n",
       "  473.369,346.466 473.369,384.952 491.151,384.952 491.151,346.466 473.369,346.466 \n",
       "  \"/>\n",
       "<polygon clip-path=\"url(#clip02)\" points=\"\n",
       "491.151,362.715 491.151,384.952 508.932,384.952 508.932,362.715 491.151,362.715 491.151,362.715 \n",
       "  \" fill=\"#0099ff\" fill-opacity=\"1\"/>\n",
       "<polyline clip-path=\"url(#clip02)\" style=\"stroke:#00002d; stroke-width:0.8; stroke-opacity:1; fill:none\" points=\"\n",
       "  491.151,362.715 491.151,384.952 508.932,384.952 508.932,362.715 491.151,362.715 \n",
       "  \"/>\n",
       "<polygon clip-path=\"url(#clip02)\" points=\"\n",
       "508.932,367.419 508.932,384.952 526.714,384.952 526.714,367.419 508.932,367.419 508.932,367.419 \n",
       "  \" fill=\"#0099ff\" fill-opacity=\"1\"/>\n",
       "<polyline clip-path=\"url(#clip02)\" style=\"stroke:#00002d; stroke-width:0.8; stroke-opacity:1; fill:none\" points=\"\n",
       "  508.932,367.419 508.932,384.952 526.714,384.952 526.714,367.419 508.932,367.419 \n",
       "  \"/>\n",
       "<polygon clip-path=\"url(#clip02)\" points=\"\n",
       "526.714,378.965 526.714,384.952 544.496,384.952 544.496,378.965 526.714,378.965 526.714,378.965 \n",
       "  \" fill=\"#0099ff\" fill-opacity=\"1\"/>\n",
       "<polyline clip-path=\"url(#clip02)\" style=\"stroke:#00002d; stroke-width:0.8; stroke-opacity:1; fill:none\" points=\"\n",
       "  526.714,378.965 526.714,384.952 544.496,384.952 544.496,378.965 526.714,378.965 \n",
       "  \"/>\n",
       "<polygon clip-path=\"url(#clip02)\" points=\"\n",
       "544.496,381.531 544.496,384.952 562.278,384.952 562.278,381.531 544.496,381.531 544.496,381.531 \n",
       "  \" fill=\"#0099ff\" fill-opacity=\"1\"/>\n",
       "<polyline clip-path=\"url(#clip02)\" style=\"stroke:#00002d; stroke-width:0.8; stroke-opacity:1; fill:none\" points=\"\n",
       "  544.496,381.531 544.496,384.952 562.278,384.952 562.278,381.531 544.496,381.531 \n",
       "  \"/>\n",
       "<polygon clip-path=\"url(#clip02)\" points=\"\n",
       "562.278,382.814 562.278,384.952 580.059,384.952 580.059,382.814 562.278,382.814 562.278,382.814 \n",
       "  \" fill=\"#0099ff\" fill-opacity=\"1\"/>\n",
       "<polyline clip-path=\"url(#clip02)\" style=\"stroke:#00002d; stroke-width:0.8; stroke-opacity:1; fill:none\" points=\"\n",
       "  562.278,382.814 562.278,384.952 580.059,384.952 580.059,382.814 562.278,382.814 \n",
       "  \"/>\n",
       "<polygon clip-path=\"url(#clip00)\" points=\"\n",
       "505.547,55.057 578.063,55.057 578.063,24.817 505.547,24.817 \n",
       "  \" fill=\"#ffffff\" fill-opacity=\"1\"/>\n",
       "<polyline clip-path=\"url(#clip00)\" style=\"stroke:#00002d; stroke-width:0.8; stroke-opacity:1; fill:none\" points=\"\n",
       "  505.547,55.057 578.063,55.057 578.063,24.817 505.547,24.817 505.547,55.057 \n",
       "  \"/>\n",
       "<polygon clip-path=\"url(#clip00)\" points=\"\n",
       "511.547,45.985 547.547,45.985 547.547,33.889 511.547,33.889 511.547,45.985 \n",
       "  \" fill=\"#0099ff\" fill-opacity=\"1\"/>\n",
       "<polyline clip-path=\"url(#clip00)\" style=\"stroke:#00002d; stroke-width:0.8; stroke-opacity:1; fill:none\" points=\"\n",
       "  511.547,45.985 547.547,45.985 547.547,33.889 511.547,33.889 511.547,45.985 \n",
       "  \"/>\n",
       "<g clip-path=\"url(#clip00)\">\n",
       "<text style=\"fill:#00002d; fill-opacity:1; font-family:Arial,Helvetica Neue,Helvetica,sans-serif; font-size:12; text-anchor:start;\" transform=\"rotate(0, 553.547, 44.437)\" x=\"553.547\" y=\"44.437\">y1</text>\n",
       "</g>\n",
       "</svg>\n"
      ]
     },
     "execution_count": 25,
     "metadata": {},
     "output_type": "execute_result"
    }
   ],
   "source": [
    "histogram(t_values)"
   ]
  },
  {
   "cell_type": "code",
   "execution_count": 26,
   "metadata": {
    "collapsed": false
   },
   "outputs": [
    {
     "data": {
      "text/plain": [
       "0.9525"
      ]
     },
     "execution_count": 26,
     "metadata": {},
     "output_type": "execute_result"
    }
   ],
   "source": [
    "tstat_prob_mass(t_values)"
   ]
  },
  {
   "cell_type": "markdown",
   "metadata": {},
   "source": [
    "## Conclusion"
   ]
  },
  {
   "cell_type": "markdown",
   "metadata": {},
   "source": [
    "The Jarque-Bera test shows that the power of it is lower because it is clear that there is a lot more probability mass beyond the critical value of 5,99 than in the deterministic case. The estimators are still unbiased and consistent."
   ]
  },
  {
   "cell_type": "markdown",
   "metadata": {
    "collapsed": true
   },
   "source": [
    "# Lagged Dependent Variable\n",
    "\n",
    "Introducing lagged dependent variables makes it so that the assumption \"X and $\\mu$ are independent\" has to be relaxed to $E[\\mu_t|x_t] = 0$ or thus that the errors are contemporaneously independent with any explanatory variables.\n",
    "\n",
    "The OLS estimator becomes:\n",
    "* Biased: $E[\\hat{\\beta}|X] = \\beta + (X'X)^{-1}X'E[\\mu|X]$ => $E[\\hat{\\beta}] = E_X(E[\\hat{\\beta}|X]) \\neq \\beta$\n",
    "* Consistent and asymptotically normally distributed: $plim\\hat{\\beta} = \\beta + plim \\frac{X'X}{T}^{-1} plim\\frac{X'\\mu}{T}$ = 0 because $plim\\frac{X'\\mu}{T} = E(x_t\\mu_t) = 0$\n",
    "* $\\hat{\\sigma}^2 = \\frac{\\hat{\\mu}'\\hat{\\mu}}{T-k}$ is still a consistent estimator for $\\sigma^2$"
   ]
  },
  {
   "cell_type": "code",
   "execution_count": 27,
   "metadata": {
    "collapsed": false
   },
   "outputs": [
    {
     "data": {
      "text/plain": [
       "mc_ar1 (generic function with 1 method)"
      ]
     },
     "execution_count": 27,
     "metadata": {},
     "output_type": "execute_result"
    }
   ],
   "source": [
    "# AR1 MC simulation\n",
    "function mc_ar1(β, σ², T, runs)\n",
    "    K = length(β)\n",
    "    β₀, β₁ = β\n",
    "    σ = √σ² # = sqrt(σ²)\n",
    "    \n",
    "    # variables with mc averages\n",
    "    β_mc     = zeros(runs, K)\n",
    "    β_var_mc = zeros(runs, K)\n",
    "\n",
    "    # pre-allocate\n",
    "    y = zeros(T)\n",
    "    X = ones(T, K) # fill second column with y_{t-1}\n",
    "    y₀_dist = Normal(β₀/(1-β₁), sqrt(σ²/(1-β₁^2)))\n",
    "    \n",
    "    for run = 1:runs\n",
    "        # simulate y\n",
    "        y₀ = rand(y₀_dist) \n",
    "        y[1] = β₀ + β₁*y₀ + σ*randn() \n",
    "        for t = 2:T\n",
    "            y[t] = β₀ + β₁*y[t-1] + σ*randn() \n",
    "        end\n",
    "        # copy into X\n",
    "        X[1,2] = y₀\n",
    "        X[2:end, 2] = y[1:end-1]\n",
    "        \n",
    "        # ols\n",
    "        result = ols(y, X)\n",
    "        β_mc[run,:]    = result.coefs\n",
    "        β_var_mc[run,:]= diag(result.vcv)\n",
    "    end\n",
    "    \n",
    "    return β, mean(β_mc,1), sqrt(mean(β_var_mc,1)), std(β_mc,1)\n",
    "end"
   ]
  },
  {
   "cell_type": "code",
   "execution_count": 28,
   "metadata": {
    "collapsed": false
   },
   "outputs": [
    {
     "name": "stdout",
     "output_type": "stream",
     "text": [
      "  0.832919 seconds (1.17 M allocations: 1.151 GB, 19.67% gc time)\n"
     ]
    },
    {
     "data": {
      "text/plain": [
       "([10.0,0.1],\n",
       "[10.0151 0.0987158],\n",
       "\n",
       "[0.351278 0.0314841],\n",
       "\n",
       "[0.352814 0.0316019])"
      ]
     },
     "execution_count": 28,
     "metadata": {},
     "output_type": "execute_result"
    }
   ],
   "source": [
    "β₀, β₁ = 10, 0.1\n",
    "σ² = 1\n",
    "T = 1000\n",
    "runs = 10_000\n",
    "@time mc_ar1([β₀, β₁], σ², T, runs)"
   ]
  },
  {
   "cell_type": "markdown",
   "metadata": {},
   "source": [
    "Let's plot the bias"
   ]
  },
  {
   "cell_type": "code",
   "execution_count": 29,
   "metadata": {
    "collapsed": true
   },
   "outputs": [],
   "source": [
    "using Plots\n",
    "gr();"
   ]
  },
  {
   "cell_type": "code",
   "execution_count": 30,
   "metadata": {
    "collapsed": false
   },
   "outputs": [
    {
     "data": {
      "text/plain": [
       "26×3 Array{Float64,2}:\n",
       " 10.9941  14.6665  47.8153\n",
       " 10.5055  12.4088  29.8518\n",
       " 10.3148  11.6217  23.7099\n",
       " 10.2518  11.2978  20.117 \n",
       " 10.2218  10.9851  17.9989\n",
       " 10.1579  10.8395  16.6644\n",
       " 10.1601  10.7212  15.8342\n",
       " 10.1311  10.6556  15.0327\n",
       " 10.1308  10.5689  14.2742\n",
       " 10.0905  10.5009  13.9066\n",
       " 10.0744  10.3914  13.0921\n",
       " 10.0775  10.3431  12.5733\n",
       " 10.0605  10.3021  12.2275\n",
       " 10.0538  10.233   11.9413\n",
       " 10.038   10.22    11.6707\n",
       " 10.0423  10.1991  11.5436\n",
       " 10.0482  10.1861  11.3962\n",
       " 10.0357  10.1614  11.2768\n",
       " 10.0464  10.1619  11.1753\n",
       " 10.0286  10.1502  11.0631\n",
       " 10.0229  10.1195  10.9764\n",
       " 10.0223  10.1397  10.9571\n",
       " 10.023   10.1125  10.8679\n",
       " 10.0239  10.0953  10.846 \n",
       " 10.0203  10.1026  10.7828\n",
       " 10.0174  10.0975  10.7319"
      ]
     },
     "execution_count": 30,
     "metadata": {},
     "output_type": "execute_result"
    }
   ],
   "source": [
    "Ts  = vcat(collect(10:10:90), collect(100:25:500))\n",
    "β₁s = [0, 0.5, 0.9]\n",
    "β̂ = [mc_ar1([β₀, β₁], σ², T, runs)[2][1] for T in Ts, β₁ in β₁s]"
   ]
  },
  {
   "cell_type": "code",
   "execution_count": 31,
   "metadata": {
    "collapsed": false
   },
   "outputs": [
    {
     "data": {
      "text/html": [
       "<?xml version=\"1.0\" encoding=\"utf-8\"?>\n",
       "<svg xmlns=\"http://www.w3.org/2000/svg\" xmlns:xlink=\"http://www.w3.org/1999/xlink\" width=\"600\" height=\"400\" viewBox=\"0 0 600 400\">\n",
       "<defs>\n",
       "  <clipPath id=\"clip00\">\n",
       "    <rect x=\"0\" y=\"0\" width=\"600\" height=\"400\"/>\n",
       "  </clipPath>\n",
       "</defs>\n",
       "<polygon clip-path=\"url(#clip00)\" points=\"\n",
       "0,400 600,400 600,0 0,0 \n",
       "  \" fill=\"#ffffff\" fill-opacity=\"1\"/>\n",
       "<defs>\n",
       "  <clipPath id=\"clip01\">\n",
       "    <rect x=\"120\" y=\"0\" width=\"421\" height=\"400\"/>\n",
       "  </clipPath>\n",
       "</defs>\n",
       "<polygon clip-path=\"url(#clip00)\" points=\"\n",
       "21.7148,384.952 596.063,384.952 596.063,3.93701 21.7148,3.93701 \n",
       "  \" fill=\"#ffffff\" fill-opacity=\"1\"/>\n",
       "<defs>\n",
       "  <clipPath id=\"clip02\">\n",
       "    <rect x=\"21\" y=\"3\" width=\"575\" height=\"382\"/>\n",
       "  </clipPath>\n",
       "</defs>\n",
       "<polyline clip-path=\"url(#clip02)\" style=\"stroke:#00002d; stroke-width:0.8; stroke-opacity:0.5; fill:none\" stroke-dasharray=\"1, 2\" points=\"\n",
       "  127.207,379.237 127.207,9.65223 \n",
       "  \"/>\n",
       "<polyline clip-path=\"url(#clip02)\" style=\"stroke:#00002d; stroke-width:0.8; stroke-opacity:0.5; fill:none\" stroke-dasharray=\"1, 2\" points=\"\n",
       "  244.421,379.237 244.421,9.65223 \n",
       "  \"/>\n",
       "<polyline clip-path=\"url(#clip02)\" style=\"stroke:#00002d; stroke-width:0.8; stroke-opacity:0.5; fill:none\" stroke-dasharray=\"1, 2\" points=\"\n",
       "  361.635,379.237 361.635,9.65223 \n",
       "  \"/>\n",
       "<polyline clip-path=\"url(#clip02)\" style=\"stroke:#00002d; stroke-width:0.8; stroke-opacity:0.5; fill:none\" stroke-dasharray=\"1, 2\" points=\"\n",
       "  478.849,379.237 478.849,9.65223 \n",
       "  \"/>\n",
       "<polyline clip-path=\"url(#clip02)\" style=\"stroke:#00002d; stroke-width:0.8; stroke-opacity:0.5; fill:none\" stroke-dasharray=\"1, 2\" points=\"\n",
       "  596.063,379.237 596.063,9.65223 \n",
       "  \"/>\n",
       "<polyline clip-path=\"url(#clip02)\" style=\"stroke:#00002d; stroke-width:0.8; stroke-opacity:0.5; fill:none\" stroke-dasharray=\"1, 2\" points=\"\n",
       "  30.33,284.324 587.448,284.324 \n",
       "  \"/>\n",
       "<polyline clip-path=\"url(#clip02)\" style=\"stroke:#00002d; stroke-width:0.8; stroke-opacity:0.5; fill:none\" stroke-dasharray=\"1, 2\" points=\"\n",
       "  30.33,183.521 587.448,183.521 \n",
       "  \"/>\n",
       "<polyline clip-path=\"url(#clip02)\" style=\"stroke:#00002d; stroke-width:0.8; stroke-opacity:0.5; fill:none\" stroke-dasharray=\"1, 2\" points=\"\n",
       "  30.33,82.7177 587.448,82.7177 \n",
       "  \"/>\n",
       "<polyline clip-path=\"url(#clip02)\" style=\"stroke:#00002d; stroke-width:0.8; stroke-opacity:1; fill:none\" points=\"\n",
       "  21.7148,384.952 596.063,384.952 \n",
       "  \"/>\n",
       "<polyline clip-path=\"url(#clip02)\" style=\"stroke:#00002d; stroke-width:0.8; stroke-opacity:1; fill:none\" points=\"\n",
       "  127.207,384.952 127.207,379.237 \n",
       "  \"/>\n",
       "<polyline clip-path=\"url(#clip02)\" style=\"stroke:#00002d; stroke-width:0.8; stroke-opacity:1; fill:none\" points=\"\n",
       "  244.421,384.952 244.421,379.237 \n",
       "  \"/>\n",
       "<polyline clip-path=\"url(#clip02)\" style=\"stroke:#00002d; stroke-width:0.8; stroke-opacity:1; fill:none\" points=\"\n",
       "  361.635,384.952 361.635,379.237 \n",
       "  \"/>\n",
       "<polyline clip-path=\"url(#clip02)\" style=\"stroke:#00002d; stroke-width:0.8; stroke-opacity:1; fill:none\" points=\"\n",
       "  478.849,384.952 478.849,379.237 \n",
       "  \"/>\n",
       "<polyline clip-path=\"url(#clip02)\" style=\"stroke:#00002d; stroke-width:0.8; stroke-opacity:1; fill:none\" points=\"\n",
       "  596.063,384.952 596.063,379.237 \n",
       "  \"/>\n",
       "<polyline clip-path=\"url(#clip02)\" style=\"stroke:#00002d; stroke-width:0.8; stroke-opacity:1; fill:none\" points=\"\n",
       "  21.7148,384.952 21.7148,3.93701 \n",
       "  \"/>\n",
       "<polyline clip-path=\"url(#clip02)\" style=\"stroke:#00002d; stroke-width:0.8; stroke-opacity:1; fill:none\" points=\"\n",
       "  21.7148,284.324 30.33,284.324 \n",
       "  \"/>\n",
       "<polyline clip-path=\"url(#clip02)\" style=\"stroke:#00002d; stroke-width:0.8; stroke-opacity:1; fill:none\" points=\"\n",
       "  21.7148,183.521 30.33,183.521 \n",
       "  \"/>\n",
       "<polyline clip-path=\"url(#clip02)\" style=\"stroke:#00002d; stroke-width:0.8; stroke-opacity:1; fill:none\" points=\"\n",
       "  21.7148,82.7177 30.33,82.7177 \n",
       "  \"/>\n",
       "<g clip-path=\"url(#clip00)\">\n",
       "<text style=\"fill:#00002d; fill-opacity:1; font-family:Arial,Helvetica Neue,Helvetica,sans-serif; font-size:12; text-anchor:middle;\" transform=\"rotate(0, 127.207, 396.952)\" x=\"127.207\" y=\"396.952\">100</text>\n",
       "</g>\n",
       "<g clip-path=\"url(#clip00)\">\n",
       "<text style=\"fill:#00002d; fill-opacity:1; font-family:Arial,Helvetica Neue,Helvetica,sans-serif; font-size:12; text-anchor:middle;\" transform=\"rotate(0, 244.421, 396.952)\" x=\"244.421\" y=\"396.952\">200</text>\n",
       "</g>\n",
       "<g clip-path=\"url(#clip00)\">\n",
       "<text style=\"fill:#00002d; fill-opacity:1; font-family:Arial,Helvetica Neue,Helvetica,sans-serif; font-size:12; text-anchor:middle;\" transform=\"rotate(0, 361.635, 396.952)\" x=\"361.635\" y=\"396.952\">300</text>\n",
       "</g>\n",
       "<g clip-path=\"url(#clip00)\">\n",
       "<text style=\"fill:#00002d; fill-opacity:1; font-family:Arial,Helvetica Neue,Helvetica,sans-serif; font-size:12; text-anchor:middle;\" transform=\"rotate(0, 478.849, 396.952)\" x=\"478.849\" y=\"396.952\">400</text>\n",
       "</g>\n",
       "<g clip-path=\"url(#clip00)\">\n",
       "<text style=\"fill:#00002d; fill-opacity:1; font-family:Arial,Helvetica Neue,Helvetica,sans-serif; font-size:12; text-anchor:middle;\" transform=\"rotate(0, 596.063, 396.952)\" x=\"596.063\" y=\"396.952\">500</text>\n",
       "</g>\n",
       "<g clip-path=\"url(#clip00)\">\n",
       "<text style=\"fill:#00002d; fill-opacity:1; font-family:Arial,Helvetica Neue,Helvetica,sans-serif; font-size:12; text-anchor:end;\" transform=\"rotate(0, 20.5148, 288.824)\" x=\"20.5148\" y=\"288.824\">20</text>\n",
       "</g>\n",
       "<g clip-path=\"url(#clip00)\">\n",
       "<text style=\"fill:#00002d; fill-opacity:1; font-family:Arial,Helvetica Neue,Helvetica,sans-serif; font-size:12; text-anchor:end;\" transform=\"rotate(0, 20.5148, 188.021)\" x=\"20.5148\" y=\"188.021\">30</text>\n",
       "</g>\n",
       "<g clip-path=\"url(#clip00)\">\n",
       "<text style=\"fill:#00002d; fill-opacity:1; font-family:Arial,Helvetica Neue,Helvetica,sans-serif; font-size:12; text-anchor:end;\" transform=\"rotate(0, 20.5148, 87.2177)\" x=\"20.5148\" y=\"87.2177\">40</text>\n",
       "</g>\n",
       "<polyline clip-path=\"url(#clip02)\" style=\"stroke:#0099ff; stroke-width:0.8; stroke-opacity:1; fill:none\" points=\"\n",
       "  21.7148,375.106 33.4362,380.032 45.1576,381.954 56.879,382.589 68.6004,382.892 80.3217,383.536 92.0431,383.513 103.765,383.806 115.486,383.809 127.207,384.215 \n",
       "  156.511,384.377 185.814,384.346 215.118,384.518 244.421,384.585 273.725,384.744 303.028,384.701 332.332,384.641 361.635,384.768 390.939,384.659 420.242,384.839 \n",
       "  449.546,384.896 478.849,384.903 508.153,384.896 537.456,384.887 566.76,384.923 596.063,384.952 \n",
       "  \"/>\n",
       "<polyline clip-path=\"url(#clip02)\" style=\"stroke:#e9746a; stroke-width:0.8; stroke-opacity:1; fill:none\" points=\"\n",
       "  21.7148,338.088 33.4362,360.846 45.1576,368.78 56.879,372.045 68.6004,375.197 80.3217,376.665 92.0431,377.858 103.765,378.519 115.486,379.393 127.207,380.079 \n",
       "  156.511,381.182 185.814,381.669 215.118,382.082 244.421,382.779 273.725,382.91 303.028,383.121 332.332,383.252 361.635,383.501 390.939,383.496 420.242,383.613 \n",
       "  449.546,383.923 478.849,383.719 508.153,383.993 537.456,384.167 566.76,384.094 596.063,384.144 \n",
       "  \"/>\n",
       "<polyline clip-path=\"url(#clip02)\" style=\"stroke:#3cb370; stroke-width:0.8; stroke-opacity:1; fill:none\" points=\"\n",
       "  21.7148,3.93701 33.4362,185.015 45.1576,246.927 56.879,283.145 68.6004,304.496 80.3217,317.948 92.0431,326.317 103.765,334.396 115.486,342.043 127.207,345.747 \n",
       "  156.511,353.958 185.814,359.188 215.118,362.674 244.421,365.558 273.725,368.286 303.028,369.568 332.332,371.053 361.635,372.257 390.939,373.28 420.242,374.411 \n",
       "  449.546,375.285 478.849,375.479 508.153,376.379 537.456,376.599 566.76,377.237 596.063,377.749 \n",
       "  \"/>\n",
       "<polygon clip-path=\"url(#clip00)\" points=\"\n",
       "501.589,85.297 578.063,85.297 578.063,24.817 501.589,24.817 \n",
       "  \" fill=\"#ffffff\" fill-opacity=\"1\"/>\n",
       "<polyline clip-path=\"url(#clip00)\" style=\"stroke:#00002d; stroke-width:0.8; stroke-opacity:1; fill:none\" points=\"\n",
       "  501.589,85.297 578.063,85.297 578.063,24.817 501.589,24.817 501.589,85.297 \n",
       "  \"/>\n",
       "<polyline clip-path=\"url(#clip00)\" style=\"stroke:#0099ff; stroke-width:0.8; stroke-opacity:1; fill:none\" points=\"\n",
       "  507.589,39.937 543.589,39.937 \n",
       "  \"/>\n",
       "<g clip-path=\"url(#clip00)\">\n",
       "<text style=\"fill:#00002d; fill-opacity:1; font-family:Arial,Helvetica Neue,Helvetica,sans-serif; font-size:12; text-anchor:start;\" transform=\"rotate(0, 549.589, 44.437)\" x=\"549.589\" y=\"44.437\">0.0</text>\n",
       "</g>\n",
       "<polyline clip-path=\"url(#clip00)\" style=\"stroke:#e9746a; stroke-width:0.8; stroke-opacity:1; fill:none\" points=\"\n",
       "  507.589,55.057 543.589,55.057 \n",
       "  \"/>\n",
       "<g clip-path=\"url(#clip00)\">\n",
       "<text style=\"fill:#00002d; fill-opacity:1; font-family:Arial,Helvetica Neue,Helvetica,sans-serif; font-size:12; text-anchor:start;\" transform=\"rotate(0, 549.589, 59.557)\" x=\"549.589\" y=\"59.557\">0.5</text>\n",
       "</g>\n",
       "<polyline clip-path=\"url(#clip00)\" style=\"stroke:#3cb370; stroke-width:0.8; stroke-opacity:1; fill:none\" points=\"\n",
       "  507.589,70.177 543.589,70.177 \n",
       "  \"/>\n",
       "<g clip-path=\"url(#clip00)\">\n",
       "<text style=\"fill:#00002d; fill-opacity:1; font-family:Arial,Helvetica Neue,Helvetica,sans-serif; font-size:12; text-anchor:start;\" transform=\"rotate(0, 549.589, 74.677)\" x=\"549.589\" y=\"74.677\">0.9</text>\n",
       "</g>\n",
       "</svg>\n"
      ]
     },
     "execution_count": 31,
     "metadata": {},
     "output_type": "execute_result"
    }
   ],
   "source": [
    "plot(Ts, β̂, label=string.(β₁s'))"
   ]
  },
  {
   "cell_type": "markdown",
   "metadata": {},
   "source": [
    "Given a certain sample size and estimated AR(1) coefficient, you can use the matrix for $\\hat\\beta$ (or the graph) to estimate the bias for $\\beta_1$ (note that reported values are relative to 10)."
   ]
  },
  {
   "cell_type": "markdown",
   "metadata": {},
   "source": [
    "## Appendix: Julia performance profiling"
   ]
  },
  {
   "cell_type": "code",
   "execution_count": 32,
   "metadata": {
    "collapsed": false
   },
   "outputs": [
    {
     "name": "stdout",
     "output_type": "stream",
     "text": [
      "  8.109794 seconds (11.30 M allocations: 12.243 GB, 23.10% gc time)\n"
     ]
    }
   ],
   "source": [
    "# around 4s on my laptop\n",
    "@time mc_simple(β, σ², T, 100_000);"
   ]
  },
  {
   "cell_type": "code",
   "execution_count": 33,
   "metadata": {
    "collapsed": false
   },
   "outputs": [
    {
     "ename": "LoadError",
     "evalue": "ArgumentError: Module ProfileView not found in current path.\nRun `Pkg.add(\"ProfileView\")` to install the ProfileView package.",
     "output_type": "error",
     "traceback": [
      "ArgumentError: Module ProfileView not found in current path.\nRun `Pkg.add(\"ProfileView\")` to install the ProfileView package.",
      "",
      " in require(::Symbol) at ./loading.jl:365",
      " in require(::Symbol) at /Applications/Julia-0.5.app/Contents/Resources/julia/lib/julia/sys.dylib:?"
     ]
    }
   ],
   "source": [
    "using ProfileView #run `Pkg.add(\"ProfileView\")` if not yet installed"
   ]
  },
  {
   "cell_type": "code",
   "execution_count": 34,
   "metadata": {
    "collapsed": false,
    "scrolled": true
   },
   "outputs": [
    {
     "ename": "LoadError",
     "evalue": "UndefVarError: ProfileView not defined",
     "output_type": "error",
     "traceback": [
      "UndefVarError: ProfileView not defined",
      ""
     ]
    }
   ],
   "source": [
    "Profile.clear()\n",
    "@profile mc_simple(β, σ², T, 1_000)\n",
    "ProfileView.view() #interactive graph with mouse over,  scroll and drag"
   ]
  },
  {
   "cell_type": "code",
   "execution_count": 35,
   "metadata": {
    "collapsed": false
   },
   "outputs": [
    {
     "data": {
      "text/plain": [
       "mc_fact (generic function with 1 method)"
      ]
     },
     "execution_count": 35,
     "metadata": {},
     "output_type": "execute_result"
    }
   ],
   "source": [
    "# implementation that factorizes X only once\n",
    "function mc_fact(β, σ², T, runs)\n",
    "    \n",
    "    # simulate X once, deterministically\n",
    "    X = hcat(ones(T), rand(Normal(5, 2), T))\n",
    "    \n",
    "    # variables with mc results    \n",
    "    β_mc    = zeros(runs, length(β))\n",
    "    β_var_mc= zeros(runs) #only keep σ̂²T = dot(μ̂, μ̂) = σ̂²*(T-K) per run\n",
    "\n",
    "    # pre-allocate\n",
    "    Xβ     = X * β\n",
    "    μ_dist = Normal(0, √σ²)\n",
    "    x_fact = factorize(X)\n",
    "    XtXinvd= diag(inv(X'*X))\n",
    "    \n",
    "    for run = 1:runs\n",
    "        y = Xβ  + rand(μ_dist, T)\n",
    "        β̂ = x_fact \\ y #factorization already done now\n",
    "        μ̂ = y - X * β̂\n",
    "        σ̂²T = dot(μ̂, μ̂) #put factor /(T-K) outside of loop\n",
    "        \n",
    "        β_mc[run, :]    = β̂\n",
    "        β_var_mc[run,:] = σ̂²T\n",
    "    end\n",
    "    se_true = std(β_mc, 1)\n",
    "    se_mc   = sqrt(mean(β_var_mc) / (T - length(β)) * XtXinvd)\n",
    "    return β, mean(β_mc, 1), se_true, se_mc\n",
    "end"
   ]
  },
  {
   "cell_type": "code",
   "execution_count": 36,
   "metadata": {
    "collapsed": false
   },
   "outputs": [
    {
     "name": "stdout",
     "output_type": "stream",
     "text": [
      "  5.325076 seconds (6.80 M allocations: 10.332 GB, 29.86% gc time)\n"
     ]
    },
    {
     "data": {
      "text/plain": [
       "([10,1],\n",
       "[9.99992 1.00003],\n",
       "\n",
       "[0.0841076 0.0155401],\n",
       "\n",
       "[0.0837594,0.0154727])"
      ]
     },
     "execution_count": 36,
     "metadata": {},
     "output_type": "execute_result"
    }
   ],
   "source": [
    "# runs in about 2s on my laptop\n",
    "mc_fact(β, σ², 25, 1) # first run includes JIT compilation\n",
    "@time mc_fact(β, σ², T, 100_000) "
   ]
  }
 ],
 "metadata": {
  "anaconda-cloud": {},
  "kernelspec": {
   "display_name": "Julia 0.5.0",
   "language": "julia",
   "name": "julia-0.5"
  },
  "language_info": {
   "file_extension": ".jl",
   "mimetype": "application/julia",
   "name": "julia",
   "version": "0.5.0"
  }
 },
 "nbformat": 4,
 "nbformat_minor": 1
}
