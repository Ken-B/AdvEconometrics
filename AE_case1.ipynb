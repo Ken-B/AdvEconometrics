{
 "cells": [
  {
   "cell_type": "markdown",
   "metadata": {
    "slideshow": {
     "slide_type": "slide"
    }
   },
   "source": [
    "# Case 1: Implementing LS solver"
   ]
  },
  {
   "cell_type": "markdown",
   "metadata": {},
   "source": [
    "by Ken Bastiaensen, Milan Van den Heuvel, Gonzalo Villa"
   ]
  },
  {
   "cell_type": "markdown",
   "metadata": {
    "slideshow": {
     "slide_type": "-"
    }
   },
   "source": [
    "*Advanced Econometrics 2016-2017. Case 1, least squares (LS) implementation.*"
   ]
  },
  {
   "cell_type": "markdown",
   "metadata": {},
   "source": [
    "The system of linear equations is given in matrix notation\n",
    "$$ y = X \\beta + \\mu$$\n",
    "\n",
    "with dependent variables $y$ and residuals $\\mu \\in \\mathbb{R}^{N\\times1}$, independent variables $X \\in \\mathbb{R}^{N\\times K}$ and coefficients $\\beta \\in \\mathbb{R}^{K\\times 1}$."
   ]
  },
  {
   "cell_type": "markdown",
   "metadata": {},
   "source": [
    "We use the estimator for the coefficients $\\hat\\beta = (X'X)^{-1}Xy$ as given in course. In practice more advanced methods are used for stability, see the bottom part of this document."
   ]
  },
  {
   "cell_type": "markdown",
   "metadata": {},
   "source": [
    "With $\\hat\\mu = y - X \\hat\\beta$, the standard error $\\sigma$ is estimated by \n",
    "$$\\hat\\sigma^2 = \\frac{\\hat\\mu'\\hat\\mu}{N - K}$$\n",
    "and variance-covariance matrix of $\\hat\\beta$ given by\n",
    "$$V[\\hat\\beta] = \\hat\\sigma^2 (X'X)^{-1}$$"
   ]
  },
  {
   "cell_type": "markdown",
   "metadata": {},
   "source": [
    "The t distribution for this null hypothesis that $\\beta_0=0$ is then\n",
    "$$ t = \\frac{\\hat\\beta - 0}{s.e.} $$ with the standard errors $s.e.$ on the diagonal of $\\hat\\sigma$."
   ]
  },
  {
   "cell_type": "code",
   "execution_count": 1,
   "metadata": {
    "collapsed": false
   },
   "outputs": [],
   "source": [
    "#Load the Distributions package. Use `Pkg.install(\"Distributions\")` to install first time.\n",
    "using Distributions: TDist, cdf, ccdf"
   ]
  },
  {
   "cell_type": "code",
   "execution_count": 2,
   "metadata": {
    "collapsed": true
   },
   "outputs": [],
   "source": [
    "type ols_results\n",
    "  coefs \n",
    "  yhat\n",
    "  res\n",
    "  vcv\n",
    "  tstat\n",
    "  pval\n",
    "end"
   ]
  },
  {
   "cell_type": "code",
   "execution_count": 3,
   "metadata": {
    "collapsed": false
   },
   "outputs": [
    {
     "data": {
      "text/plain": [
       "gls (generic function with 1 method)"
      ]
     },
     "execution_count": 3,
     "metadata": {},
     "output_type": "execute_result"
    }
   ],
   "source": [
    "# Keyword arguments are placed after semicolon. \n",
    "# Symbols start with colon, e.g. `:symbol`.\n",
    "function gls(y, X; corr=:none, lags=nothing)\n",
    "    \n",
    "    # more stable: β̂ = X \\ y, see notes at bottom\n",
    "    β̂ = inv(X' * X) * (X' * y)\n",
    "    ŷ = X * β̂\n",
    "    μ̂ = y - ŷ\n",
    "    \n",
    "    T, K = size(X)\n",
    "    σ̂² = dot(μ̂, μ̂) / (T - K)\n",
    "\n",
    "    #use correction for variance covariance\n",
    "    if corr == :none\n",
    "        vcv = σ̂² * inv(X' * X)\n",
    "        \n",
    "    elseif corr == :white\n",
    "        # or do newey_west with lags=0\n",
    "        vcv = inv(X' * X) * X' * diagm(μ̂.^2) * X * inv(X' * X)\n",
    "        \n",
    "    elseif corr == :newey_west\n",
    "        if lags == nothing \n",
    "            lags = Int(floor(T^(1/4)))\n",
    "        end\n",
    "        vcv = newey_west(X, μ̂, lags)\n",
    "    else\n",
    "        error(\"wrong argument for correction keyword\")\n",
    "    end\n",
    "\n",
    "    # T statistics for H₀: β₀ = 0\n",
    "    tstat = β̂ ./ sqrt(diag(vcv))\n",
    "    \n",
    "    # absolute value and times two for double sided test\n",
    "    pval  = 2 * ccdf(TDist(T-K), abs(tstat)) \n",
    "\n",
    "    return ols_results(β̂, ŷ, μ̂, vcv, tstat, pval)\n",
    "end"
   ]
  },
  {
   "cell_type": "code",
   "execution_count": 4,
   "metadata": {
    "collapsed": false
   },
   "outputs": [
    {
     "data": {
      "text/plain": [
       "newey_west (generic function with 1 method)"
      ]
     },
     "execution_count": 4,
     "metadata": {},
     "output_type": "execute_result"
    }
   ],
   "source": [
    "function newey_west(X, μ̂, lags::Integer)\n",
    "    if lags == 0 #White estimator\n",
    "        return inv(X'*X) * X' * diagm(μ̂.^2) * X * inv(X'*X)\n",
    "    end\n",
    "    \n",
    "    T, k = size(X)\n",
    "    vcv = zeros(k, k)\n",
    "    for lag in 0:lags\n",
    "        w = 1 - lag / (lags + 1)\n",
    "        for t in (lag + 1):T\n",
    "            # Calculates the off-diagonal terms\n",
    "            update = w * μ̂[t] * μ̂[t-lag] * (X[t-lag,:]*X[t,:]' + X[t,:]*X[t-lag,:]')\n",
    "            vcv = vcv + update\n",
    "        end\n",
    "    end  \n",
    "    vcv = inv(X'*X) * vcv * inv(X'*X) \n",
    "end"
   ]
  },
  {
   "cell_type": "code",
   "execution_count": 5,
   "metadata": {
    "collapsed": false
   },
   "outputs": [
    {
     "data": {
      "text/plain": [
       "ols_results([-0.79909,-0.281024,-0.659259],[0.89711,-0.445108,-0.873982,-0.583895,0.643354,-0.894633,-1.38627,-0.443149,0.684978,0.624576,0.99437,0.59485,-0.290817,-0.326096,0.396466,-0.861629,0.502337,0.273293,1.26224,-1.04805],[1.21303,-0.524702,-0.174645,1.81842,-0.236818,-0.0539331,0.734997,-0.35607,0.206723,-1.08922,-0.175208,2.33117,0.658781,1.44764,0.618347,1.70285,0.569568,-0.985123,1.02877,-0.428494],[0.110837 0.0218475 0.0228234; 0.0218475 0.0575132 0.0188665; 0.0228234 0.0188665 0.0688385],[-2.40023,-1.17182,-2.5127],[0.0281133,0.257433,0.0223588])"
      ]
     },
     "execution_count": 5,
     "metadata": {},
     "output_type": "execute_result"
    }
   ],
   "source": [
    "#test if it runs\n",
    "gls(randn(20), randn(20,3))"
   ]
  },
  {
   "cell_type": "code",
   "execution_count": 27,
   "metadata": {
    "collapsed": true
   },
   "outputs": [],
   "source": [
    "#simulation test\n",
    "K = 3   # number of parameters\n",
    "N = 100 # number of observations\n",
    "\n",
    "# Create actual parameters and observations\n",
    "β = randn(K) #[1, 10, 100]\n",
    "X = randn(N, K)\n",
    "X[:,1] = ones(N) # intercept\n",
    "σ = 5\n",
    "μ = σ * randn(N) # ~ N(0, σ)\n",
    "y = X * β + μ;"
   ]
  },
  {
   "cell_type": "code",
   "execution_count": 28,
   "metadata": {
    "collapsed": false
   },
   "outputs": [
    {
     "name": "stdout",
     "output_type": "stream",
     "text": [
      "β = [1.37092,0.22688,0.549384]\n",
      "res.coefs = [1.63196,0.780497,1.63478]\n"
     ]
    },
    {
     "data": {
      "text/plain": [
       "3×3 Array{Float64,2}:\n",
       " 0.254282    0.0229051   0.0252572\n",
       " 0.0229051   0.28133    -0.0358594\n",
       " 0.0252572  -0.0358594   0.256677 "
      ]
     },
     "execution_count": 28,
     "metadata": {},
     "output_type": "execute_result"
    }
   ],
   "source": [
    "res = gls(y, X)\n",
    "@show β\n",
    "@show res.coefs\n",
    "res.vcv"
   ]
  },
  {
   "cell_type": "code",
   "execution_count": 29,
   "metadata": {
    "collapsed": false
   },
   "outputs": [
    {
     "name": "stdout",
     "output_type": "stream",
     "text": [
      "β = [1.37092,0.22688,0.549384]\n",
      "res.coefs = [1.63196,0.780497,1.63478]\n"
     ]
    },
    {
     "data": {
      "text/plain": [
       "3×3 Array{Float64,2}:\n",
       "  0.396468    -0.00738168  0.0763741\n",
       " -0.00738168   0.545238    0.020876 \n",
       "  0.0763741    0.020876    0.592507 "
      ]
     },
     "execution_count": 29,
     "metadata": {},
     "output_type": "execute_result"
    }
   ],
   "source": [
    "res = gls(y, X, corr=:newey_west)\n",
    "@show β\n",
    "@show res.coefs\n",
    "res.vcv"
   ]
  },
  {
   "cell_type": "code",
   "execution_count": 9,
   "metadata": {
    "collapsed": false
   },
   "outputs": [
    {
     "data": {
      "text/plain": [
       "ols_results([300.286,0.741981,8.04356],[1672.83,1684.59,1682.98,1728.13,1737.65,1765.73,1817.55,1860.47,1950.13,2042.02,2122.03,2180.53,2250.16,2293.82,2346.38],[0.167431,3.41396,-16.9838,6.87355,11.346,-9.73102,-2.55145,6.53189,-2.12957,5.98303,5.96733,-15.5309,6.8411,22.1825,-22.38],[6133.65 -3.70794 220.206; -3.70794 0.00225946 -0.137052; 220.206 -0.137052 8.90154],[3.83421,15.6096,2.69597],[0.00237732,2.46242e-9,0.0194537])"
      ]
     },
     "execution_count": 9,
     "metadata": {},
     "output_type": "execute_result"
    }
   ],
   "source": [
    "# We test with the illustration of the slides \n",
    "y = [1673,1688,1666,1735,1749,1756,1815,1867,1948,2048,2128,2165,2257,2316,2324]\n",
    "X2=[1839,1844,1831,1881,1883,1910,1969,2016,2126,2239,2336,2404,2487,2535,2595]\n",
    "X = hcat(ones(length(X2)), X2, collect(1:15))\n",
    "gls(y, X)"
   ]
  },
  {
   "cell_type": "markdown",
   "metadata": {},
   "source": [
    "# Estimate Cigarette Demand"
   ]
  },
  {
   "cell_type": "code",
   "execution_count": 10,
   "metadata": {
    "collapsed": false
   },
   "outputs": [
    {
     "name": "stdout",
     "output_type": "stream",
     "text": [
      "state\n",
      " year\n",
      " P/pack\n",
      " pop\n",
      " pop16+\n",
      " CPI\n",
      " ndi/capita\n",
      " C/capita\n",
      " Pn/pack\n",
      " ln C_it\n",
      " ln P_it\n",
      " ln Pn_it\n",
      " ln Y_it\n"
     ]
    }
   ],
   "source": [
    "data, header = readcsv(\"Data_Baltagi.csv\", header=true)\n",
    "println.(header);"
   ]
  },
  {
   "cell_type": "code",
   "execution_count": 11,
   "metadata": {
    "collapsed": false
   },
   "outputs": [
    {
     "data": {
      "text/plain": [
       "1380×4 Array{Float64,2}:\n",
       " 1.0  -0.0675933   -0.159065    3.93035\n",
       " 1.0  -0.0394788   -0.119801    3.99498\n",
       " 1.0  -0.0554792   -0.086146    4.05101\n",
       " 1.0  -0.0281709   -0.0937682   4.0794 \n",
       " 1.0  -0.0553988   -0.120782    4.10405\n",
       " 1.0   0.0227283   -0.0838815   4.14772\n",
       " 1.0  -0.00272851  -0.112348    4.17096\n",
       " 1.0   0.0204089   -0.123275    4.20139\n",
       " 1.0   0.0528969   -0.123354    4.23081\n",
       " 1.0   0.0118907   -0.111226    4.28501\n",
       " 1.0  -0.0531917   -0.174246    4.33463\n",
       " 1.0  -0.134401    -0.174643    4.32325\n",
       " 1.0  -0.143673    -0.224073    4.33054\n",
       " ⋮                                     \n",
       " 1.0  -0.486196    -0.428838    4.70524\n",
       " 1.0  -0.405983    -0.384444    4.65864\n",
       " 1.0  -0.338482    -0.263871    4.59464\n",
       " 1.0  -0.240375    -0.160426    4.60445\n",
       " 1.0  -0.207925    -0.153377    4.6125 \n",
       " 1.0  -0.113913    -0.0926677   4.61688\n",
       " 1.0  -0.100871    -0.0673594   4.58327\n",
       " 1.0  -0.0467213   -0.0256863   4.60289\n",
       " 1.0  -0.0445251   -0.00809721  4.60509\n",
       " 1.0  -0.00922374   0.0608496   4.66465\n",
       " 1.0  -0.0699373    0.0529073   4.67978\n",
       " 1.0   0.100287     0.131391    4.71169"
      ]
     },
     "execution_count": 11,
     "metadata": {},
     "output_type": "execute_result"
    }
   ],
   "source": [
    "y = data[:, 10]\n",
    "X = hcat(ones(y), data[:, 11:13])"
   ]
  },
  {
   "cell_type": "code",
   "execution_count": 12,
   "metadata": {
    "collapsed": false
   },
   "outputs": [
    {
     "name": "stdout",
     "output_type": "stream",
     "text": [
      "res.coefs = [4.7478,-1.02434,0.259558,0.0655521]\n",
      "res.pval = [7.77625e-243,1.88586e-61,8.03852e-6,0.00913432]\n"
     ]
    }
   ],
   "source": [
    "res = gls(y, X)\n",
    "@show res.coefs\n",
    "@show res.pval;"
   ]
  },
  {
   "cell_type": "markdown",
   "metadata": {
    "slideshow": {
     "slide_type": "slide"
    }
   },
   "source": [
    "# Background on OLS\n",
    "## Problem\n",
    "Ordinary Least Squares (OLS) is a solution for a system of linear equations by minimizing the sum of squared differences between the observed values ($y$) and the corresponding modelled values ($\\hat y = X \\hat\\beta$).\n",
    "\n",
    "A system of equations is given by\n",
    "$$ y_i = \\beta_1 + \\beta_2 X_{i2}  + \\beta_3 X_{i3}  + ... + \\beta_K X_{iK} + \\mu_i,  \\quad i=1,...,N$$\n",
    "\n",
    "or in matrix notation\n",
    "$$ y = X \\beta + \\mu$$\n",
    "\n",
    "with $y, \\mu \\in \\mathbb{R}^{N\\times1}$, $X \\in \\mathbb{R}^{N\\times K}$ and $\\beta \\in \\mathbb{R}^{K\\times 1}$.\n",
    "\n",
    "The OLS solves\n",
    "$$\\operatorname{\\,min} \\, \\big\\|y - X \\hat\\beta \\big\\|^2$$\n",
    "that with some algebra leads to the [normal equations](https://en.wikipedia.org/wiki/Normal_equations) \n",
    "$$ X' X\\beta = X'y$$ "
   ]
  },
  {
   "cell_type": "markdown",
   "metadata": {
    "slideshow": {
     "slide_type": "subslide"
    }
   },
   "source": [
    "## Solution\n",
    "\n",
    "### Normal equations\n",
    "\n",
    "In case of a [rank][1] complete matrix $X$ the normal equations can be solved by inverting the ([Gram](https://en.wikipedia.org/wiki/Gramian_matrix)) matrix $X'X$ such that $\\hat\\beta = (X'X)^{-1}Xy$.\n",
    "\n",
    "As X'X is a symmetric, positive definite matrix it's computationally more efficient to use the cholesky decomposition of $X'X = LL'$ with $L$ a lower triangular matrix. This gives $LL'\\hat\\beta = X'y$. First solve $Lz = X'y$ for $z$ by [forward substitution](https://en.wikipedia.org/wiki/Forward_substitution) and then $L'\\hat\\beta = z$ for $\\beta$ by backward substitution.\n",
    "\n",
    "However, solving the normal equations is numerically unstable, i.e. it is very sensitive to small pertubations in $X$. The [condition number](https://en.wikipedia.org/wiki/Condition_number) $\\kappa$ of the system is worsened: $\\kappa(X'X) = [\\kappa(X)]^2$. We show the impact further below.\n",
    "\n",
    "[1]: https://en.wikipedia.org/wiki/Rank_(linear_algebra)"
   ]
  },
  {
   "cell_type": "markdown",
   "metadata": {},
   "source": [
    "We first simulate some parameters and data using the same notation as in the slides."
   ]
  },
  {
   "cell_type": "code",
   "execution_count": 13,
   "metadata": {
    "collapsed": false,
    "slideshow": {
     "slide_type": "slide"
    }
   },
   "outputs": [],
   "source": [
    "K = 5   # number of parameters\n",
    "N = 100 # number of observations\n",
    "\n",
    "# Create actual parameters and observations\n",
    "β = randn(K)\n",
    "X = randn(N, K)\n",
    "X[:,1] = ones(N) # intercept\n",
    "σ = 0.1\n",
    "μ = randn(N) * σ # ~ N(0,1)\n",
    "y = X * β + μ;"
   ]
  },
  {
   "cell_type": "code",
   "execution_count": 14,
   "metadata": {
    "collapsed": false
   },
   "outputs": [
    {
     "data": {
      "text/plain": [
       "5×2 Array{Float64,2}:\n",
       "  0.53793    0.544423\n",
       " -1.03249   -1.03373 \n",
       "  0.287501   0.292956\n",
       "  0.752885   0.74161 \n",
       " -1.347     -1.34078 "
      ]
     },
     "execution_count": 14,
     "metadata": {},
     "output_type": "execute_result"
    }
   ],
   "source": [
    "#define function\n",
    "OLS_normal(y, X) = inv(X'X) * X'y\n",
    "\n",
    "# test and print result side by side for quick sanity check\n",
    "β̂_normal = OLS_normal(y, X)\n",
    "hcat(β̂_normal, β)"
   ]
  },
  {
   "cell_type": "code",
   "execution_count": 15,
   "metadata": {
    "collapsed": false
   },
   "outputs": [
    {
     "data": {
      "text/plain": [
       "5×2 Array{Float64,2}:\n",
       "  0.53793    0.544423\n",
       " -1.03249   -1.03373 \n",
       "  0.287501   0.292956\n",
       "  0.752885   0.74161 \n",
       " -1.347     -1.34078 "
      ]
     },
     "execution_count": 15,
     "metadata": {},
     "output_type": "execute_result"
    }
   ],
   "source": [
    "function OLS_chol(y, X)\n",
    "    X′X_chol = cholfact(X'X)\n",
    "    X′X_chol\\(X'*y)\n",
    "end\n",
    "\n",
    "# test and print result side by side for quick sanity check\n",
    "β̂_chol = OLS_chol(y, X)\n",
    "hcat(β̂_chol, β)"
   ]
  },
  {
   "cell_type": "markdown",
   "metadata": {},
   "source": [
    "### QR Factorization\n",
    "We decompose $X$ to its orthogonal [QR decomposition](https://en.wikipedia.org/wiki/QR_decomposition):\n",
    "$$X = Q\\begin{bmatrix}\n",
    "R \\\\\n",
    "0\n",
    "\\end{bmatrix} $$\n",
    "with $Q\\in\\mathbb{R}^{N\\times N} $ an [orthogonal matrix](https://en.wikipedia.org/wiki/Orthogonal_matrix) and $R\\in\\mathbb{R}^{k\\times k}$ an upper triangular matrix (with positive diagonal elements).\n",
    "The solution is then given by\n",
    "$$R \\hat\\beta =\\left(Q' \\mathbf y \\right)_K$$\n",
    "\n",
    "This is the default method in Julia for solving OLS (for non-square matrix $X$) with `β̂ = X\\y`"
   ]
  },
  {
   "cell_type": "code",
   "execution_count": 16,
   "metadata": {
    "collapsed": false
   },
   "outputs": [
    {
     "data": {
      "text/plain": [
       "OLS_qr (generic function with 1 method)"
      ]
     },
     "execution_count": 16,
     "metadata": {},
     "output_type": "execute_result"
    }
   ],
   "source": [
    "function OLS_qr(y, X)\n",
    "    X_qr = qrfact(X)\n",
    "    X_qr \\ y\n",
    "end\n"
   ]
  },
  {
   "cell_type": "code",
   "execution_count": 17,
   "metadata": {
    "collapsed": false
   },
   "outputs": [
    {
     "data": {
      "text/plain": [
       "5×2 Array{Float64,2}:\n",
       "  0.53793    0.544423\n",
       " -1.03249   -1.03373 \n",
       "  0.287501   0.292956\n",
       "  0.752885   0.74161 \n",
       " -1.347     -1.34078 "
      ]
     },
     "execution_count": 17,
     "metadata": {},
     "output_type": "execute_result"
    }
   ],
   "source": [
    "β̂_qr = OLS_qr(y, X)\n",
    "hcat(β̂_qr, β)"
   ]
  },
  {
   "cell_type": "markdown",
   "metadata": {},
   "source": [
    "### SVD\n",
    "Another orthogonal decomposition uses the [singular value decomposition](https://en.wikipedia.org/wiki/Singular_value_decomposition) (SVD) of $X$:\n",
    "$$X = U \\Sigma V'$$\n",
    "with $U \\in\\mathbb{R}^{N\\times N}$ and $V \\in\\mathbb{R}^{K\\times K}$ both an orthogonal matrix, and $\\Sigma\\in\\mathbb{R}^{N\\times K}$ a diagonal matrix. SVD can transform any matrix into a diagonal matrix with the right choice of orthogonal coordinate systems for its domain and range. This even works for rank deficient matrices and is numerically stable! In such an ill-conditioned system, SVD will return the solution $\\hat\\beta$ that has the smallest norm.\n",
    "\n",
    "\n"
   ]
  },
  {
   "cell_type": "code",
   "execution_count": 18,
   "metadata": {
    "collapsed": false
   },
   "outputs": [
    {
     "data": {
      "text/plain": [
       "OLS_svd (generic function with 1 method)"
      ]
     },
     "execution_count": 18,
     "metadata": {},
     "output_type": "execute_result"
    }
   ],
   "source": [
    "function OLS_svd(y, X)\n",
    "    X_svd = svdfact(X)\n",
    "    X_svd \\ y\n",
    "end"
   ]
  },
  {
   "cell_type": "code",
   "execution_count": 19,
   "metadata": {
    "collapsed": false
   },
   "outputs": [
    {
     "data": {
      "text/plain": [
       "5×2 Array{Float64,2}:\n",
       "  0.53793    0.544423\n",
       " -1.03249   -1.03373 \n",
       "  0.287501   0.292956\n",
       "  0.752885   0.74161 \n",
       " -1.347     -1.34078 "
      ]
     },
     "execution_count": 19,
     "metadata": {},
     "output_type": "execute_result"
    }
   ],
   "source": [
    "β̂_svd = OLS_svd(y, X)\n",
    "hcat(β̂_svd, β)"
   ]
  },
  {
   "cell_type": "markdown",
   "metadata": {},
   "source": [
    "## Numerical Stability\n",
    "We now test numerical stability (example 3.5 in [1]) with \n",
    "$$X = \\begin{bmatrix}\n",
    "1 & 1\\\\\n",
    "1 & 1+\\epsilon\n",
    "\\end{bmatrix}, \n",
    "y = \\begin{bmatrix}\n",
    "2 \\\\\n",
    "2 \n",
    "\\end{bmatrix}$$\n",
    "The solution is given by $$\\hat\\beta=\\begin{bmatrix}2 \\\\ 0\\end{bmatrix}$$ \n",
    "\n",
    "This system is ill-conditioned because a slight perturbation in $$y_e = \\begin{bmatrix}\n",
    "2 \\\\\n",
    "2 + \\epsilon\n",
    "\\end{bmatrix}$$\n",
    "gives the compeltely different solution $$\\hat\\beta_e=\\begin{bmatrix}1 \\\\ 1\\end{bmatrix}$$\n",
    "\n",
    "We show that methods using the normal equations do not find the second solution.\n",
    "\n",
    "[1]: Numerically Efficient Methods for Solving Least Squares Problems, Do Q Lee."
   ]
  },
  {
   "cell_type": "code",
   "execution_count": 20,
   "metadata": {
    "collapsed": false
   },
   "outputs": [
    {
     "data": {
      "text/plain": [
       "2-element Array{Float64,1}:\n",
       " 2.0\n",
       " 0.0"
      ]
     },
     "execution_count": 20,
     "metadata": {},
     "output_type": "execute_result"
    }
   ],
   "source": [
    "ϵ = 1e-7\n",
    "X = [1 1;1 1+ϵ]\n",
    "y = [2; 2]\n",
    "OLS_normal(y, X)"
   ]
  },
  {
   "cell_type": "code",
   "execution_count": 21,
   "metadata": {
    "collapsed": false
   },
   "outputs": [
    {
     "name": "stdout",
     "output_type": "stream",
     "text": [
      "OLS_normal(yₑ,X) = [0.75,1.125]\n",
      "OLS_chol(yₑ,X) = [0.727273,1.27273]\n"
     ]
    }
   ],
   "source": [
    "yₑ = [2; 2+ϵ]\n",
    "@show OLS_normal(yₑ, X)\n",
    "@show OLS_chol(yₑ, X);"
   ]
  },
  {
   "cell_type": "code",
   "execution_count": 22,
   "metadata": {
    "collapsed": false
   },
   "outputs": [
    {
     "name": "stdout",
     "output_type": "stream",
     "text": [
      "OLS_qr(yₑ,X) = [1.0,1.0]\n",
      "OLS_svd(yₑ,X) = [1.0,1.0]\n"
     ]
    }
   ],
   "source": [
    "@show OLS_qr(yₑ, X)\n",
    "@show OLS_svd(yₑ, X);"
   ]
  },
  {
   "cell_type": "markdown",
   "metadata": {},
   "source": [
    "### Advanced methods\n",
    "Several advanced methods exist such as [bayesian OLS](https://en.wikipedia.org/wiki/Bayesian_linear_regression) (with possible priors), sparse OLS solvers, [James-Stein estimator](https://en.wikipedia.org/wiki/James%E2%80%93Stein_estimator) and [iterative solvers](https://en.wikipedia.org/wiki/Generalized_minimal_residual_method). "
   ]
  },
  {
   "cell_type": "code",
   "execution_count": 23,
   "metadata": {
    "collapsed": false
   },
   "outputs": [],
   "source": [
    "using IterativeSolvers"
   ]
  },
  {
   "cell_type": "code",
   "execution_count": 24,
   "metadata": {
    "collapsed": false
   },
   "outputs": [
    {
     "data": {
      "text/plain": [
       "OLS_lsmr (generic function with 1 method)"
      ]
     },
     "execution_count": 24,
     "metadata": {},
     "output_type": "execute_result"
    }
   ],
   "source": [
    "OLS_lsmr(y, X) = lsmr(X, y)"
   ]
  },
  {
   "cell_type": "code",
   "execution_count": 25,
   "metadata": {
    "collapsed": false
   },
   "outputs": [
    {
     "ename": "LoadError",
     "evalue": "DimensionMismatch(\"vectors must have same lengths\")",
     "output_type": "error",
     "traceback": [
      "DimensionMismatch(\"vectors must have same lengths\")",
      "",
      " in hcat(::Array{Float64,1}, ::Array{Float64,1}) at ./array.jl:738"
     ]
    }
   ],
   "source": [
    "β̂_lsmr = OLS_lsmr(y, X)\n",
    "hcat(β̂_lsmr, β)"
   ]
  }
 ],
 "metadata": {
  "anaconda-cloud": {},
  "celltoolbar": "Raw Cell Format",
  "kernelspec": {
   "display_name": "Julia 0.5.0",
   "language": "julia",
   "name": "julia-0.5"
  },
  "language_info": {
   "file_extension": ".jl",
   "mimetype": "application/julia",
   "name": "julia",
   "version": "0.5.1"
  }
 },
 "nbformat": 4,
 "nbformat_minor": 2
}
