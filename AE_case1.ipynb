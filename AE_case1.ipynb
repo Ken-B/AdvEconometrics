{
 "cells": [
  {
   "cell_type": "markdown",
   "metadata": {
    "slideshow": {
     "slide_type": "slide"
    }
   },
   "source": [
    "# Case 1: Implementing LS solver"
   ]
  },
  {
   "cell_type": "markdown",
   "metadata": {},
   "source": [
    "by Ken Bastiaensen, Milan Van den Heuvel, Gonzalo Villa"
   ]
  },
  {
   "cell_type": "markdown",
   "metadata": {
    "slideshow": {
     "slide_type": "-"
    }
   },
   "source": [
    "*Advanced Econometrics 2016-2017. Case 1, least squares (LS) implementation.*"
   ]
  },
  {
   "cell_type": "markdown",
   "metadata": {},
   "source": [
    "The system of linear equations is given in matrix notation\n",
    "$$ y = X \\beta + \\mu$$\n",
    "\n",
    "with dependent variables $y$ and residuals $\\mu \\in \\mathbb{R}^{N\\times1}$, independent variables $X \\in \\mathbb{R}^{N\\times K}$ and coefficients $\\beta \\in \\mathbb{R}^{K\\times 1}$."
   ]
  },
  {
   "cell_type": "markdown",
   "metadata": {},
   "source": [
    "We use the estimator for the coefficients $\\hat\\beta = (X'X)^{-1}Xy$ as given in course. In practice more advanced methods are used for stability, see the bottom part of this document."
   ]
  },
  {
   "cell_type": "markdown",
   "metadata": {},
   "source": [
    "With $\\hat\\mu = y - X \\hat\\beta$, the standard error $\\sigma$ is estimated by \n",
    "$$\\hat\\sigma^2 = \\frac{\\hat\\mu'\\hat\\mu}{N - K}$$\n",
    "and variance-covariance matrix of $\\hat\\beta$ given by\n",
    "$$V[\\hat\\beta] = \\hat\\sigma^2 (X'X)^{-1}$$"
   ]
  },
  {
   "cell_type": "markdown",
   "metadata": {},
   "source": [
    "The t distribution for this null hypothesis that $\\beta_0=0$ is then\n",
    "$$ t = \\frac{\\hat\\beta - 0}{s.e.} $$ with the standard errors $s.e.$ on the diagonal of $\\hat\\sigma$."
   ]
  },
  {
   "cell_type": "code",
   "execution_count": 2,
   "metadata": {
    "collapsed": false
   },
   "outputs": [],
   "source": [
    "using Distributions: TDist, cdf, ccdf"
   ]
  },
  {
   "cell_type": "code",
   "execution_count": 3,
   "metadata": {
    "collapsed": true
   },
   "outputs": [],
   "source": [
    "type ols_results\n",
    "  coefs \n",
    "  yhat\n",
    "  res\n",
    "  vcv\n",
    "  tstat\n",
    "  pval\n",
    "end"
   ]
  },
  {
   "cell_type": "code",
   "execution_count": 21,
   "metadata": {
    "collapsed": false
   },
   "outputs": [
    {
     "data": {
      "text/plain": [
       "3"
      ]
     },
     "execution_count": 21,
     "metadata": {},
     "output_type": "execute_result"
    }
   ],
   "source": [
    "Int(floor(3.1))"
   ]
  },
  {
   "cell_type": "code",
   "execution_count": 22,
   "metadata": {
    "collapsed": false
   },
   "outputs": [
    {
     "name": "stderr",
     "output_type": "stream",
     "text": [
      "WARNING: Method definition gls(Any, Any) in module Main at In[15]:5 overwritten at In[22]:5.\n",
      "WARNING: Method definition #gls(Array{Any, 1}, Main.#gls, Any, Any) in module Main overwritten.\n"
     ]
    },
    {
     "data": {
      "text/plain": [
       "gls (generic function with 1 method)"
      ]
     },
     "execution_count": 22,
     "metadata": {},
     "output_type": "execute_result"
    }
   ],
   "source": [
    "# keyword arguments are placed after semicolon\n",
    "function gls(y, X; corr=:none, lags=nothing)\n",
    "    \n",
    "    # more stable: β̂ = X \\ y, see notes at bottom\n",
    "    β̂ = inv(X' * X) * (X' * y)\n",
    "    ŷ = X * β̂\n",
    "    μ̂ = y - ŷ\n",
    "    \n",
    "    T, K = size(X)\n",
    "    σ̂² = dot(μ̂, μ̂) / (T - K)\n",
    "\n",
    "    #use correction for variance covariance\n",
    "    if corr == :none\n",
    "        vcv = σ̂² * inv(X' * X)\n",
    "        \n",
    "    elseif corr == :white\n",
    "        # or do newey_west with lags=0\n",
    "        vcv = inv(X' * X) * X' * diagm(μ̂.^2) * X * inv(X' * X)\n",
    "        \n",
    "    elseif corr == :newey_west\n",
    "        if lags == nothing \n",
    "            lags = Int(floor(T^(1/4)))\n",
    "        end\n",
    "        vcv = newey_west(X, μ̂, lags)\n",
    "    else\n",
    "        error(\"\")\n",
    "    end\n",
    "\n",
    "    # T statistics for H₀: β₀ = 0\n",
    "    tstat = β̂ ./ sqrt(diag(vcv))\n",
    "    \n",
    "    # absolute value and times two for double sided test\n",
    "    pval  = 2 * ccdf(TDist(T-K), abs(tstat)) \n",
    "\n",
    "    return ols_results(β̂, ŷ, μ̂, vcv, tstat, pval)\n",
    "end"
   ]
  },
  {
   "cell_type": "code",
   "execution_count": 5,
   "metadata": {
    "collapsed": false
   },
   "outputs": [
    {
     "data": {
      "text/plain": [
       "newey_west (generic function with 1 method)"
      ]
     },
     "execution_count": 5,
     "metadata": {},
     "output_type": "execute_result"
    }
   ],
   "source": [
    "function newey_west(X, μ̂, lags::Integer)\n",
    "    if lags == 0 #White estimator\n",
    "        return inv(X'*X) * X' * diagm(μ̂.^2) * X * inv(X'*X)\n",
    "    end\n",
    "    \n",
    "    T, k = size(X)\n",
    "    vcv = zeros(k, k)\n",
    "    for lag in 0:lags\n",
    "        w = 1 - lag / (lags + 1)\n",
    "        for t in (lag + 1):T\n",
    "            # Calculates the off-diagonal terms\n",
    "            update = w * μ̂[t] * μ̂[t-lag] * (X[t-lag,:]*X[t,:]' + X[t,:]*X[t-lag,:]')\n",
    "            vcv = vcv + update\n",
    "        end\n",
    "    end  \n",
    "    vcv = inv(X'*X) * vcv * inv(X'*X) \n",
    "end"
   ]
  },
  {
   "cell_type": "code",
   "execution_count": 6,
   "metadata": {
    "collapsed": false
   },
   "outputs": [
    {
     "data": {
      "text/plain": [
       "ols_results([0.332724,0.00614142,-0.0920556],[-0.0667136,-0.232537,0.384747,0.744804,0.254334,-0.0802231,-0.645334,0.0597585,0.79786,0.132128,0.013184,0.122888,-0.277104,0.559242,0.318354,0.11863,0.415519,0.0543735,-0.308223,0.159704],[-0.113509,2.20071,-0.209796,0.0192079,0.310677,1.40704,-0.799849,-0.548425,0.9567,0.25381,-2.35936,-0.219342,0.540743,-1.6388,1.7748,0.121553,-0.529137,0.416274,0.0554698,0.522746],[0.0532598 0.00916819 -0.00937236; 0.00916819 0.0439666 -0.0108212; -0.00937236 -0.0108212 0.0854043],[1.44173,0.0292892,-0.315],[0.167547,0.976975,0.756596])"
      ]
     },
     "execution_count": 6,
     "metadata": {},
     "output_type": "execute_result"
    }
   ],
   "source": [
    "#test if it runs\n",
    "gls(randn(20), randn(20,3))"
   ]
  },
  {
   "cell_type": "code",
   "execution_count": 7,
   "metadata": {
    "collapsed": true
   },
   "outputs": [],
   "source": [
    "#simulation test\n",
    "K = 3   # number of parameters\n",
    "N = 100 # number of observations\n",
    "\n",
    "# Create actual parameters and observations\n",
    "β = randn(K) #[1, 10, 100]\n",
    "X = randn(N, K)\n",
    "X[:,1] = ones(N) # intercept\n",
    "σ = 5\n",
    "μ = σ * randn(N) # ~ N(0, σ)\n",
    "y = X * β + μ;"
   ]
  },
  {
   "cell_type": "code",
   "execution_count": 11,
   "metadata": {
    "collapsed": false
   },
   "outputs": [
    {
     "data": {
      "text/plain": [
       "ols_results([-0.828255,0.0523316,-0.357631],[-0.983187,-0.725403,-1.25167,-0.666347,-0.591869,-0.827688,-0.858945,-0.949696,-1.2801,-1.2284  …  -1.36285,-0.896799,-0.580468,-0.885217,-0.888864,-0.137331,-0.87076,-0.530072,-0.332972,-1.11631],[6.87641,-8.27622,0.0312563,-0.0760314,-7.14556,-0.325214,1.9361,8.70725,-5.06309,0.996656  …  1.85042,11.2515,3.03991,2.07551,-5.25347,-4.22124,0.255503,0.554342,0.421814,-0.559656],[0.222278 0.00841732 0.0103649; 0.00841732 0.25577 0.000744493; 0.0103649 0.000744493 0.236897],[-1.75677,0.103476,-0.734776],[0.082112,0.917799,0.464248])"
      ]
     },
     "execution_count": 11,
     "metadata": {},
     "output_type": "execute_result"
    }
   ],
   "source": [
    "res = gls(y, X)"
   ]
  },
  {
   "cell_type": "code",
   "execution_count": 23,
   "metadata": {
    "collapsed": false
   },
   "outputs": [
    {
     "data": {
      "text/plain": [
       "ols_results([-0.828255,0.0523316,-0.357631],[-0.983187,-0.725403,-1.25167,-0.666347,-0.591869,-0.827688,-0.858945,-0.949696,-1.2801,-1.2284  …  -1.36285,-0.896799,-0.580468,-0.885217,-0.888864,-0.137331,-0.87076,-0.530072,-0.332972,-1.11631],[6.87641,-8.27622,0.0312563,-0.0760314,-7.14556,-0.325214,1.9361,8.70725,-5.06309,0.996656  …  1.85042,11.2515,3.03991,2.07551,-5.25347,-4.22124,0.255503,0.554342,0.421814,-0.559656],[0.412017 -0.0127841 0.0795977; -0.0127841 0.350845 -0.033321; 0.0795977 -0.033321 0.405198],[-1.29035,0.08835,-0.561826],[0.199998,0.929781,0.575531])"
      ]
     },
     "execution_count": 23,
     "metadata": {},
     "output_type": "execute_result"
    }
   ],
   "source": [
    "gls(y, X; corr=:newey_west)"
   ]
  },
  {
   "cell_type": "code",
   "execution_count": 24,
   "metadata": {
    "collapsed": false
   },
   "outputs": [
    {
     "data": {
      "text/plain": [
       "ols_results([300.286,0.741981,8.04356],[1672.83,1684.59,1682.98,1728.13,1737.65,1765.73,1817.55,1860.47,1950.13,2042.02,2122.03,2180.53,2250.16,2293.82,2346.38],[0.167431,3.41396,-16.9838,6.87355,11.346,-9.73102,-2.55145,6.53189,-2.12957,5.98303,5.96733,-15.5309,6.8411,22.1825,-22.38],[6133.65 -3.70794 220.206; -3.70794 0.00225946 -0.137052; 220.206 -0.137052 8.90154],[3.83421,15.6096,2.69597],[0.00237732,2.46242e-9,0.0194537])"
      ]
     },
     "execution_count": 24,
     "metadata": {},
     "output_type": "execute_result"
    }
   ],
   "source": [
    "# We test with the illustration of the slides \n",
    "y = [1673,1688,1666,1735,1749,1756,1815,1867,1948,2048,2128,2165,2257,2316,2324]\n",
    "X2=[1839,1844,1831,1881,1883,1910,1969,2016,2126,2239,2336,2404,2487,2535,2595]\n",
    "X = hcat(ones(length(X2)), X2, collect(1:15))\n",
    "gls(y, X)"
   ]
  },
  {
   "cell_type": "markdown",
   "metadata": {},
   "source": [
    "# Estimate Cigarette Demand"
   ]
  },
  {
   "cell_type": "code",
   "execution_count": null,
   "metadata": {
    "collapsed": true
   },
   "outputs": [],
   "source": [
    "X = readcsv()"
   ]
  },
  {
   "cell_type": "markdown",
   "metadata": {
    "slideshow": {
     "slide_type": "slide"
    }
   },
   "source": [
    "# Background on OLS\n",
    "## Problem\n",
    "Ordinary Least Squares (OLS) is a solution for a system of linear equations by minimizing the sum of squared differences between the observed values ($y$) and the corresponding modelled values ($\\hat y = X \\hat\\beta$).\n",
    "\n",
    "A system of equations is given by\n",
    "$$ y_i = \\beta_1 + \\beta_2 X_{i2}  + \\beta_3 X_{i3}  + ... + \\beta_K X_{iK} + \\mu_i,  \\quad i=1,...,N$$\n",
    "\n",
    "or in matrix notation\n",
    "$$ y = X \\beta + \\mu$$\n",
    "\n",
    "with $y, \\mu \\in \\mathbb{R}^{N\\times1}$, $X \\in \\mathbb{R}^{N\\times K}$ and $\\beta \\in \\mathbb{R}^{K\\times 1}$.\n",
    "\n",
    "The OLS solves\n",
    "$$\\operatorname{\\,min} \\, \\big\\|y - X \\hat\\beta \\big\\|^2$$\n",
    "that with some algebra leads to the [normal equations](https://en.wikipedia.org/wiki/Normal_equations) \n",
    "$$ X' X\\beta = X'y$$ "
   ]
  },
  {
   "cell_type": "markdown",
   "metadata": {
    "slideshow": {
     "slide_type": "subslide"
    }
   },
   "source": [
    "## Solution\n",
    "\n",
    "### Normal equations\n",
    "\n",
    "In case of a [rank][1] complete matrix $X$ the normal equations can be solved by inverting the ([Gram](https://en.wikipedia.org/wiki/Gramian_matrix)) matrix $X'X$ such that $\\hat\\beta = (X'X)^{-1}Xy$.\n",
    "\n",
    "As X'X is a symmetric, positive definite matrix it's computationally more efficient to use the cholesky decomposition of $X'X = LL'$ with $L$ a lower triangular matrix. This gives $LL'\\hat\\beta = X'y$. First solve $Lz = X'y$ for $z$ by [forward substitution](https://en.wikipedia.org/wiki/Forward_substitution) and then $L'\\hat\\beta = z$ for $\\beta$ by backward substitution.\n",
    "\n",
    "However, solving the normal equations is numerically unstable, i.e. it is very sensitive to small pertubations in $X$. The [condition number](https://en.wikipedia.org/wiki/Condition_number) $\\kappa$ of the system is worsened: $\\kappa(X'X) = [\\kappa(X)]^2$. We show the impact further below.\n",
    "\n",
    "[1]: https://en.wikipedia.org/wiki/Rank_(linear_algebra)"
   ]
  },
  {
   "cell_type": "markdown",
   "metadata": {},
   "source": [
    "We first simulate some parameters and data using the same notation as in the slides."
   ]
  },
  {
   "cell_type": "code",
   "execution_count": 1,
   "metadata": {
    "collapsed": false,
    "slideshow": {
     "slide_type": "slide"
    }
   },
   "outputs": [],
   "source": [
    "K = 5   # number of parameters\n",
    "N = 100 # number of observations\n",
    "\n",
    "# Create actual parameters and observations\n",
    "β = randn(K)\n",
    "X = randn(N, K)\n",
    "X[:,1] = ones(N) # intercept\n",
    "σ = 0.1\n",
    "μ = randn(N) * σ # ~ N(0,1)\n",
    "y = X * β + μ;"
   ]
  },
  {
   "cell_type": "code",
   "execution_count": 4,
   "metadata": {
    "collapsed": false
   },
   "outputs": [
    {
     "data": {
      "text/plain": [
       "5×2 Array{Float64,2}:\n",
       "  2.19354    2.1908  \n",
       " -0.763111  -0.758047\n",
       "  1.02621    1.03849 \n",
       "  1.29059    1.27825 \n",
       "  1.59663    1.59965 "
      ]
     },
     "execution_count": 4,
     "metadata": {},
     "output_type": "execute_result"
    }
   ],
   "source": [
    "#define function\n",
    "OLS_normal(y, X) = inv(X'X) * X'y\n",
    "\n",
    "# test and print result side by side for quick sanity check\n",
    "β̂_normal = OLS_normal(y, X)\n",
    "hcat(β̂_normal, β)"
   ]
  },
  {
   "cell_type": "code",
   "execution_count": 5,
   "metadata": {
    "collapsed": false
   },
   "outputs": [
    {
     "data": {
      "text/plain": [
       "5×2 Array{Float64,2}:\n",
       "  2.19354    2.1908  \n",
       " -0.763111  -0.758047\n",
       "  1.02621    1.03849 \n",
       "  1.29059    1.27825 \n",
       "  1.59663    1.59965 "
      ]
     },
     "execution_count": 5,
     "metadata": {},
     "output_type": "execute_result"
    }
   ],
   "source": [
    "function OLS_chol(y, X)\n",
    "    X′X_chol = cholfact(X'X)\n",
    "    X′X_chol\\(X'*y)\n",
    "end\n",
    "\n",
    "# test and print result side by side for quick sanity check\n",
    "β̂_chol = OLS_chol(y, X)\n",
    "hcat(β̂_chol, β)"
   ]
  },
  {
   "cell_type": "markdown",
   "metadata": {},
   "source": [
    "### QR Factorization\n",
    "We decompose $X$ to its orthogonal [QR decomposition](https://en.wikipedia.org/wiki/QR_decomposition):\n",
    "$$X = Q\\begin{bmatrix}\n",
    "R \\\\\n",
    "0\n",
    "\\end{bmatrix} $$\n",
    "with $Q\\in\\mathbb{R}^{N\\times N} $ an [orthogonal matrix](https://en.wikipedia.org/wiki/Orthogonal_matrix) and $R\\in\\mathbb{R}^{k\\times k}$ an upper triangular matrix (with positive diagonal elements).\n",
    "The solution is then given by\n",
    "$$R \\hat\\beta =\\left(Q' \\mathbf y \\right)_K$$\n",
    "\n",
    "This is the default method in Julia for solving OLS (for non-square matrix $X$) with `β̂ = X\\y`"
   ]
  },
  {
   "cell_type": "code",
   "execution_count": 6,
   "metadata": {
    "collapsed": false
   },
   "outputs": [
    {
     "data": {
      "text/plain": [
       "OLS_qr (generic function with 1 method)"
      ]
     },
     "execution_count": 6,
     "metadata": {},
     "output_type": "execute_result"
    }
   ],
   "source": [
    "function OLS_qr(y, X)\n",
    "    X_qr = qrfact(X)\n",
    "    X_qr \\ y\n",
    "end\n"
   ]
  },
  {
   "cell_type": "code",
   "execution_count": 7,
   "metadata": {
    "collapsed": false
   },
   "outputs": [
    {
     "data": {
      "text/plain": [
       "5×2 Array{Float64,2}:\n",
       "  2.19354    2.1908  \n",
       " -0.763111  -0.758047\n",
       "  1.02621    1.03849 \n",
       "  1.29059    1.27825 \n",
       "  1.59663    1.59965 "
      ]
     },
     "execution_count": 7,
     "metadata": {},
     "output_type": "execute_result"
    }
   ],
   "source": [
    "β̂_qr = OLS_qr(y, X)\n",
    "hcat(β̂_qr, β)"
   ]
  },
  {
   "cell_type": "markdown",
   "metadata": {},
   "source": [
    "### SVD\n",
    "Another orthogonal decomposition uses the [singular value decomposition](https://en.wikipedia.org/wiki/Singular_value_decomposition) (SVD) of $X$:\n",
    "$$X = U \\Sigma V'$$\n",
    "with $U \\in\\mathbb{R}^{N\\times N}$ and $V \\in\\mathbb{R}^{K\\times K}$ both an orthogonal matrix, and $\\Sigma\\in\\mathbb{R}^{N\\times K}$ a diagonal matrix. SVD can transform any matrix into a diagonal matrix with the right choice of orthogonal coordinate systems for its domain and range. This even works for rank deficient matrices and is numerically stable! In such an ill-conditioned system, SVD will return the solution $\\hat\\beta$ that has the smallest norm.\n",
    "\n",
    "\n"
   ]
  },
  {
   "cell_type": "code",
   "execution_count": 8,
   "metadata": {
    "collapsed": false
   },
   "outputs": [
    {
     "data": {
      "text/plain": [
       "OLS_svd (generic function with 1 method)"
      ]
     },
     "execution_count": 8,
     "metadata": {},
     "output_type": "execute_result"
    }
   ],
   "source": [
    "function OLS_svd(y, X)\n",
    "    X_svd = svdfact(X)\n",
    "    X_svd \\ y\n",
    "end"
   ]
  },
  {
   "cell_type": "code",
   "execution_count": 9,
   "metadata": {
    "collapsed": false
   },
   "outputs": [
    {
     "data": {
      "text/plain": [
       "5×2 Array{Float64,2}:\n",
       "  2.19354    2.1908  \n",
       " -0.763111  -0.758047\n",
       "  1.02621    1.03849 \n",
       "  1.29059    1.27825 \n",
       "  1.59663    1.59965 "
      ]
     },
     "execution_count": 9,
     "metadata": {},
     "output_type": "execute_result"
    }
   ],
   "source": [
    "β̂_svd = OLS_svd(y, X)\n",
    "hcat(β̂_svd, β)"
   ]
  },
  {
   "cell_type": "markdown",
   "metadata": {},
   "source": [
    "## Numerical Stability\n",
    "We now test numerical stability (example 3.5 in [1]) with \n",
    "$$X^s = \\begin{bmatrix}\n",
    "1 & 1\\\\\n",
    "1 & 1+\\epsilon\n",
    "\\end{bmatrix}, \n",
    "y^s = \\begin{bmatrix}\n",
    "2 \\\\\n",
    "2 \n",
    "\\end{bmatrix}$$\n",
    "This gives the solution $\\hat\\beta=\\begin{bmatrix}2 & 0\\end{bmatrix}'$ .\n",
    "\n",
    "This system is ill-conditioned because a slight perturbation in $$y^s_e = \\begin{bmatrix}\n",
    "2 \\\\\n",
    "2 + \\epsilon\n",
    "\\end{bmatrix}$$\n",
    "gives the compeltely different solution $\\hat\\beta=\\begin{bmatrix}1 & 1\\end{bmatrix}'$\n",
    "\n",
    "We show that methods using the normal equations do not find the second solution.\n",
    "\n",
    "[1]: Numerically Efficient Methods for Solving Least Squares Problems, Do Q Lee."
   ]
  },
  {
   "cell_type": "code",
   "execution_count": 10,
   "metadata": {
    "collapsed": false
   },
   "outputs": [
    {
     "data": {
      "text/plain": [
       "2-element Array{Float64,1}:\n",
       " 2.0\n",
       " 0.0"
      ]
     },
     "execution_count": 10,
     "metadata": {},
     "output_type": "execute_result"
    }
   ],
   "source": [
    "ϵ = 1e-7\n",
    "Xˢ = [1 1;1 1+ϵ]\n",
    "yˢ = [2; 2]\n",
    "OLS_normal(yˢ, Xˢ)"
   ]
  },
  {
   "cell_type": "code",
   "execution_count": 11,
   "metadata": {
    "collapsed": false
   },
   "outputs": [
    {
     "name": "stdout",
     "output_type": "stream",
     "text": [
      "OLS_normal(yˢₑ,Xˢ) = [0.75,1.125]\n",
      "OLS_chol(yˢₑ,Xˢ) = [0.727273,1.27273]\n"
     ]
    }
   ],
   "source": [
    "yˢₑ = [2; 2+ϵ]\n",
    "@show OLS_normal(yˢₑ, Xˢ)\n",
    "@show OLS_chol(  yˢₑ, Xˢ);"
   ]
  },
  {
   "cell_type": "code",
   "execution_count": 12,
   "metadata": {
    "collapsed": false
   },
   "outputs": [
    {
     "name": "stdout",
     "output_type": "stream",
     "text": [
      "OLS_qr(yˢₑ,Xˢ) = [1.0,1.0]\n",
      "OLS_svd(yˢₑ,Xˢ) = [1.0,1.0]\n"
     ]
    }
   ],
   "source": [
    "@show OLS_qr( yˢₑ, Xˢ)\n",
    "@show OLS_svd(yˢₑ, Xˢ);"
   ]
  },
  {
   "cell_type": "code",
   "execution_count": null,
   "metadata": {
    "collapsed": true
   },
   "outputs": [],
   "source": []
  },
  {
   "cell_type": "markdown",
   "metadata": {},
   "source": [
    "### Advanced methods\n",
    "Several advanced methods exist such as [bayesian OLS](https://en.wikipedia.org/wiki/Bayesian_linear_regression) (with possible priors), sparse OLS solvers, and iterative solvers. Several other methods for OLS exist , "
   ]
  },
  {
   "cell_type": "code",
   "execution_count": 1,
   "metadata": {
    "collapsed": false
   },
   "outputs": [],
   "source": [
    "using IterativeSolvers"
   ]
  },
  {
   "cell_type": "code",
   "execution_count": 5,
   "metadata": {
    "collapsed": false
   },
   "outputs": [
    {
     "data": {
      "text/plain": [
       "OLS_lsmr (generic function with 1 method)"
      ]
     },
     "execution_count": 5,
     "metadata": {},
     "output_type": "execute_result"
    }
   ],
   "source": [
    "OLS_lsmr(y, X) = lsmr(X, y)"
   ]
  },
  {
   "cell_type": "code",
   "execution_count": 6,
   "metadata": {
    "collapsed": false
   },
   "outputs": [
    {
     "data": {
      "text/plain": [
       "5×2 Array{Float64,2}:\n",
       " -0.673437  -0.671959\n",
       "  0.998477   0.993547\n",
       "  0.566924   0.567868\n",
       " -0.930122  -0.928808\n",
       "  0.367578   0.34622 "
      ]
     },
     "execution_count": 6,
     "metadata": {},
     "output_type": "execute_result"
    }
   ],
   "source": [
    "β̂_lsmr = OLS_lsmr(y, X)\n",
    "hcat(β̂_lsmr, β)"
   ]
  },
  {
   "cell_type": "markdown",
   "metadata": {},
   "source": [
    "(also exists [James-Stein estimator](https://en.wikipedia.org/wiki/James%E2%80%93Stein_estimator))"
   ]
  }
 ],
 "metadata": {
  "anaconda-cloud": {},
  "celltoolbar": "Raw Cell Format",
  "kernelspec": {
   "display_name": "Julia 0.5.0",
   "language": "julia",
   "name": "julia-0.5"
  },
  "language_info": {
   "file_extension": ".jl",
   "mimetype": "application/julia",
   "name": "julia",
   "version": "0.5.1"
  }
 },
 "nbformat": 4,
 "nbformat_minor": 2
}
