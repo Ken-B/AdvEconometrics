{
 "cells": [
  {
   "cell_type": "markdown",
   "metadata": {
    "slideshow": {
     "slide_type": "slide"
    }
   },
   "source": [
    "# LS solver"
   ]
  },
  {
   "cell_type": "markdown",
   "metadata": {
    "slideshow": {
     "slide_type": "-"
    }
   },
   "source": [
    "*Advanced Econometrics 2016-2017. Case 1, least squares (LS) implementation.*"
   ]
  },
  {
   "cell_type": "markdown",
   "metadata": {
    "slideshow": {
     "slide_type": "slide"
    }
   },
   "source": [
    "## Problem\n",
    "Ordinary Least Squares (OLS) is a solution for a system of linear equations by minimizing the sum of squared differences between the observed values ($y$) and the corresponding modelled values ($\\hat y = X \\hat\\beta$).\n",
    "\n",
    "A system of equations is given by\n",
    "$$ y_i = \\beta_1 + \\beta_2 X_{i2}  + \\beta_3 X_{i3}  + ... + \\beta_K X_{iK} + \\mu_i,  \\quad i=1,...,N$$\n",
    "\n",
    "or in matrix notation\n",
    "$$ y = X \\beta + \\mu$$\n",
    "\n",
    "with $y, \\mu \\in \\mathbb{R}^{N\\times1}$, $X \\in \\mathbb{R}^{N\\times K}$ and $\\beta \\in \\mathbb{R}^{K\\times 1}$.\n",
    "\n",
    "The OLS solves\n",
    "$$\\operatorname{\\,min} \\, \\big\\|y - X \\hat\\beta \\big\\|^2$$\n",
    "that with some algebra leads to the [normal equations](https://en.wikipedia.org/wiki/Normal_equations) \n",
    "$$ X' X\\beta = X'y$$ "
   ]
  },
  {
   "cell_type": "markdown",
   "metadata": {
    "slideshow": {
     "slide_type": "subslide"
    }
   },
   "source": [
    "## Solution\n",
    "\n",
    "### Normal equations\n",
    "\n",
    "In case of a [rank][1] complete matrix $X$ the normal equations can be solved by inverting the ([Gram](https://en.wikipedia.org/wiki/Gramian_matrix)) matrix $X'X$ such that $\\hat\\beta = (X'X)^{-1}Xy$.\n",
    "\n",
    "As X'X is a symmetric, positive definite matrix it's computationally more efficient to use the cholesky decomposition of $X'X = LL'$ with $L$ a lower triangular matrix. This gives $LL'\\hat\\beta = X'y$. First solve $Lz = X'y$ for $z$ by [forward substitution](https://en.wikipedia.org/wiki/Forward_substitution) and then $L'\\hat\\beta = z$ for $\\beta$ by backward substitution.\n",
    "\n",
    "However, solving the normal equations is numerically unstable, i.e. it is very sensitive to small pertubations in $X$. The [condition number](https://en.wikipedia.org/wiki/Condition_number) $\\kappa$ of the system is worsened: $\\kappa(X'X) = [\\kappa(X)]^2$. We show the impact further below.\n",
    "\n",
    "[1]: https://en.wikipedia.org/wiki/Rank_(linear_algebra)"
   ]
  },
  {
   "cell_type": "markdown",
   "metadata": {},
   "source": [
    "We first simulate some parameters and data using the same notation as in the slides."
   ]
  },
  {
   "cell_type": "code",
   "execution_count": 1,
   "metadata": {
    "collapsed": false,
    "slideshow": {
     "slide_type": "slide"
    }
   },
   "outputs": [],
   "source": [
    "K = 5   # number of parameters\n",
    "N = 100 # number of observations\n",
    "\n",
    "# Create actual parameters and observations\n",
    "β = randn(K)\n",
    "X = randn(N, K)\n",
    "X[:,1] = ones(N) # intercept\n",
    "σ = 0.1\n",
    "μ = randn(N) * σ # ~ N(0,1)\n",
    "y = X * β + μ;"
   ]
  },
  {
   "cell_type": "code",
   "execution_count": 4,
   "metadata": {
    "collapsed": false
   },
   "outputs": [
    {
     "data": {
      "text/plain": [
       "5×2 Array{Float64,2}:\n",
       "  2.19354    2.1908  \n",
       " -0.763111  -0.758047\n",
       "  1.02621    1.03849 \n",
       "  1.29059    1.27825 \n",
       "  1.59663    1.59965 "
      ]
     },
     "execution_count": 4,
     "metadata": {},
     "output_type": "execute_result"
    }
   ],
   "source": [
    "#define function\n",
    "OLS_normal(y, X) = inv(X'X) * X'y\n",
    "\n",
    "# test and print result side by side for quick sanity check\n",
    "β̂_normal = OLS_normal(y, X)\n",
    "hcat(β̂_normal, β)"
   ]
  },
  {
   "cell_type": "code",
   "execution_count": 5,
   "metadata": {
    "collapsed": false
   },
   "outputs": [
    {
     "data": {
      "text/plain": [
       "5×2 Array{Float64,2}:\n",
       "  2.19354    2.1908  \n",
       " -0.763111  -0.758047\n",
       "  1.02621    1.03849 \n",
       "  1.29059    1.27825 \n",
       "  1.59663    1.59965 "
      ]
     },
     "execution_count": 5,
     "metadata": {},
     "output_type": "execute_result"
    }
   ],
   "source": [
    "function OLS_chol(y, X)\n",
    "    X′X_chol = cholfact(X'X)\n",
    "    X′X_chol\\(X'*y)\n",
    "end\n",
    "\n",
    "# test and print result side by side for quick sanity check\n",
    "β̂_chol = OLS_chol(y, X)\n",
    "hcat(β̂_chol, β)"
   ]
  },
  {
   "cell_type": "markdown",
   "metadata": {},
   "source": [
    "### QR Factorization\n",
    "We decompose $X$ to its orthogonal [QR decomposition](https://en.wikipedia.org/wiki/QR_decomposition):\n",
    "$$X = Q\\begin{bmatrix}\n",
    "R \\\\\n",
    "0\n",
    "\\end{bmatrix} $$\n",
    "with $Q\\in\\mathbb{R}^{N\\times N} $ an [orthogonal matrix](https://en.wikipedia.org/wiki/Orthogonal_matrix) and $R\\in\\mathbb{R}^{k\\times k}$ an upper triangular matrix (with positive diagonal elements).\n",
    "The solution is then given by\n",
    "$$R \\hat\\beta =\\left(Q' \\mathbf y \\right)_K$$\n",
    "\n",
    "This is the default method in Julia for solving OLS (for non-square matrix $X$) with `β̂ = X\\y`"
   ]
  },
  {
   "cell_type": "code",
   "execution_count": 6,
   "metadata": {
    "collapsed": false
   },
   "outputs": [
    {
     "data": {
      "text/plain": [
       "OLS_qr (generic function with 1 method)"
      ]
     },
     "execution_count": 6,
     "metadata": {},
     "output_type": "execute_result"
    }
   ],
   "source": [
    "function OLS_qr(y, X)\n",
    "    X_qr = qrfact(X)\n",
    "    X_qr \\ y\n",
    "end\n"
   ]
  },
  {
   "cell_type": "code",
   "execution_count": 7,
   "metadata": {
    "collapsed": false
   },
   "outputs": [
    {
     "data": {
      "text/plain": [
       "5×2 Array{Float64,2}:\n",
       "  2.19354    2.1908  \n",
       " -0.763111  -0.758047\n",
       "  1.02621    1.03849 \n",
       "  1.29059    1.27825 \n",
       "  1.59663    1.59965 "
      ]
     },
     "execution_count": 7,
     "metadata": {},
     "output_type": "execute_result"
    }
   ],
   "source": [
    "β̂_qr = OLS_qr(y, X)\n",
    "hcat(β̂_qr, β)"
   ]
  },
  {
   "cell_type": "markdown",
   "metadata": {},
   "source": [
    "### SVD\n",
    "Another orthogonal decomposition uses the [singular value decomposition](https://en.wikipedia.org/wiki/Singular_value_decomposition) (SVD) of $X$:\n",
    "$$X = U \\Sigma V'$$\n",
    "with $U \\in\\mathbb{R}^{N\\times N}$ and $V \\in\\mathbb{R}^{K\\times K}$ both an orthogonal matrix, and $\\Sigma\\in\\mathbb{R}^{N\\times K}$ a diagonal matrix. SVD can transform any matrix into a diagonal matrix with the right choice of orthogonal coordinate systems for its domain and range. This even works for rank deficient matrices and is numerically stable! In such an ill-conditioned system, SVD will return the solution $\\hat\\beta$ that has the smallest norm.\n",
    "\n",
    "\n"
   ]
  },
  {
   "cell_type": "code",
   "execution_count": 8,
   "metadata": {
    "collapsed": false
   },
   "outputs": [
    {
     "data": {
      "text/plain": [
       "OLS_svd (generic function with 1 method)"
      ]
     },
     "execution_count": 8,
     "metadata": {},
     "output_type": "execute_result"
    }
   ],
   "source": [
    "function OLS_svd(y, X)\n",
    "    X_svd = svdfact(X)\n",
    "    X_svd \\ y\n",
    "end"
   ]
  },
  {
   "cell_type": "code",
   "execution_count": 9,
   "metadata": {
    "collapsed": false
   },
   "outputs": [
    {
     "data": {
      "text/plain": [
       "5×2 Array{Float64,2}:\n",
       "  2.19354    2.1908  \n",
       " -0.763111  -0.758047\n",
       "  1.02621    1.03849 \n",
       "  1.29059    1.27825 \n",
       "  1.59663    1.59965 "
      ]
     },
     "execution_count": 9,
     "metadata": {},
     "output_type": "execute_result"
    }
   ],
   "source": [
    "β̂_svd = OLS_svd(y, X)\n",
    "hcat(β̂_svd, β)"
   ]
  },
  {
   "cell_type": "markdown",
   "metadata": {},
   "source": [
    "## Numerical Stability\n",
    "We now test numerical stability (example 3.5 in [1]) with \n",
    "$$X^s = \\begin{bmatrix}\n",
    "1 & 1\\\\\n",
    "1 & 1+\\epsilon\n",
    "\\end{bmatrix}, \n",
    "y^s = \\begin{bmatrix}\n",
    "2 \\\\\n",
    "2 \n",
    "\\end{bmatrix}$$\n",
    "This gives the solution $\\hat\\beta=\\begin{bmatrix}2 & 0\\end{bmatrix}'$ .\n",
    "\n",
    "This system is ill-conditioned because a slight perturbation in $$y^s_e = \\begin{bmatrix}\n",
    "2 \\\\\n",
    "2 + \\epsilon\n",
    "\\end{bmatrix}$$\n",
    "gives the compeltely different solution $\\hat\\beta=\\begin{bmatrix}1 & 1\\end{bmatrix}'$\n",
    "\n",
    "We show that methods using the normal equations do not find the second solution.\n",
    "\n",
    "[1]: Numerically Efficient Methods for Solving Least Squares Problems, Do Q Lee."
   ]
  },
  {
   "cell_type": "code",
   "execution_count": 10,
   "metadata": {
    "collapsed": false
   },
   "outputs": [
    {
     "data": {
      "text/plain": [
       "2-element Array{Float64,1}:\n",
       " 2.0\n",
       " 0.0"
      ]
     },
     "execution_count": 10,
     "metadata": {},
     "output_type": "execute_result"
    }
   ],
   "source": [
    "ϵ = 1e-7\n",
    "Xˢ = [1 1;1 1+ϵ]\n",
    "yˢ = [2; 2]\n",
    "OLS_normal(yˢ, Xˢ)"
   ]
  },
  {
   "cell_type": "code",
   "execution_count": 11,
   "metadata": {
    "collapsed": false
   },
   "outputs": [
    {
     "name": "stdout",
     "output_type": "stream",
     "text": [
      "OLS_normal(yˢₑ,Xˢ) = [0.75,1.125]\n",
      "OLS_chol(yˢₑ,Xˢ) = [0.727273,1.27273]\n"
     ]
    }
   ],
   "source": [
    "yˢₑ = [2; 2+ϵ]\n",
    "@show OLS_normal(yˢₑ, Xˢ)\n",
    "@show OLS_chol(  yˢₑ, Xˢ);"
   ]
  },
  {
   "cell_type": "code",
   "execution_count": 12,
   "metadata": {
    "collapsed": false
   },
   "outputs": [
    {
     "name": "stdout",
     "output_type": "stream",
     "text": [
      "OLS_qr(yˢₑ,Xˢ) = [1.0,1.0]\n",
      "OLS_svd(yˢₑ,Xˢ) = [1.0,1.0]\n"
     ]
    }
   ],
   "source": [
    "@show OLS_qr( yˢₑ, Xˢ)\n",
    "@show OLS_svd(yˢₑ, Xˢ);"
   ]
  },
  {
   "cell_type": "markdown",
   "metadata": {},
   "source": [
    "# Case "
   ]
  },
  {
   "cell_type": "code",
   "execution_count": 13,
   "metadata": {
    "collapsed": true
   },
   "outputs": [],
   "source": [
    "type OLSresult\n",
    "    coefs\n",
    "    se\n",
    "    tstats\n",
    "    p\n",
    "    res\n",
    "end"
   ]
  },
  {
   "cell_type": "code",
   "execution_count": 14,
   "metadata": {
    "collapsed": true
   },
   "outputs": [],
   "source": [
    "using Distributions"
   ]
  },
  {
   "cell_type": "code",
   "execution_count": null,
   "metadata": {
    "collapsed": true
   },
   "outputs": [],
   "source": [
    "1+1"
   ]
  },
  {
   "cell_type": "code",
   "execution_count": null,
   "metadata": {
    "collapsed": true
   },
   "outputs": [],
   "source": [
    "TDist()"
   ]
  },
  {
   "cell_type": "code",
   "execution_count": null,
   "metadata": {
    "collapsed": true
   },
   "outputs": [],
   "source": [
    "function LS(y, X; correction= :none)\n",
    "    if correcton = :none\n",
    "        β̂ = OLS_svd(y, X)\n",
    "        μ̂ = X*β̂ - y\n",
    "        "
   ]
  },
  {
   "cell_type": "code",
   "execution_count": null,
   "metadata": {
    "collapsed": true
   },
   "outputs": [],
   "source": [
    "u"
   ]
  },
  {
   "cell_type": "markdown",
   "metadata": {},
   "source": [
    "### Advanced methods\n",
    "Several advanced methods exist such as [bayesian OLS](https://en.wikipedia.org/wiki/Bayesian_linear_regression) (with possible priors), sparse OLS solvers, and iterative solvers. Several other methods for OLS exist , "
   ]
  },
  {
   "cell_type": "code",
   "execution_count": 1,
   "metadata": {
    "collapsed": false
   },
   "outputs": [],
   "source": [
    "using IterativeSolvers"
   ]
  },
  {
   "cell_type": "code",
   "execution_count": 5,
   "metadata": {
    "collapsed": false
   },
   "outputs": [
    {
     "data": {
      "text/plain": [
       "OLS_lsmr (generic function with 1 method)"
      ]
     },
     "execution_count": 5,
     "metadata": {},
     "output_type": "execute_result"
    }
   ],
   "source": [
    "OLS_lsmr(y, X) = lsmr(X, y)"
   ]
  },
  {
   "cell_type": "code",
   "execution_count": 6,
   "metadata": {
    "collapsed": false
   },
   "outputs": [
    {
     "data": {
      "text/plain": [
       "5×2 Array{Float64,2}:\n",
       " -0.673437  -0.671959\n",
       "  0.998477   0.993547\n",
       "  0.566924   0.567868\n",
       " -0.930122  -0.928808\n",
       "  0.367578   0.34622 "
      ]
     },
     "execution_count": 6,
     "metadata": {},
     "output_type": "execute_result"
    }
   ],
   "source": [
    "β̂_lsmr = OLS_lsmr(y, X)\n",
    "hcat(β̂_lsmr, β)"
   ]
  },
  {
   "cell_type": "markdown",
   "metadata": {},
   "source": [
    "(also exists [James-Stein estimator](https://en.wikipedia.org/wiki/James%E2%80%93Stein_estimator))"
   ]
  },
  {
   "cell_type": "code",
   "execution_count": null,
   "metadata": {
    "collapsed": true
   },
   "outputs": [],
   "source": []
  }
 ],
 "metadata": {
  "anaconda-cloud": {},
  "celltoolbar": "Slideshow",
  "kernelspec": {
   "display_name": "Julia 0.5.0",
   "language": "julia",
   "name": "julia-0.5"
  },
  "language_info": {
   "file_extension": ".jl",
   "mimetype": "application/julia",
   "name": "julia",
   "version": "0.5.0"
  }
 },
 "nbformat": 4,
 "nbformat_minor": 2
}
