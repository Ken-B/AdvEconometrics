{
 "cells": [
  {
   "cell_type": "markdown",
   "metadata": {},
   "source": [
    "# LS solver"
   ]
  },
  {
   "cell_type": "markdown",
   "metadata": {},
   "source": [
    "*Advanced Econometrics 2016-2017. Case 1, least squares (LS) implementation.*"
   ]
  },
  {
   "cell_type": "markdown",
   "metadata": {},
   "source": [
    "## Problem\n",
    "Ordinary Least Squares (OLS) is a solution for a system of linear equations by minimizing the sum of squared differences between the observed values ($y$) and the corresponding modelled values ($\\hat y = X \\hat\\beta$).\n",
    "\n",
    "A system of equations is given by\n",
    "$$ y_i = \\beta_1 + \\beta_2 X_{i2}  + \\beta_3 X_{i3}  + ... + \\beta_K X_{iK} + \\mu_i,  \\quad i=1,...,N$$\n",
    "\n",
    "or in matrix notation\n",
    "$$ y = X \\beta + \\mu$$\n",
    "\n",
    "with $y, \\mu \\in \\mathbb{R}^{N\\times1}$, $X \\in \\mathbb{R}^{N\\times K}$ and $\\beta \\in \\mathbb{R}^{K\\times 1}$.\n",
    "\n",
    "The OLS solves\n",
    "$$\\operatorname{\\,min} \\, \\big\\|y - X \\hat\\beta \\big\\|^2$$\n",
    "that with some algebra leads to the [normal equations](https://en.wikipedia.org/wiki/Normal_equations) \n",
    "$$ X' X\\beta = X'y$$ "
   ]
  },
  {
   "cell_type": "markdown",
   "metadata": {},
   "source": [
    "## Solution\n",
    "\n",
    "### Normal equations\n",
    "\n",
    "In case of a [rank][1] complete matrix $X$ the normal equations can be solved by inverting the ([Gram](https://en.wikipedia.org/wiki/Gramian_matrix)) matrix $X'X$ such that $\\hat\\beta = (X'X)^{-1}Xy$.\n",
    "\n",
    "As X'X is a symmetric, positive definite matrix it's computationally more efficient to use the cholesky decomposition of $X'X = LL'$ with $L$ a lower triangular matrix. This gives $LL'\\hat\\beta = X'y$. First solve $Lz = X'y$ for $z$ by [forward substitution](https://en.wikipedia.org/wiki/Forward_substitution) and then $L'\\hat\\beta = z$ for $\\beta$ by backward substitution.\n",
    "\n",
    "However, solving the normal equations is numerically unstable, i.e. it is very sensitive to small pertubations in $X$. The [condition number](https://en.wikipedia.org/wiki/Condition_number) $\\kappa$ of the system is worsened: $\\kappa(X'X) = [\\kappa(X)]^2$. We show the impact below.\n",
    "\n",
    "[1]: https://en.wikipedia.org/wiki/Rank_(linear_algebra)"
   ]
  },
  {
   "cell_type": "markdown",
   "metadata": {},
   "source": [
    "We first simulate some parameters and data using the same notation as in the slides."
   ]
  },
  {
   "cell_type": "code",
   "execution_count": 29,
   "metadata": {
    "collapsed": false
   },
   "outputs": [],
   "source": [
    "K = 5   # number of parameters\n",
    "N = 100 # number of observations\n",
    "\n",
    "# Create actual parameters and observations\n",
    "β = randn(K)\n",
    "X = randn(N, K)\n",
    "X[:,1] = ones(N) # intercept\n",
    "σ = 0.1\n",
    "μ = randn(N) * σ # ~ N(0,1)\n",
    "y = X * β + μ;"
   ]
  },
  {
   "cell_type": "code",
   "execution_count": 2,
   "metadata": {
    "collapsed": false
   },
   "outputs": [
    {
     "data": {
      "text/plain": [
       "5×2 Array{Float64,2}:\n",
       "  1.39878    1.39357 \n",
       " -0.230888  -0.22643 \n",
       " -1.35612   -1.3652  \n",
       "  0.538232   0.551479\n",
       " -0.218218  -0.219672"
      ]
     },
     "execution_count": 2,
     "metadata": {},
     "output_type": "execute_result"
    }
   ],
   "source": [
    "#define function\n",
    "OLS_normal(y, X) = inv(X'X) * X'y\n",
    "\n",
    "# test and print result side by side for quick sanity check\n",
    "β̂_normal = OLS_normal(y, X)\n",
    "hcat(β̂_normal, β)"
   ]
  },
  {
   "cell_type": "code",
   "execution_count": 4,
   "metadata": {
    "collapsed": false
   },
   "outputs": [
    {
     "data": {
      "text/plain": [
       "5×2 Array{Float64,2}:\n",
       "  1.39878    1.39357 \n",
       " -0.230888  -0.22643 \n",
       " -1.35612   -1.3652  \n",
       "  0.538232   0.551479\n",
       " -0.218218  -0.219672"
      ]
     },
     "execution_count": 4,
     "metadata": {},
     "output_type": "execute_result"
    }
   ],
   "source": [
    "function OLS_chol(y, X)\n",
    "    X′X_chol = cholfact(X'X)\n",
    "    X′X_chol\\(X'*y)\n",
    "end\n",
    "\n",
    "# test and print result side by side for quick sanity check\n",
    "β̂_chol = OLS_chol(y, X)\n",
    "hcat(β̂_chol, β)"
   ]
  },
  {
   "cell_type": "markdown",
   "metadata": {},
   "source": [
    "### QR Factorization\n",
    "We decompose $X$ to its orthogonal [QR decomposition](https://en.wikipedia.org/wiki/QR_decomposition):\n",
    "$$X = Q\\begin{bmatrix}\n",
    "R \\\\\n",
    "0\n",
    "\\end{bmatrix} $$\n",
    "with $Q\\in\\mathbb{R}^{N\\times N} $ an [orthogonal matrix](https://en.wikipedia.org/wiki/Orthogonal_matrix) and $R\\in\\mathbb{R}^{k\\times k}$ an upper triangular matrix (with positive diagonal elements).\n",
    "The solution is then given by\n",
    "$$R \\hat\\beta =\\left(Q' \\mathbf y \\right)_K$$\n",
    "\n",
    "This is the default method in Julia for solving OLS (for non-square matrix $X$) with `β̂ = X\\y`"
   ]
  },
  {
   "cell_type": "code",
   "execution_count": 26,
   "metadata": {
    "collapsed": false
   },
   "outputs": [
    {
     "name": "stderr",
     "output_type": "stream",
     "text": [
      "WARNING: Method definition OLS_qr(Any, Any) in module Main at In[9]:2 overwritten at In[26]:2.\n"
     ]
    },
    {
     "data": {
      "text/plain": [
       "OLS_qr (generic function with 1 method)"
      ]
     },
     "execution_count": 26,
     "metadata": {},
     "output_type": "execute_result"
    }
   ],
   "source": [
    "function OLS_qr(y, X)\n",
    "    X_qr = qrfact(X)\n",
    "    X_qr \\ y\n",
    "end\n"
   ]
  },
  {
   "cell_type": "code",
   "execution_count": 36,
   "metadata": {
    "collapsed": false
   },
   "outputs": [
    {
     "data": {
      "text/plain": [
       "5×2 Array{Float64,2}:\n",
       " -0.959486   -0.97892  \n",
       " -1.50845    -1.50726  \n",
       "  0.0682501   0.0591163\n",
       "  0.645577    0.640026 \n",
       "  0.520167    0.504102 "
      ]
     },
     "execution_count": 36,
     "metadata": {},
     "output_type": "execute_result"
    }
   ],
   "source": [
    "β̂_qr = OLS_qr(y, X)\n",
    "hcat(β̂_qr, β)"
   ]
  },
  {
   "cell_type": "markdown",
   "metadata": {},
   "source": [
    "### SVD\n",
    "Another orthogonal decomposition uses the [singular value decomposition](https://en.wikipedia.org/wiki/Singular_value_decomposition) (SVD) of $X$:\n",
    "$$X = U \\Sigma V'$$\n",
    "with both $U \\in\\mathbb{R}^{N\\times N}$ and $V \\in\\mathbb{R}^{K\\times K}$ an orthogonal matrix, and $\\Sigma\\in\\mathbb{R}^{N\\times K}$ a diagonal matrix. SVD can transform any matrix into a diagonal matrix with the right choice of orthogonal coordinate systems for its domain and range. This even works for rand deficient matrices and is numerically stable! In such an ill-conditioned system, SVD will return the solution $\\hat\\beta$ that has the smallest norm.\n",
    "\n",
    "\n"
   ]
  },
  {
   "cell_type": "code",
   "execution_count": 37,
   "metadata": {
    "collapsed": false
   },
   "outputs": [
    {
     "name": "stderr",
     "output_type": "stream",
     "text": [
      "WARNING: Method definition OLS_svd(Any, Any) in module Main at In[35]:2 overwritten at In[37]:2.\n"
     ]
    },
    {
     "data": {
      "text/plain": [
       "OLS_svd (generic function with 1 method)"
      ]
     },
     "execution_count": 37,
     "metadata": {},
     "output_type": "execute_result"
    }
   ],
   "source": [
    "function OLS_svd(y, X)\n",
    "    X_svd = svdfact(X)\n",
    "    X_svd \\ y\n",
    "end"
   ]
  },
  {
   "cell_type": "code",
   "execution_count": 44,
   "metadata": {
    "collapsed": false
   },
   "outputs": [
    {
     "data": {
      "text/plain": [
       "5×2 Array{Float64,2}:\n",
       " -0.959486   -0.97892  \n",
       " -1.50845    -1.50726  \n",
       "  0.0682501   0.0591163\n",
       "  0.645577    0.640026 \n",
       "  0.520167    0.504102 "
      ]
     },
     "execution_count": 44,
     "metadata": {},
     "output_type": "execute_result"
    }
   ],
   "source": [
    "β̂_svd = OLS_svd(y, X)\n",
    "hcat(β̂_svd, β)"
   ]
  },
  {
   "cell_type": "markdown",
   "metadata": {},
   "source": [
    "## Numerical Stability\n",
    "We now test numerical stability (example 3.5 in [1]) with \n",
    "$$X^s = \\begin{bmatrix}\n",
    "1 & 1\\\\\n",
    "1 & 1+\\epsilon\n",
    "\\end{bmatrix}, \n",
    "y^s = \\begin{bmatrix}\n",
    "2 \\\\\n",
    "2 \n",
    "\\end{bmatrix}$$\n",
    "This gives the solution $\\hat\\beta=\\begin{bmatrix}2 & 0\\end{bmatrix}'$ .\n",
    "\n",
    "This system is ill-conditioned because a slight perturbation in $$y^s_e = \\begin{bmatrix}\n",
    "2 \\\\\n",
    "2 + \\epsilon\n",
    "\\end{bmatrix}$$\n",
    "gives the compeltely different solution $\\hat\\beta=\\begin{bmatrix}1 & 1\\end{bmatrix}'$\n",
    "\n",
    "We show that methods using the normal equations do not find the second solution.\n",
    "\n",
    "[1]: Numerically Efficient Methods for Solving Least Squares Problems, Do Q Lee."
   ]
  },
  {
   "cell_type": "code",
   "execution_count": 39,
   "metadata": {
    "collapsed": false
   },
   "outputs": [
    {
     "data": {
      "text/plain": [
       "2-element Array{Float64,1}:\n",
       " 2.0\n",
       " 0.0"
      ]
     },
     "execution_count": 39,
     "metadata": {},
     "output_type": "execute_result"
    }
   ],
   "source": [
    "ϵ = 1e-7\n",
    "Xˢ = [1 1;1 1+ϵ]\n",
    "yˢ = [2; 2]\n",
    "OLS_normal(yˢ, Xˢ)"
   ]
  },
  {
   "cell_type": "code",
   "execution_count": 50,
   "metadata": {
    "collapsed": false
   },
   "outputs": [
    {
     "name": "stdout",
     "output_type": "stream",
     "text": [
      "OLS_normal(yˢₑ,Xˢ) = [0.75,1.125]\n",
      "OLS_chol(yˢₑ,Xˢ) = [0.727273,1.27273]\n"
     ]
    }
   ],
   "source": [
    "yˢₑ = [2; 2+ϵ]\n",
    "@show OLS_normal(yˢₑ, Xˢ)\n",
    "@show OLS_chol(  yˢₑ, Xˢ);"
   ]
  },
  {
   "cell_type": "code",
   "execution_count": 52,
   "metadata": {
    "collapsed": false
   },
   "outputs": [
    {
     "name": "stdout",
     "output_type": "stream",
     "text": [
      "OLS_qr(yˢₑ,Xˢ) = [1.0,1.0]\n",
      "OLS_svd(yˢₑ,Xˢ) = [1.0,1.0]\n"
     ]
    }
   ],
   "source": [
    "@show OLS_qr( yˢₑ, Xˢ)\n",
    "@show OLS_svd(yˢₑ, Xˢ);"
   ]
  },
  {
   "cell_type": "markdown",
   "metadata": {},
   "source": [
    "### Advanced methods\n",
    "* [James-Stein estimator](https://en.wikipedia.org/wiki/James%E2%80%93Stein_estimator)\n",
    "* "
   ]
  },
  {
   "cell_type": "code",
   "execution_count": 53,
   "metadata": {
    "collapsed": false
   },
   "outputs": [
    {
     "name": "stderr",
     "output_type": "stream",
     "text": [
      "\u001b[1m\u001b[34mINFO: Recompiling stale cache file /Users/ken/.julia/lib/v0.5/IterativeSolvers.ji for module IterativeSolvers.\n",
      "\u001b[0m"
     ]
    }
   ],
   "source": [
    "using IterativeSolvers"
   ]
  },
  {
   "cell_type": "code",
   "execution_count": 77,
   "metadata": {
    "collapsed": false
   },
   "outputs": [
    {
     "data": {
      "text/plain": [
       "([-0.959486,-1.50845,0.0682501,0.645577,0.520167],IterativeSolvers.ConvergenceHistory{Tuple{Float64,Float64,Float64},Array{Float64,1}}(true,(1.4901161193847656e-8,1.4901161193847656e-8,6.7108864e7),12,[3.59688,1.11312,1.06635,1.0658,1.0658]))"
      ]
     },
     "execution_count": 77,
     "metadata": {},
     "output_type": "execute_result"
    }
   ],
   "source": [
    "lsqr(X, y)"
   ]
  },
  {
   "cell_type": "code",
   "execution_count": 71,
   "metadata": {
    "collapsed": false
   },
   "outputs": [],
   "source": [
    "using PlotRecipes"
   ]
  },
  {
   "cell_type": "code",
   "execution_count": 72,
   "metadata": {
    "collapsed": false
   },
   "outputs": [
    {
     "ename": "LoadError",
     "evalue": "In convertToAnyVector, could not handle the argument types: (IterativeSolvers.ConvergenceHistory{Tuple{Float64,Float64,Float64},Array{Float64,1}},)",
     "output_type": "error",
     "traceback": [
      "In convertToAnyVector, could not handle the argument types: (IterativeSolvers.ConvergenceHistory{Tuple{Float64,Float64,Float64},Array{Float64,1}},)",
      "",
      " in macro expansion at /Users/ken/.julia/v0.5/Plots/src/series.jl:129 [inlined]",
      " in apply_recipe(::Dict{Symbol,Any}, ::Type{Plots.SliceIt}, ::Void, ::IterativeSolvers.ConvergenceHistory{Tuple{Float64,Float64,Float64},Array{Float64,1}}, ::Void) at /Users/ken/.julia/v0.5/RecipesBase/src/RecipesBase.jl:238",
      " in _process_userrecipes(::Plots.Plot{Plots.PyPlotBackend}, ::Dict{Symbol,Any}, ::Tuple{IterativeSolvers.ConvergenceHistory{Tuple{Float64,Float64,Float64},Array{Float64,1}}}) at /Users/ken/.julia/v0.5/Plots/src/pipeline.jl:73",
      " in _plot!(::Plots.Plot{Plots.PyPlotBackend}, ::Dict{Symbol,Any}, ::Tuple{IterativeSolvers.ConvergenceHistory{Tuple{Float64,Float64,Float64},Array{Float64,1}}}) at /Users/ken/.julia/v0.5/Plots/src/plot.jl:171",
      " in plot(::IterativeSolvers.ConvergenceHistory{Tuple{Float64,Float64,Float64},Array{Float64,1}}) at /Users/ken/.julia/v0.5/Plots/src/plot.jl:46"
     ]
    }
   ],
   "source": [
    "plot(ch)"
   ]
  },
  {
   "cell_type": "code",
   "execution_count": 63,
   "metadata": {
    "collapsed": false
   },
   "outputs": [
    {
     "ename": "LoadError",
     "evalue": "unsatisfiable package requirements detected: no feasible version could be found for package: MultiScaleArrays\n  (you may try increasing the value of the\n   JULIA_PKGRESOLVE_ACCURACY environment variable)\n in resolve(::Dict{String,Base.Pkg.Types.VersionSet}, ::Dict{String,Dict{VersionNumber,Base.Pkg.Types.Available}}) at /Applications/Julia-0.5.app/Contents/Resources/julia/lib/julia/sys.dylib:? (repeats 2 times)\n in resolve(::Dict{String,Base.Pkg.Types.VersionSet}, ::Dict{String,Dict{VersionNumber,Base.Pkg.Types.Available}}, ::Dict{String,Tuple{VersionNumber,Bool}}, ::Dict{String,Base.Pkg.Types.Fixed}) at ./pkg/entry.jl:476\n in edit(::Function, ::String, ::Base.Pkg.Types.VersionSet, ::Vararg{Base.Pkg.Types.VersionSet,N}) at ./pkg/entry.jl:30\n in (::Base.Pkg.Entry.##2#5{String,Base.Pkg.Types.VersionSet})() at ./task.jl:360",
     "output_type": "error",
     "traceback": [
      "unsatisfiable package requirements detected: no feasible version could be found for package: MultiScaleArrays\n  (you may try increasing the value of the\n   JULIA_PKGRESOLVE_ACCURACY environment variable)\n in resolve(::Dict{String,Base.Pkg.Types.VersionSet}, ::Dict{String,Dict{VersionNumber,Base.Pkg.Types.Available}}) at /Applications/Julia-0.5.app/Contents/Resources/julia/lib/julia/sys.dylib:? (repeats 2 times)\n in resolve(::Dict{String,Base.Pkg.Types.VersionSet}, ::Dict{String,Dict{VersionNumber,Base.Pkg.Types.Available}}, ::Dict{String,Tuple{VersionNumber,Bool}}, ::Dict{String,Base.Pkg.Types.Fixed}) at ./pkg/entry.jl:476\n in edit(::Function, ::String, ::Base.Pkg.Types.VersionSet, ::Vararg{Base.Pkg.Types.VersionSet,N}) at ./pkg/entry.jl:30\n in (::Base.Pkg.Entry.##2#5{String,Base.Pkg.Types.VersionSet})() at ./task.jl:360",
      "",
      " in sync_end() at /Applications/Julia-0.5.app/Contents/Resources/julia/lib/julia/sys.dylib:?",
      " in macro expansion at ./task.jl:327 [inlined]",
      " in add(::String, ::Base.Pkg.Types.VersionSet) at ./pkg/entry.jl:51",
      " in (::Base.Pkg.Dir.##2#3{Array{Any,1},Base.Pkg.Entry.#add,Tuple{String}})() at ./pkg/dir.jl:31",
      " in cd(::Base.Pkg.Dir.##2#3{Array{Any,1},Base.Pkg.Entry.#add,Tuple{String}}, ::String) at ./file.jl:59",
      " in #cd#1(::Array{Any,1}, ::Function, ::Function, ::String, ::Vararg{Any,N}) at /Applications/Julia-0.5.app/Contents/Resources/julia/lib/julia/sys.dylib:?",
      " in add(::String) at ./pkg/pkg.jl:100"
     ]
    }
   ],
   "source": [
    "Pkg.add(\"IterativeSolvers\")"
   ]
  },
  {
   "cell_type": "markdown",
   "metadata": {},
   "source": [
    "hat can be solved by the (Moore-Penrose) [pseudo-inverse](https://en.wikipedia.org/wiki/Moore–Penrose_pseudoinverse) $X^+$ such that $\\hat\\beta = X^+ y$. \n",
    "\n"
   ]
  },
  {
   "cell_type": "code",
   "execution_count": null,
   "metadata": {
    "collapsed": true
   },
   "outputs": [],
   "source": [
    "function LS(y, X, )"
   ]
  },
  {
   "cell_type": "code",
   "execution_count": null,
   "metadata": {
    "collapsed": true
   },
   "outputs": [],
   "source": []
  },
  {
   "cell_type": "code",
   "execution_count": null,
   "metadata": {
    "collapsed": true
   },
   "outputs": [],
   "source": []
  },
  {
   "cell_type": "code",
   "execution_count": 178,
   "metadata": {
    "collapsed": false
   },
   "outputs": [
    {
     "data": {
      "text/plain": [
       "(0.20406622789422657,0.05)"
      ]
     },
     "execution_count": 178,
     "metadata": {},
     "output_type": "execute_result"
    }
   ],
   "source": [
    "# |β̂_naive - β| ~ σ, √K, 1/√N\n",
    "norm(β̂_naive - β),  σ * √K / √N # up to constant≈3"
   ]
  }
 ],
 "metadata": {
  "anaconda-cloud": {},
  "kernelspec": {
   "display_name": "Julia 0.5.0",
   "language": "julia",
   "name": "julia-0.5"
  },
  "language_info": {
   "file_extension": ".jl",
   "mimetype": "application/julia",
   "name": "julia",
   "version": "0.5.0"
  }
 },
 "nbformat": 4,
 "nbformat_minor": 2
}
